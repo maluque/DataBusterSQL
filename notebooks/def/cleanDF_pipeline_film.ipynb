{
 "cells": [
  {
   "cell_type": "markdown",
   "id": "489257d3",
   "metadata": {},
   "source": [
    "## A common pipeline to clean dataframes\n",
    "\n",
    "\n",
    "0. Import modules\n",
    "1. Normalize column names\n",
    "2. Eval misspelling in object non-date columns\n",
    "3. Eval & Drop duplicates without index_id `mlg.DF_wo_colX(df, colnames)`\n",
    "4. Check NAs `mlg.na_absperc(df)`\n",
    "    - By Columns\n",
    "    - By Rows\n",
    "5. Eval 'unique/freq ratio'`mlg.categ_summ(df)`\n",
    "6. Eval Data types\n",
    "7. Save the cleaned dataframe"
   ]
  },
  {
   "cell_type": "markdown",
   "id": "064c56ea",
   "metadata": {},
   "source": [
    "## Summary of cleaning `film.csv`\n",
    "\n",
    "\n",
    "**Original film.csv** had 1000 rows and 13 columns `['film_id', 'title', 'description', 'release_year', 'language_id','original_language_id', 'rental_duration', 'rental_rate', 'length','replacement_cost', 'rating', 'special_features', 'last_update']`\n",
    "\n",
    "* 1. No column name to normalize\n",
    "* 2. No misspelling values\n",
    "* 3. No duplicated rows\n",
    "* 4. I **droped `original_language_id`** column as it had 100% NA's\n",
    "* 5. Nothing striking from unique/freq ratio analysis\n",
    "* 6. No data type to transform\n",
    "* 7. I splited the dataframe into two entities and saved them into separate files: <br/>\n",
    "    - `clean/films.csv`\n",
    "    - `clean/special_feature1.csv` \n",
    "* Extra: I review the DFs and checked there were not misspelling errors\n",
    "\n",
    "**Cleaned film1.csv** has 1000 rows and 11 columns<br/>  `['film_id', 'title', 'description', 'release_year', 'language_id', 'rental_duration', 'rental_rate', 'length','replacement_cost', 'rating','last_update']`<br/> \n",
    "\n",
    "**Cleaned special_feature1.csv** has 2115 rows and 2 columns `['film_id', 'special_features']`"
   ]
  },
  {
   "cell_type": "markdown",
   "id": "5bc67cdd",
   "metadata": {},
   "source": [
    "### 0. Import modules\n",
    "\n",
    "First things first!!\n",
    "\n",
    "We need to import modules and set default notebook properties as;\n",
    "\n",
    "- leading with warnings or\n",
    "- defining how we want to display the outputs and plots.\n",
    "\n",
    "I will also import my own modulemlgfrom scr/dataanalysis1.py.\n",
    "When I make modifications in my functions, I need to detatch the module and load it again!"
   ]
  },
  {
   "cell_type": "code",
   "execution_count": 12,
   "id": "b189f3cc",
   "metadata": {},
   "outputs": [],
   "source": [
    "# Import modules etc\n",
    "\n",
    "import pandas as pd\n",
    "import numpy as np\n",
    "import re\n",
    "\n",
    "np.random.seed(42)\n",
    "pd.set_option('display.max_columns', None) # show all the columns\n",
    "\n",
    "# print the plot in the jupyter output\n",
    "%matplotlib inline \n",
    "\n",
    "import warnings\n",
    "warnings.filterwarnings('ignore') # ignorar warnings\n",
    "\n",
    "import pylab as plt   # import matplotlib.pyplot as plt\n",
    "import seaborn as sns\n",
    "import fuzzywuzzy as fzw\n",
    "\n",
    "# Import my module\n",
    "from src import dataanalysis_fun1 as mlg "
   ]
  },
  {
   "cell_type": "code",
   "execution_count": 13,
   "id": "06b8d1a4",
   "metadata": {},
   "outputs": [],
   "source": [
    "# Reload my module if neccessary\n",
    "\n",
    "import importlib\n",
    "from src import dataanalysis_fun1 as mlg # Import the module\n",
    "#importlib.reload(mlg)  # Reload the module\n",
    "\n",
    "# Suppress warning when reloading the module\n",
    "with warnings.catch_warnings():\n",
    "    warnings.simplefilter(\"ignore\") \n",
    "    importlib.reload(mlg)  # Reload the module"
   ]
  },
  {
   "cell_type": "code",
   "execution_count": 14,
   "id": "d93b8ba3",
   "metadata": {},
   "outputs": [],
   "source": [
    "DF_raw = pd.read_csv('../../data/raw/film.csv')"
   ]
  },
  {
   "cell_type": "markdown",
   "id": "a8d0435a",
   "metadata": {},
   "source": [
    "### 1. Normalize column names"
   ]
  },
  {
   "cell_type": "code",
   "execution_count": 15,
   "id": "ba4759fc",
   "metadata": {},
   "outputs": [
    {
     "data": {
      "text/plain": [
       "Index(['film_id', 'title', 'description', 'release_year', 'language_id',\n",
       "       'original_language_id', 'rental_duration', 'rental_rate', 'length',\n",
       "       'replacement_cost', 'rating', 'special_features', 'last_update'],\n",
       "      dtype='object')"
      ]
     },
     "metadata": {},
     "output_type": "display_data"
    },
    {
     "name": "stdout",
     "output_type": "stream",
     "text": [
      "Normalized column names: 0\n"
     ]
    }
   ],
   "source": [
    "display(DF_raw.columns)\n",
    "setA = set(DF_raw.columns)\n",
    "DF_raw=mlg.colnnam_clean(DF_raw)\n",
    "setB = set(DF_raw.columns)\n",
    "\n",
    "print(f'Normalized column names: {len(setB.difference(setA))}')"
   ]
  },
  {
   "cell_type": "markdown",
   "id": "96617159",
   "metadata": {},
   "source": [
    "### 2. Eval misspelling in object non-date columns"
   ]
  },
  {
   "cell_type": "code",
   "execution_count": 16,
   "id": "4c1133cd",
   "metadata": {},
   "outputs": [
    {
     "name": "stdout",
     "output_type": "stream",
     "text": [
      "FILM_ID  ---> Non object-Column or explicit date reference\n",
      "TITLE :\n",
      "title           \n",
      "ACADEMY DINOSAUR    1\n",
      "PERFECT GROOVE      1\n",
      "PARK CITIZEN        1\n",
      "PARTY KNOCK         1\n",
      "PAST SUICIDES       1\n",
      "                   ..\n",
      "FROGMEN BREAKING    1\n",
      "FRONTIER CABIN      1\n",
      "FROST HEAD          1\n",
      "FUGITIVE MAGUIRE    1\n",
      "ZORRO ARK           1\n",
      "Length: 1000, dtype: int64\n",
      "\n",
      "\n",
      "DESCRIPTION :\n",
      "description                                                                                                          \n",
      "A Action-Packed Character Study of a Astronaut And a Explorer who must Reach a Monkey in A MySQL Convention              1\n",
      "A Intrepid Tale of a Madman And a Astronaut who must Challenge a Hunter in A Monastery                                   1\n",
      "A Intrepid Saga of a Man And a Forensic Psychologist who must Reach a Squirrel in A Monastery                            1\n",
      "A Intrepid Saga of a Man And a Lumberjack who must Vanquish a Husband in The Outback                                     1\n",
      "A Intrepid Story of a Boy And a Technical Writer who must Pursue a Lumberjack in A Monastery                             1\n",
      "                                                                                                                        ..\n",
      "A Emotional Character Study of a Hunter And a Car who must Kill a Woman in Berlin                                        1\n",
      "A Emotional Character Study of a Pioneer And a Girl who must Discover a Dog in Ancient Japan                             1\n",
      "A Emotional Character Study of a Robot And a A Shark who must Defeat a Technical Writer in A Manhattan Penthouse         1\n",
      "A Emotional Character Study of a Student And a Explorer who must Discover a Frisbee in The First Manned Space Station    1\n",
      "A Unbelieveable Yarn of a Student And a Database Administrator who must Outgun a Husband in An Abandoned Mine Shaft      1\n",
      "Length: 1000, dtype: int64\n",
      "\n",
      "\n",
      "RELEASE_YEAR  ---> Non object-Column or explicit date reference\n",
      "LANGUAGE_ID  ---> Non object-Column or explicit date reference\n",
      "ORIGINAL_LANGUAGE_ID  ---> Non object-Column or explicit date reference\n",
      "RENTAL_DURATION  ---> Non object-Column or explicit date reference\n",
      "RENTAL_RATE  ---> Non object-Column or explicit date reference\n",
      "LENGTH  ---> Non object-Column or explicit date reference\n",
      "REPLACEMENT_COST  ---> Non object-Column or explicit date reference\n",
      "RATING :\n",
      "rating\n",
      "PG-13     223\n",
      "NC-17     210\n",
      "R         195\n",
      "PG        194\n",
      "G         178\n",
      "dtype: int64\n",
      "\n",
      "\n",
      "SPECIAL_FEATURES :\n",
      "special_features                                      \n",
      "Trailers,Commentaries,Behind the Scenes                   79\n",
      "Trailers                                                  72\n",
      "Trailers,Behind the Scenes                                72\n",
      "Trailers,Commentaries                                     72\n",
      "Deleted Scenes,Behind the Scenes                          71\n",
      "Behind the Scenes                                         70\n",
      "Commentaries,Behind the Scenes                            70\n",
      "Commentaries,Deleted Scenes,Behind the Scenes             66\n",
      "Trailers,Deleted Scenes                                   66\n",
      "Commentaries,Deleted Scenes                               65\n",
      "Trailers,Commentaries,Deleted Scenes                      64\n",
      "Commentaries                                              62\n",
      "Deleted Scenes                                            61\n",
      "Trailers,Commentaries,Deleted Scenes,Behind the Scenes    61\n",
      "Trailers,Deleted Scenes,Behind the Scenes                 49\n",
      "dtype: int64\n",
      "\n",
      "\n",
      "LAST_UPDATE  ---> Non object-Column or explicit date reference\n"
     ]
    }
   ],
   "source": [
    "for i in DF_raw.columns: \n",
    "    if (DF_raw[i].dtype == 'object') and (\"date\" not in i):\n",
    "        print(i.upper(), \":\")\n",
    "        DF_raw[i]=DF_raw[i].apply(lambda a: a.strip()) ## Remove leading and trailing spaces \n",
    "        print(DF_raw[[i]].value_counts())\n",
    "        print(\"\\n\")\n",
    "    else:\n",
    "        print(i.upper(), \" ---> Non object-Column or explicit date reference\")\n",
    "        pass"
   ]
  },
  {
   "cell_type": "markdown",
   "id": "c7ea4c47",
   "metadata": {},
   "source": [
    "### 3. eval/drop duplicates without index_id"
   ]
  },
  {
   "cell_type": "code",
   "execution_count": 5,
   "id": "2c326794",
   "metadata": {},
   "outputs": [
    {
     "name": "stdout",
     "output_type": "stream",
     "text": [
      "\n",
      "\n",
      "NO HIDDEN DUPLICATES\n"
     ]
    },
    {
     "data": {
      "text/plain": [
       "(1000, 13)"
      ]
     },
     "metadata": {},
     "output_type": "display_data"
    },
    {
     "data": {
      "text/plain": [
       "(1000, 13)"
      ]
     },
     "metadata": {},
     "output_type": "display_data"
    }
   ],
   "source": [
    "listtest=[\"film_id\"]\n",
    "DF_raw_wo1=mlg.DF_wo_colX(DF_raw, listtest)\n",
    "\n",
    "print(\"\\n\")\n",
    "\n",
    "DF1=DF_raw.copy()\n",
    "if any(DF_raw_wo1.duplicated()): # there are duplicates!\n",
    "    print(\"DUPLICATED?\", any(DF_raw_wo1.duplicated()))\n",
    "    # Find the index positions of duplicate rows in the subset of columns\n",
    "    dup_ind = DF_raw_wo1.duplicated()\n",
    "\n",
    "    # Show the duplicate rows\n",
    "    display(DF1[dup_ind])\n",
    "\n",
    "    # Display the index positions where rows are duplicated\n",
    "    nondup_ind = dup_ind[~dup_ind].index\n",
    "    DF1 = DF1.iloc[nondup_ind]\n",
    "\n",
    "    # Reset the index to have continuous index values\n",
    "    DF1.reset_index(drop=True, inplace=True) \n",
    "else:\n",
    "    print(\"NO HIDDEN DUPLICATES\")\n",
    "    pass\n",
    "\n",
    "\n",
    "display(DF_raw.shape)\n",
    "display(DF1.shape)\n"
   ]
  },
  {
   "cell_type": "markdown",
   "id": "6e1c898b",
   "metadata": {},
   "source": [
    "### 4. check NAs again\n",
    "\n",
    "- By column\n",
    "- By row"
   ]
  },
  {
   "cell_type": "code",
   "execution_count": 6,
   "id": "781c3ea4",
   "metadata": {},
   "outputs": [
    {
     "data": {
      "text/html": [
       "<div>\n",
       "<style scoped>\n",
       "    .dataframe tbody tr th:only-of-type {\n",
       "        vertical-align: middle;\n",
       "    }\n",
       "\n",
       "    .dataframe tbody tr th {\n",
       "        vertical-align: top;\n",
       "    }\n",
       "\n",
       "    .dataframe thead th {\n",
       "        text-align: right;\n",
       "    }\n",
       "</style>\n",
       "<table border=\"1\" class=\"dataframe\">\n",
       "  <thead>\n",
       "    <tr style=\"text-align: right;\">\n",
       "      <th></th>\n",
       "      <th>abs_NA</th>\n",
       "      <th>perc_NA</th>\n",
       "    </tr>\n",
       "  </thead>\n",
       "  <tbody>\n",
       "    <tr>\n",
       "      <th>original_language_id</th>\n",
       "      <td>1000</td>\n",
       "      <td>100.0</td>\n",
       "    </tr>\n",
       "  </tbody>\n",
       "</table>\n",
       "</div>"
      ],
      "text/plain": [
       "                      abs_NA  perc_NA\n",
       "original_language_id    1000    100.0"
      ]
     },
     "metadata": {},
     "output_type": "display_data"
    },
    {
     "data": {
      "text/html": [
       "<div>\n",
       "<style scoped>\n",
       "    .dataframe tbody tr th:only-of-type {\n",
       "        vertical-align: middle;\n",
       "    }\n",
       "\n",
       "    .dataframe tbody tr th {\n",
       "        vertical-align: top;\n",
       "    }\n",
       "\n",
       "    .dataframe thead th {\n",
       "        text-align: right;\n",
       "    }\n",
       "</style>\n",
       "<table border=\"1\" class=\"dataframe\">\n",
       "  <thead>\n",
       "    <tr style=\"text-align: right;\">\n",
       "      <th></th>\n",
       "      <th>abs_NA</th>\n",
       "      <th>perc_NA</th>\n",
       "    </tr>\n",
       "  </thead>\n",
       "  <tbody>\n",
       "    <tr>\n",
       "      <th>0</th>\n",
       "      <td>1</td>\n",
       "      <td>7.692308</td>\n",
       "    </tr>\n",
       "    <tr>\n",
       "      <th>671</th>\n",
       "      <td>1</td>\n",
       "      <td>7.692308</td>\n",
       "    </tr>\n",
       "    <tr>\n",
       "      <th>658</th>\n",
       "      <td>1</td>\n",
       "      <td>7.692308</td>\n",
       "    </tr>\n",
       "    <tr>\n",
       "      <th>659</th>\n",
       "      <td>1</td>\n",
       "      <td>7.692308</td>\n",
       "    </tr>\n",
       "    <tr>\n",
       "      <th>660</th>\n",
       "      <td>1</td>\n",
       "      <td>7.692308</td>\n",
       "    </tr>\n",
       "    <tr>\n",
       "      <th>...</th>\n",
       "      <td>...</td>\n",
       "      <td>...</td>\n",
       "    </tr>\n",
       "    <tr>\n",
       "      <th>338</th>\n",
       "      <td>1</td>\n",
       "      <td>7.692308</td>\n",
       "    </tr>\n",
       "    <tr>\n",
       "      <th>339</th>\n",
       "      <td>1</td>\n",
       "      <td>7.692308</td>\n",
       "    </tr>\n",
       "    <tr>\n",
       "      <th>340</th>\n",
       "      <td>1</td>\n",
       "      <td>7.692308</td>\n",
       "    </tr>\n",
       "    <tr>\n",
       "      <th>341</th>\n",
       "      <td>1</td>\n",
       "      <td>7.692308</td>\n",
       "    </tr>\n",
       "    <tr>\n",
       "      <th>999</th>\n",
       "      <td>1</td>\n",
       "      <td>7.692308</td>\n",
       "    </tr>\n",
       "  </tbody>\n",
       "</table>\n",
       "<p>1000 rows × 2 columns</p>\n",
       "</div>"
      ],
      "text/plain": [
       "     abs_NA   perc_NA\n",
       "0         1  7.692308\n",
       "671       1  7.692308\n",
       "658       1  7.692308\n",
       "659       1  7.692308\n",
       "660       1  7.692308\n",
       "..      ...       ...\n",
       "338       1  7.692308\n",
       "339       1  7.692308\n",
       "340       1  7.692308\n",
       "341       1  7.692308\n",
       "999       1  7.692308\n",
       "\n",
       "[1000 rows x 2 columns]"
      ]
     },
     "metadata": {},
     "output_type": "display_data"
    }
   ],
   "source": [
    "display(mlg.na_absperc(DF1)) # by cols\n",
    "display(mlg.na_absperc(DF1.T)) # by rows\n",
    "\n",
    "# DROP IT CAUSE IT CONTAINS 100% NAS!!\n",
    "DF1=DF1.loc[:, ~DF1.columns.isin([\"original_language_id\"])]"
   ]
  },
  {
   "cell_type": "markdown",
   "id": "ab19a9d7",
   "metadata": {},
   "source": [
    "### 5. unique/freq ratio"
   ]
  },
  {
   "cell_type": "code",
   "execution_count": 64,
   "id": "e1298f59",
   "metadata": {
    "scrolled": false
   },
   "outputs": [
    {
     "data": {
      "text/html": [
       "<div>\n",
       "<style scoped>\n",
       "    .dataframe tbody tr th:only-of-type {\n",
       "        vertical-align: middle;\n",
       "    }\n",
       "\n",
       "    .dataframe tbody tr th {\n",
       "        vertical-align: top;\n",
       "    }\n",
       "\n",
       "    .dataframe thead th {\n",
       "        text-align: right;\n",
       "    }\n",
       "</style>\n",
       "<table border=\"1\" class=\"dataframe\">\n",
       "  <thead>\n",
       "    <tr style=\"text-align: right;\">\n",
       "      <th></th>\n",
       "      <th>count</th>\n",
       "      <th>unique</th>\n",
       "      <th>top</th>\n",
       "      <th>freq</th>\n",
       "      <th>unicount_ratio</th>\n",
       "      <th>resto_abs</th>\n",
       "      <th>resto_per</th>\n",
       "    </tr>\n",
       "  </thead>\n",
       "  <tbody>\n",
       "    <tr>\n",
       "      <th>last_update</th>\n",
       "      <td>1000</td>\n",
       "      <td>1</td>\n",
       "      <td>2006-02-15 05:03:42</td>\n",
       "      <td>1000</td>\n",
       "      <td>0.001</td>\n",
       "      <td>0</td>\n",
       "      <td>0.0</td>\n",
       "    </tr>\n",
       "    <tr>\n",
       "      <th>rating</th>\n",
       "      <td>1000</td>\n",
       "      <td>5</td>\n",
       "      <td>PG-13</td>\n",
       "      <td>223</td>\n",
       "      <td>0.005</td>\n",
       "      <td>777</td>\n",
       "      <td>77.7</td>\n",
       "    </tr>\n",
       "    <tr>\n",
       "      <th>special_features</th>\n",
       "      <td>1000</td>\n",
       "      <td>15</td>\n",
       "      <td>Trailers,Commentaries,Behind the Scenes</td>\n",
       "      <td>79</td>\n",
       "      <td>0.015</td>\n",
       "      <td>921</td>\n",
       "      <td>92.1</td>\n",
       "    </tr>\n",
       "    <tr>\n",
       "      <th>title</th>\n",
       "      <td>1000</td>\n",
       "      <td>1000</td>\n",
       "      <td>ACADEMY DINOSAUR</td>\n",
       "      <td>1</td>\n",
       "      <td>1.0</td>\n",
       "      <td>999</td>\n",
       "      <td>99.9</td>\n",
       "    </tr>\n",
       "    <tr>\n",
       "      <th>description</th>\n",
       "      <td>1000</td>\n",
       "      <td>1000</td>\n",
       "      <td>A Epic Drama of a Feminist And a Mad Scientist...</td>\n",
       "      <td>1</td>\n",
       "      <td>1.0</td>\n",
       "      <td>999</td>\n",
       "      <td>99.9</td>\n",
       "    </tr>\n",
       "  </tbody>\n",
       "</table>\n",
       "</div>"
      ],
      "text/plain": [
       "                 count unique  \\\n",
       "last_update       1000      1   \n",
       "rating            1000      5   \n",
       "special_features  1000     15   \n",
       "title             1000   1000   \n",
       "description       1000   1000   \n",
       "\n",
       "                                                                top  freq  \\\n",
       "last_update                                     2006-02-15 05:03:42  1000   \n",
       "rating                                                        PG-13   223   \n",
       "special_features            Trailers,Commentaries,Behind the Scenes    79   \n",
       "title                                              ACADEMY DINOSAUR     1   \n",
       "description       A Epic Drama of a Feminist And a Mad Scientist...     1   \n",
       "\n",
       "                 unicount_ratio resto_abs resto_per  \n",
       "last_update               0.001         0       0.0  \n",
       "rating                    0.005       777      77.7  \n",
       "special_features          0.015       921      92.1  \n",
       "title                       1.0       999      99.9  \n",
       "description                 1.0       999      99.9  "
      ]
     },
     "metadata": {},
     "output_type": "display_data"
    }
   ],
   "source": [
    "display(mlg.categ_summ(DF1).sort_values(\"resto_per\", ascending =True))"
   ]
  },
  {
   "cell_type": "markdown",
   "id": "422e57f0",
   "metadata": {},
   "source": [
    "### 6. data types"
   ]
  },
  {
   "cell_type": "code",
   "execution_count": 65,
   "id": "71ce1943",
   "metadata": {},
   "outputs": [
    {
     "name": "stdout",
     "output_type": "stream",
     "text": [
      "<class 'pandas.core.frame.DataFrame'>\n",
      "RangeIndex: 1000 entries, 0 to 999\n",
      "Data columns (total 12 columns):\n",
      " #   Column            Non-Null Count  Dtype  \n",
      "---  ------            --------------  -----  \n",
      " 0   film_id           1000 non-null   int64  \n",
      " 1   title             1000 non-null   object \n",
      " 2   description       1000 non-null   object \n",
      " 3   release_year      1000 non-null   int64  \n",
      " 4   language_id       1000 non-null   int64  \n",
      " 5   rental_duration   1000 non-null   int64  \n",
      " 6   rental_rate       1000 non-null   float64\n",
      " 7   length            1000 non-null   int64  \n",
      " 8   replacement_cost  1000 non-null   float64\n",
      " 9   rating            1000 non-null   object \n",
      " 10  special_features  1000 non-null   object \n",
      " 11  last_update       1000 non-null   object \n",
      "dtypes: float64(2), int64(5), object(5)\n",
      "memory usage: 93.9+ KB\n"
     ]
    }
   ],
   "source": [
    "DF1.info()"
   ]
  },
  {
   "cell_type": "markdown",
   "id": "aab9adf9",
   "metadata": {},
   "source": [
    "### 7. Save the cleaned dataframe(s)\n",
    "\n",
    "Split the dataframe into 2 entities `films1.csv`and `special_features1.csv`"
   ]
  },
  {
   "cell_type": "code",
   "execution_count": 8,
   "id": "38aede8e",
   "metadata": {},
   "outputs": [
    {
     "data": {
      "text/html": [
       "<div>\n",
       "<style scoped>\n",
       "    .dataframe tbody tr th:only-of-type {\n",
       "        vertical-align: middle;\n",
       "    }\n",
       "\n",
       "    .dataframe tbody tr th {\n",
       "        vertical-align: top;\n",
       "    }\n",
       "\n",
       "    .dataframe thead th {\n",
       "        text-align: right;\n",
       "    }\n",
       "</style>\n",
       "<table border=\"1\" class=\"dataframe\">\n",
       "  <thead>\n",
       "    <tr style=\"text-align: right;\">\n",
       "      <th></th>\n",
       "      <th>film_id</th>\n",
       "      <th>special_features</th>\n",
       "    </tr>\n",
       "  </thead>\n",
       "  <tbody>\n",
       "    <tr>\n",
       "      <th>0</th>\n",
       "      <td>1</td>\n",
       "      <td>Deleted Scenes,Behind the Scenes</td>\n",
       "    </tr>\n",
       "    <tr>\n",
       "      <th>1</th>\n",
       "      <td>2</td>\n",
       "      <td>Trailers,Deleted Scenes</td>\n",
       "    </tr>\n",
       "    <tr>\n",
       "      <th>2</th>\n",
       "      <td>3</td>\n",
       "      <td>Trailers,Deleted Scenes</td>\n",
       "    </tr>\n",
       "    <tr>\n",
       "      <th>3</th>\n",
       "      <td>4</td>\n",
       "      <td>Commentaries,Behind the Scenes</td>\n",
       "    </tr>\n",
       "    <tr>\n",
       "      <th>4</th>\n",
       "      <td>5</td>\n",
       "      <td>Deleted Scenes</td>\n",
       "    </tr>\n",
       "  </tbody>\n",
       "</table>\n",
       "</div>"
      ],
      "text/plain": [
       "   film_id                  special_features\n",
       "0        1  Deleted Scenes,Behind the Scenes\n",
       "1        2           Trailers,Deleted Scenes\n",
       "2        3           Trailers,Deleted Scenes\n",
       "3        4    Commentaries,Behind the Scenes\n",
       "4        5                    Deleted Scenes"
      ]
     },
     "metadata": {},
     "output_type": "display_data"
    },
    {
     "data": {
      "text/html": [
       "<div>\n",
       "<style scoped>\n",
       "    .dataframe tbody tr th:only-of-type {\n",
       "        vertical-align: middle;\n",
       "    }\n",
       "\n",
       "    .dataframe tbody tr th {\n",
       "        vertical-align: top;\n",
       "    }\n",
       "\n",
       "    .dataframe thead th {\n",
       "        text-align: right;\n",
       "    }\n",
       "</style>\n",
       "<table border=\"1\" class=\"dataframe\">\n",
       "  <thead>\n",
       "    <tr style=\"text-align: right;\">\n",
       "      <th></th>\n",
       "      <th>film_id</th>\n",
       "      <th>special_features</th>\n",
       "    </tr>\n",
       "  </thead>\n",
       "  <tbody>\n",
       "    <tr>\n",
       "      <th>0</th>\n",
       "      <td>1</td>\n",
       "      <td>[Deleted Scenes, Behind the Scenes]</td>\n",
       "    </tr>\n",
       "    <tr>\n",
       "      <th>1</th>\n",
       "      <td>2</td>\n",
       "      <td>[Trailers, Deleted Scenes]</td>\n",
       "    </tr>\n",
       "    <tr>\n",
       "      <th>2</th>\n",
       "      <td>3</td>\n",
       "      <td>[Trailers, Deleted Scenes]</td>\n",
       "    </tr>\n",
       "    <tr>\n",
       "      <th>3</th>\n",
       "      <td>4</td>\n",
       "      <td>[Commentaries, Behind the Scenes]</td>\n",
       "    </tr>\n",
       "    <tr>\n",
       "      <th>4</th>\n",
       "      <td>5</td>\n",
       "      <td>[Deleted Scenes]</td>\n",
       "    </tr>\n",
       "  </tbody>\n",
       "</table>\n",
       "</div>"
      ],
      "text/plain": [
       "   film_id                     special_features\n",
       "0        1  [Deleted Scenes, Behind the Scenes]\n",
       "1        2           [Trailers, Deleted Scenes]\n",
       "2        3           [Trailers, Deleted Scenes]\n",
       "3        4    [Commentaries, Behind the Scenes]\n",
       "4        5                     [Deleted Scenes]"
      ]
     },
     "metadata": {},
     "output_type": "display_data"
    },
    {
     "data": {
      "text/html": [
       "<div>\n",
       "<style scoped>\n",
       "    .dataframe tbody tr th:only-of-type {\n",
       "        vertical-align: middle;\n",
       "    }\n",
       "\n",
       "    .dataframe tbody tr th {\n",
       "        vertical-align: top;\n",
       "    }\n",
       "\n",
       "    .dataframe thead th {\n",
       "        text-align: right;\n",
       "    }\n",
       "</style>\n",
       "<table border=\"1\" class=\"dataframe\">\n",
       "  <thead>\n",
       "    <tr style=\"text-align: right;\">\n",
       "      <th></th>\n",
       "      <th>film_id</th>\n",
       "      <th>special_features</th>\n",
       "    </tr>\n",
       "  </thead>\n",
       "  <tbody>\n",
       "    <tr>\n",
       "      <th>0</th>\n",
       "      <td>1</td>\n",
       "      <td>Deleted Scenes</td>\n",
       "    </tr>\n",
       "    <tr>\n",
       "      <th>0</th>\n",
       "      <td>1</td>\n",
       "      <td>Behind the Scenes</td>\n",
       "    </tr>\n",
       "    <tr>\n",
       "      <th>1</th>\n",
       "      <td>2</td>\n",
       "      <td>Trailers</td>\n",
       "    </tr>\n",
       "    <tr>\n",
       "      <th>1</th>\n",
       "      <td>2</td>\n",
       "      <td>Deleted Scenes</td>\n",
       "    </tr>\n",
       "    <tr>\n",
       "      <th>2</th>\n",
       "      <td>3</td>\n",
       "      <td>Trailers</td>\n",
       "    </tr>\n",
       "  </tbody>\n",
       "</table>\n",
       "</div>"
      ],
      "text/plain": [
       "   film_id   special_features\n",
       "0        1     Deleted Scenes\n",
       "0        1  Behind the Scenes\n",
       "1        2           Trailers\n",
       "1        2     Deleted Scenes\n",
       "2        3           Trailers"
      ]
     },
     "metadata": {},
     "output_type": "display_data"
    }
   ],
   "source": [
    "DF2 = DF1[[\"film_id\", \"special_features\"]]\n",
    "\n",
    "\n",
    "display(DF2.head())\n",
    "# transform the strign separated by \",\" into list of values\n",
    "DF2['special_features'] = DF2['special_features'].str.split(',') \n",
    "\n",
    "# Explode the column to create multiple rows\n",
    "DF2 = DF2.explode('special_features')\n",
    "\n",
    "\n",
    "DF1=DF1.loc[:, ~DF1.columns.isin([\"special_features\"])]"
   ]
  },
  {
   "cell_type": "markdown",
   "id": "c07b7f98",
   "metadata": {},
   "source": [
    "### Extra: Review after spliting the dataframe"
   ]
  },
  {
   "cell_type": "code",
   "execution_count": 78,
   "id": "8360a7b8",
   "metadata": {},
   "outputs": [
    {
     "name": "stdout",
     "output_type": "stream",
     "text": [
      "DUPLICATED?: False False\n"
     ]
    },
    {
     "data": {
      "text/plain": [
       "Commentaries         539\n",
       "Behind the Scenes    538\n",
       "Trailers             535\n",
       "Deleted Scenes       503\n",
       "Name: special_features, dtype: int64"
      ]
     },
     "metadata": {},
     "output_type": "display_data"
    },
    {
     "name": "stdout",
     "output_type": "stream",
     "text": [
      "<class 'pandas.core.frame.DataFrame'>\n",
      "Int64Index: 2115 entries, 0 to 999\n",
      "Data columns (total 2 columns):\n",
      " #   Column            Non-Null Count  Dtype \n",
      "---  ------            --------------  ----- \n",
      " 0   film_id           2115 non-null   int64 \n",
      " 1   special_features  2115 non-null   object\n",
      "dtypes: int64(1), object(1)\n",
      "memory usage: 49.6+ KB\n"
     ]
    },
    {
     "data": {
      "text/plain": [
       "(2115, 2)"
      ]
     },
     "execution_count": 78,
     "metadata": {},
     "output_type": "execute_result"
    }
   ],
   "source": [
    "print(\"DUPLICATED?:\", any(DF1.duplicated()), any(DF2.duplicated()))\n",
    "\n",
    "display(DF2[\"special_features\"].value_counts())\n",
    "\n",
    "DF2.info()\n",
    "DF2.shape"
   ]
  },
  {
   "cell_type": "code",
   "execution_count": 80,
   "id": "6ced6493",
   "metadata": {},
   "outputs": [],
   "source": [
    "film1=DF1.copy()\n",
    "special_feature1=DF2.copy()\n",
    "#film1.to_csv('../../data/clean/film1.csv', index=False)\n",
    "#special_feature1.to_csv('../../data/clean/special_feature1.csv', index=False)"
   ]
  }
 ],
 "metadata": {
  "kernelspec": {
   "display_name": "env37",
   "language": "python",
   "name": "env37"
  },
  "language_info": {
   "codemirror_mode": {
    "name": "ipython",
    "version": 3
   },
   "file_extension": ".py",
   "mimetype": "text/x-python",
   "name": "python",
   "nbconvert_exporter": "python",
   "pygments_lexer": "ipython3",
   "version": "3.7.16"
  }
 },
 "nbformat": 4,
 "nbformat_minor": 5
}
