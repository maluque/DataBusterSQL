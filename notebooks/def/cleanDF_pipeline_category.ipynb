{
 "cells": [
  {
   "cell_type": "markdown",
   "id": "489257d3",
   "metadata": {},
   "source": [
    "## A common pipeline to clean dataframes\n",
    "\n",
    "\n",
    "0. Import modules\n",
    "1. Normalize column names\n",
    "2. Eval misspelling in object non-date columns\n",
    "3. Eval & Drop duplicates without index_id `mlg.DF_wo_colX(df, colnames)`\n",
    "4. Check NAs `mlg.na_absperc(df)`\n",
    "    - By Columns\n",
    "    - By Rows\n",
    "5. Eval 'unique/freq ratio'`mlg.categ_summ(df)`\n",
    "6. Eval Data types\n",
    "7. Save the cleaned dataframe"
   ]
  },
  {
   "cell_type": "markdown",
   "id": "3bb63246",
   "metadata": {},
   "source": [
    "## Summary of cleaning `category.csv`\n",
    "\n",
    "\n",
    "**Original category.csv** had 16 rows and 3 columns `['category_id', 'name', 'last_update']`\n",
    "\n",
    "* 1. No column name to normalize\n",
    "* 2. No misspelling values\n",
    "* 3. No hidden duplicated rows\n",
    "* 4. No NA's\n",
    "* 5. Nothing striking from unique/freq ratio analysis\n",
    "* 6. No data type to transform\n",
    "* 7. Cleaned DF saved as `clean/category1.csv`\n",
    "\n",
    "**Cleaned category1.csv** has 16 rows and 3 columns `['category_id', 'name', 'last_update']`"
   ]
  },
  {
   "cell_type": "markdown",
   "id": "5bc67cdd",
   "metadata": {},
   "source": [
    "### 0. Import modules\n",
    "\n",
    "First things first!!\n",
    "\n",
    "We need to import modules and set default notebook properties as;\n",
    "\n",
    "- leading with warnings or\n",
    "- defining how we want to display the outputs and plots.\n",
    "\n",
    "I will also import my own modulemlgfrom scr/dataanalysis1.py.\n",
    "When I make modifications in my functions, I need to detatch the module and load it again!"
   ]
  },
  {
   "cell_type": "code",
   "execution_count": 105,
   "id": "b189f3cc",
   "metadata": {},
   "outputs": [],
   "source": [
    "# Import modules etc\n",
    "\n",
    "import pandas as pd\n",
    "import numpy as np\n",
    "import re\n",
    "\n",
    "np.random.seed(42)\n",
    "pd.set_option('display.max_columns', None) # show all the columns\n",
    "\n",
    "# print the plot in the jupyter output\n",
    "%matplotlib inline \n",
    "\n",
    "import warnings\n",
    "warnings.filterwarnings('ignore') # ignorar warnings\n",
    "\n",
    "import pylab as plt   # import matplotlib.pyplot as plt\n",
    "import seaborn as sns\n",
    "import fuzzywuzzy as fzw\n",
    "\n",
    "# Import my module\n",
    "from src import dataanalysis_fun1 as mlg "
   ]
  },
  {
   "cell_type": "code",
   "execution_count": 106,
   "id": "06b8d1a4",
   "metadata": {},
   "outputs": [],
   "source": [
    "# Reload my module if neccessary\n",
    "\n",
    "import importlib\n",
    "from src import dataanalysis_fun1 as mlg # Import the module\n",
    "#importlib.reload(mlg)  # Reload the module\n",
    "\n",
    "# Suppress warning when reloading the module\n",
    "with warnings.catch_warnings():\n",
    "    warnings.simplefilter(\"ignore\") \n",
    "    importlib.reload(mlg)  # Reload the module"
   ]
  },
  {
   "cell_type": "code",
   "execution_count": 120,
   "id": "d93b8ba3",
   "metadata": {},
   "outputs": [],
   "source": [
    "DF_raw = pd.read_csv('../../data/raw/category.csv')"
   ]
  },
  {
   "cell_type": "markdown",
   "id": "a8d0435a",
   "metadata": {},
   "source": [
    "### 1. Normalize column names"
   ]
  },
  {
   "cell_type": "code",
   "execution_count": 121,
   "id": "ba4759fc",
   "metadata": {
    "scrolled": true
   },
   "outputs": [
    {
     "data": {
      "text/plain": [
       "Index(['category_id', 'name', 'last_update'], dtype='object')"
      ]
     },
     "metadata": {},
     "output_type": "display_data"
    },
    {
     "name": "stdout",
     "output_type": "stream",
     "text": [
      "Normalized column names: 0\n"
     ]
    },
    {
     "data": {
      "text/html": [
       "<div>\n",
       "<style scoped>\n",
       "    .dataframe tbody tr th:only-of-type {\n",
       "        vertical-align: middle;\n",
       "    }\n",
       "\n",
       "    .dataframe tbody tr th {\n",
       "        vertical-align: top;\n",
       "    }\n",
       "\n",
       "    .dataframe thead th {\n",
       "        text-align: right;\n",
       "    }\n",
       "</style>\n",
       "<table border=\"1\" class=\"dataframe\">\n",
       "  <thead>\n",
       "    <tr style=\"text-align: right;\">\n",
       "      <th></th>\n",
       "      <th>category_id</th>\n",
       "      <th>name</th>\n",
       "      <th>last_update</th>\n",
       "    </tr>\n",
       "  </thead>\n",
       "  <tbody>\n",
       "    <tr>\n",
       "      <th>0</th>\n",
       "      <td>1</td>\n",
       "      <td>Action</td>\n",
       "      <td>2006-02-15 04:46:27</td>\n",
       "    </tr>\n",
       "    <tr>\n",
       "      <th>1</th>\n",
       "      <td>2</td>\n",
       "      <td>Animation</td>\n",
       "      <td>2006-02-15 04:46:27</td>\n",
       "    </tr>\n",
       "    <tr>\n",
       "      <th>2</th>\n",
       "      <td>3</td>\n",
       "      <td>Children</td>\n",
       "      <td>2006-02-15 04:46:27</td>\n",
       "    </tr>\n",
       "    <tr>\n",
       "      <th>3</th>\n",
       "      <td>4</td>\n",
       "      <td>Classics</td>\n",
       "      <td>2006-02-15 04:46:27</td>\n",
       "    </tr>\n",
       "    <tr>\n",
       "      <th>4</th>\n",
       "      <td>5</td>\n",
       "      <td>Comedy</td>\n",
       "      <td>2006-02-15 04:46:27</td>\n",
       "    </tr>\n",
       "  </tbody>\n",
       "</table>\n",
       "</div>"
      ],
      "text/plain": [
       "   category_id       name          last_update\n",
       "0            1     Action  2006-02-15 04:46:27\n",
       "1            2  Animation  2006-02-15 04:46:27\n",
       "2            3   Children  2006-02-15 04:46:27\n",
       "3            4   Classics  2006-02-15 04:46:27\n",
       "4            5     Comedy  2006-02-15 04:46:27"
      ]
     },
     "metadata": {},
     "output_type": "display_data"
    }
   ],
   "source": [
    "display(DF_raw.columns)\n",
    "setA = set(DF_raw.columns)\n",
    "DF_raw=mlg.colnnam_clean(DF_raw)\n",
    "setB = set(DF_raw.columns)\n",
    "\n",
    "print(f'Normalized column names: {len(setB.difference(setA))}')\n",
    "display(DF_raw.head())"
   ]
  },
  {
   "cell_type": "markdown",
   "id": "2533850e",
   "metadata": {},
   "source": [
    "### 2. Eval misspelling in object non-date columns"
   ]
  },
  {
   "cell_type": "code",
   "execution_count": 123,
   "id": "476026c0",
   "metadata": {
    "scrolled": false
   },
   "outputs": [
    {
     "name": "stdout",
     "output_type": "stream",
     "text": [
      "CATEGORY_ID  ---> Non object-Column or explicit date reference\n",
      "NAME :\n",
      "name       \n",
      "Action         1\n",
      "Animation      1\n",
      "Children       1\n",
      "Classics       1\n",
      "Comedy         1\n",
      "Documentary    1\n",
      "Drama          1\n",
      "Family         1\n",
      "Foreign        1\n",
      "Games          1\n",
      "Horror         1\n",
      "Music          1\n",
      "New            1\n",
      "Sci-Fi         1\n",
      "Sports         1\n",
      "Travel         1\n",
      "dtype: int64\n",
      "\n",
      "\n",
      "LAST_UPDATE  ---> Non object-Column or explicit date reference\n"
     ]
    }
   ],
   "source": [
    "for i in DF_raw.columns: \n",
    "    if (DF_raw[i].dtype == 'object') and (\"date\" not in i):\n",
    "        print(i.upper(), \":\")\n",
    "        DF_raw[i]=DF_raw[i].apply(lambda a: a.strip()) ## Remove leading and trailing spaces \n",
    "        print(DF_raw[[i]].value_counts())\n",
    "        print(\"\\n\")\n",
    "    else:\n",
    "        print(i.upper(), \" ---> Non object-Column or explicit date reference\")\n",
    "        pass"
   ]
  },
  {
   "cell_type": "markdown",
   "id": "c7ea4c47",
   "metadata": {},
   "source": [
    "### 3. eval/drop duplicates without index_id"
   ]
  },
  {
   "cell_type": "code",
   "execution_count": 100,
   "id": "2c326794",
   "metadata": {},
   "outputs": [
    {
     "name": "stdout",
     "output_type": "stream",
     "text": [
      "\n",
      "\n",
      "NO HIDDEN DUPLICATES\n"
     ]
    },
    {
     "data": {
      "text/plain": [
       "(16, 3)"
      ]
     },
     "metadata": {},
     "output_type": "display_data"
    },
    {
     "data": {
      "text/plain": [
       "(16, 3)"
      ]
     },
     "metadata": {},
     "output_type": "display_data"
    }
   ],
   "source": [
    "listtest=[\"category_id\"]\n",
    "DF_raw_wo1=mlg.DF_wo_colX(DF_raw, listtest)\n",
    "\n",
    "print(\"\\n\")\n",
    "\n",
    "DF1=DF_raw.copy()\n",
    "if any(DF_raw_wo1.duplicated()): # there are duplicates!\n",
    "    print(\"DUPLICATED?\", any(DF_raw_wo1.duplicated()))\n",
    "    # Find the index positions of duplicate rows in the subset of columns\n",
    "    dup_ind = DF_raw_wo1.duplicated()\n",
    "\n",
    "    # Show the duplicate rows\n",
    "    display(DF1[dup_ind])\n",
    "\n",
    "    # Display the index positions where rows are duplicated\n",
    "    nondup_ind = dup_ind[~dup_ind].index\n",
    "    DF1 = DF1.iloc[nondup_ind]\n",
    "\n",
    "    # Reset the index to have continuous index values\n",
    "    DF1.reset_index(drop=True, inplace=True) \n",
    "else:\n",
    "    print(\"NO HIDDEN DUPLICATES\")\n",
    "    pass\n",
    "\n",
    "\n",
    "display(DF_raw.shape)\n",
    "display(DF1.shape)\n"
   ]
  },
  {
   "cell_type": "markdown",
   "id": "6e1c898b",
   "metadata": {},
   "source": [
    "### 4. check NAs again\n",
    "\n",
    "- By column\n",
    "- By row"
   ]
  },
  {
   "cell_type": "code",
   "execution_count": 101,
   "id": "781c3ea4",
   "metadata": {},
   "outputs": [
    {
     "data": {
      "text/html": [
       "<div>\n",
       "<style scoped>\n",
       "    .dataframe tbody tr th:only-of-type {\n",
       "        vertical-align: middle;\n",
       "    }\n",
       "\n",
       "    .dataframe tbody tr th {\n",
       "        vertical-align: top;\n",
       "    }\n",
       "\n",
       "    .dataframe thead th {\n",
       "        text-align: right;\n",
       "    }\n",
       "</style>\n",
       "<table border=\"1\" class=\"dataframe\">\n",
       "  <thead>\n",
       "    <tr style=\"text-align: right;\">\n",
       "      <th></th>\n",
       "      <th>abs_NA</th>\n",
       "      <th>perc_NA</th>\n",
       "    </tr>\n",
       "  </thead>\n",
       "  <tbody>\n",
       "  </tbody>\n",
       "</table>\n",
       "</div>"
      ],
      "text/plain": [
       "Empty DataFrame\n",
       "Columns: [abs_NA, perc_NA]\n",
       "Index: []"
      ]
     },
     "metadata": {},
     "output_type": "display_data"
    },
    {
     "data": {
      "text/html": [
       "<div>\n",
       "<style scoped>\n",
       "    .dataframe tbody tr th:only-of-type {\n",
       "        vertical-align: middle;\n",
       "    }\n",
       "\n",
       "    .dataframe tbody tr th {\n",
       "        vertical-align: top;\n",
       "    }\n",
       "\n",
       "    .dataframe thead th {\n",
       "        text-align: right;\n",
       "    }\n",
       "</style>\n",
       "<table border=\"1\" class=\"dataframe\">\n",
       "  <thead>\n",
       "    <tr style=\"text-align: right;\">\n",
       "      <th></th>\n",
       "      <th>abs_NA</th>\n",
       "      <th>perc_NA</th>\n",
       "    </tr>\n",
       "  </thead>\n",
       "  <tbody>\n",
       "  </tbody>\n",
       "</table>\n",
       "</div>"
      ],
      "text/plain": [
       "Empty DataFrame\n",
       "Columns: [abs_NA, perc_NA]\n",
       "Index: []"
      ]
     },
     "metadata": {},
     "output_type": "display_data"
    }
   ],
   "source": [
    "display(mlg.na_absperc(DF1)) # by cols\n",
    "display(mlg.na_absperc(DF1.T)) # by rows\n",
    "\n",
    "#DF1=DF1.loc[:, ~DF1.columns.isin([\"category_id\"])]"
   ]
  },
  {
   "cell_type": "markdown",
   "id": "ab19a9d7",
   "metadata": {},
   "source": [
    "### 5. unique/freq ratio"
   ]
  },
  {
   "cell_type": "code",
   "execution_count": 102,
   "id": "e1298f59",
   "metadata": {
    "scrolled": false
   },
   "outputs": [
    {
     "data": {
      "text/html": [
       "<div>\n",
       "<style scoped>\n",
       "    .dataframe tbody tr th:only-of-type {\n",
       "        vertical-align: middle;\n",
       "    }\n",
       "\n",
       "    .dataframe tbody tr th {\n",
       "        vertical-align: top;\n",
       "    }\n",
       "\n",
       "    .dataframe thead th {\n",
       "        text-align: right;\n",
       "    }\n",
       "</style>\n",
       "<table border=\"1\" class=\"dataframe\">\n",
       "  <thead>\n",
       "    <tr style=\"text-align: right;\">\n",
       "      <th></th>\n",
       "      <th>count</th>\n",
       "      <th>unique</th>\n",
       "      <th>top</th>\n",
       "      <th>freq</th>\n",
       "      <th>unicount_ratio</th>\n",
       "      <th>resto_abs</th>\n",
       "      <th>resto_per</th>\n",
       "    </tr>\n",
       "  </thead>\n",
       "  <tbody>\n",
       "    <tr>\n",
       "      <th>last_update</th>\n",
       "      <td>16</td>\n",
       "      <td>1</td>\n",
       "      <td>2006-02-15 04:46:27</td>\n",
       "      <td>16</td>\n",
       "      <td>0.0625</td>\n",
       "      <td>0</td>\n",
       "      <td>0.0</td>\n",
       "    </tr>\n",
       "    <tr>\n",
       "      <th>name</th>\n",
       "      <td>16</td>\n",
       "      <td>16</td>\n",
       "      <td>Action</td>\n",
       "      <td>1</td>\n",
       "      <td>1.0</td>\n",
       "      <td>15</td>\n",
       "      <td>93.75</td>\n",
       "    </tr>\n",
       "  </tbody>\n",
       "</table>\n",
       "</div>"
      ],
      "text/plain": [
       "            count unique                  top freq unicount_ratio resto_abs  \\\n",
       "last_update    16      1  2006-02-15 04:46:27   16         0.0625         0   \n",
       "name           16     16               Action    1            1.0        15   \n",
       "\n",
       "            resto_per  \n",
       "last_update       0.0  \n",
       "name            93.75  "
      ]
     },
     "metadata": {},
     "output_type": "display_data"
    }
   ],
   "source": [
    "display(mlg.categ_summ(DF1).sort_values(\"resto_per\", ascending =True))"
   ]
  },
  {
   "cell_type": "markdown",
   "id": "422e57f0",
   "metadata": {},
   "source": [
    "### 6. data types"
   ]
  },
  {
   "cell_type": "code",
   "execution_count": 103,
   "id": "71ce1943",
   "metadata": {},
   "outputs": [
    {
     "name": "stdout",
     "output_type": "stream",
     "text": [
      "<class 'pandas.core.frame.DataFrame'>\n",
      "RangeIndex: 16 entries, 0 to 15\n",
      "Data columns (total 3 columns):\n",
      " #   Column       Non-Null Count  Dtype \n",
      "---  ------       --------------  ----- \n",
      " 0   category_id  16 non-null     int64 \n",
      " 1   name         16 non-null     object\n",
      " 2   last_update  16 non-null     object\n",
      "dtypes: int64(1), object(2)\n",
      "memory usage: 512.0+ bytes\n"
     ]
    }
   ],
   "source": [
    "DF1.info()"
   ]
  },
  {
   "cell_type": "markdown",
   "id": "aab9adf9",
   "metadata": {},
   "source": [
    "### 7. Save the cleaned dataframe(s)"
   ]
  },
  {
   "cell_type": "code",
   "execution_count": 104,
   "id": "38aede8e",
   "metadata": {},
   "outputs": [],
   "source": [
    "category1=DF1.copy()\n",
    "#category1.to_csv('../../data/clean/category1.csv', index=False)"
   ]
  }
 ],
 "metadata": {
  "kernelspec": {
   "display_name": "env37",
   "language": "python",
   "name": "env37"
  },
  "language_info": {
   "codemirror_mode": {
    "name": "ipython",
    "version": 3
   },
   "file_extension": ".py",
   "mimetype": "text/x-python",
   "name": "python",
   "nbconvert_exporter": "python",
   "pygments_lexer": "ipython3",
   "version": "3.7.16"
  }
 },
 "nbformat": 4,
 "nbformat_minor": 5
}
