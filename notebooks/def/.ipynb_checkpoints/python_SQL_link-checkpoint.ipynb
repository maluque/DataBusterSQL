{
 "cells": [
  {
   "cell_type": "markdown",
   "id": "4baffdba",
   "metadata": {},
   "source": [
    "# Load and work with python - mySQL\n",
    "\n",
    "\n",
    "**NOTE:**\n",
    "**I LOST 5 HOURS OF JUPYTER AUTOSAVE WHEN CREATING THE DDBB** <br/>\n",
    "\n",
    "I CANNOT RECAPITULATE EXACTLY ALL THE CODE I USED TO GENERATE THE TABLES <br/>\n",
    "\n",
    "0. Import modules\n",
    "1. Define the cursor and connect to mySQL\n",
    "2. Create the DDBB  Blockbuster\n",
    "3. Load the csv tables to jupyter\n",
    "4. Load de tables to mySQL DDBB Blockbuster\n"
   ]
  },
  {
   "cell_type": "markdown",
   "id": "f8a59709",
   "metadata": {},
   "source": [
    "### 0. Import modules and set the connection"
   ]
  },
  {
   "cell_type": "code",
   "execution_count": 1,
   "id": "b1ca2aa7",
   "metadata": {},
   "outputs": [],
   "source": [
    "from logs.SQLpass import SQLpass ## my SQL passs!!!!"
   ]
  },
  {
   "cell_type": "code",
   "execution_count": 2,
   "id": "f4346010",
   "metadata": {},
   "outputs": [],
   "source": [
    "import pandas as pd\n",
    "import mysql.connector as conn\n",
    "from sqlalchemy import create_engine"
   ]
  },
  {
   "cell_type": "code",
   "execution_count": 4,
   "id": "e326904a",
   "metadata": {},
   "outputs": [
    {
     "data": {
      "text/plain": [
       "<mysql.connector.cursor_cext.CMySQLCursor at 0x120d1de90>"
      ]
     },
     "execution_count": 4,
     "metadata": {},
     "output_type": "execute_result"
    }
   ],
   "source": [
    "conexion = conn.connect(host='127.0.0.1',\n",
    "                       user='root',        # usuario\n",
    "                       passwd=SQLpass#,   # pass de SQL\n",
    "                     #  database='blockbuster'\n",
    "                       )\n",
    "\n",
    "cursor = conexion.cursor()\n",
    "cursor"
   ]
  },
  {
   "cell_type": "markdown",
   "id": "54540901",
   "metadata": {},
   "source": [
    "### SqlAlchemy\n",
    "\n",
    "* Create cursor and connect to mySQL\n",
    "* Delete blockbuster DDBB if exist\n",
    "* Create blockbuster DDBB again"
   ]
  },
  {
   "cell_type": "code",
   "execution_count": 53,
   "id": "85a6dff2",
   "metadata": {},
   "outputs": [
    {
     "data": {
      "text/plain": [
       "<sqlalchemy.engine.cursor.LegacyCursorResult at 0x10c89a190>"
      ]
     },
     "execution_count": 53,
     "metadata": {},
     "output_type": "execute_result"
    }
   ],
   "source": [
    "str_conn = 'mysql+pymysql://root:' + SQLpass + '@localhost:3306'\n",
    "cursor = create_engine(str_conn)\n",
    "\n",
    "cursor.execute('drop database if exists blockbuster;')\n",
    "cursor.execute('create database blockbuster;')"
   ]
  },
  {
   "cell_type": "markdown",
   "id": "3ae19b29",
   "metadata": {},
   "source": [
    "### 3. Load the csv tables to jupyter"
   ]
  },
  {
   "cell_type": "code",
   "execution_count": 54,
   "id": "55115457",
   "metadata": {},
   "outputs": [],
   "source": [
    "rental = pd.read_csv('../../data/clean/rental2.csv')\n",
    "film = pd.read_csv('../../data/clean/film2.csv')\n",
    "policy = pd.read_csv('../../data/clean/policy2.csv')\n",
    "\n",
    "inventory = pd.read_csv('../../data/clean/inventory2.csv')\n",
    "staff = pd.read_csv('../../data/clean/staff2.csv')\n",
    "store = pd.read_csv('../../data/clean/store2.csv')\n",
    "client = pd.read_csv('../../data/clean/client2.csv')\n",
    "\n",
    "actor = pd.read_csv('../../data/clean/actor2.csv')\n",
    "special_feature = pd.read_csv('../../data/clean/special_feature2.csv')\n",
    "category = pd.read_csv('../../data/clean/category2.csv')\n",
    "film_has_category = pd.read_csv('../../data/clean/film_has_category2.csv')"
   ]
  },
  {
   "cell_type": "markdown",
   "id": "5ce89328",
   "metadata": {},
   "source": [
    "### SqlAlchemy\n",
    "\n",
    "* Create cursor to directly connect to blockbuster DDBB in mySQL"
   ]
  },
  {
   "cell_type": "code",
   "execution_count": 55,
   "id": "6e9d9c5c",
   "metadata": {},
   "outputs": [],
   "source": [
    "str_conn = 'mysql+pymysql://root:' + SQLpass + '@localhost:3306/blockbuster'\n",
    "cursor = create_engine(str_conn)"
   ]
  },
  {
   "cell_type": "markdown",
   "id": "bf6db950",
   "metadata": {},
   "source": [
    "### 4. Load de tables to mySQL DDBB Blockbuster"
   ]
  },
  {
   "cell_type": "code",
   "execution_count": 56,
   "id": "b4fd2aee",
   "metadata": {
    "scrolled": false
   },
   "outputs": [],
   "source": [
    "rental.to_sql(name='rental',      # nombre de la tabla\n",
    "            con=cursor,          # conexion al servidor\n",
    "            if_exists='replace',  # reemplaza la tabla si existe\n",
    "            index=False)\n",
    "\n",
    "film.to_sql(name='film',      # nombre de la tabla\n",
    "            con=cursor,          # conexion al servidor\n",
    "            if_exists='replace',  # reemplaza la tabla si existe\n",
    "            index=False)\n",
    "\n",
    "\n",
    "policy.to_sql(name='policy',      # nombre de la tabla\n",
    "            con=cursor,          # conexion al servidor\n",
    "            if_exists='replace',  # reemplaza la tabla si existe\n",
    "            index=False)\n",
    "\n",
    "###\n",
    "\n",
    "inventory.to_sql(name='inventory',      # nombre de la tabla\n",
    "            con=cursor,          # conexion al servidor\n",
    "            if_exists='replace',  # reemplaza la tabla si existe\n",
    "            index=False)\n",
    "\n",
    "staff.to_sql(name='staff',      # nombre de la tabla\n",
    "            con=cursor,          # conexion al servidor\n",
    "            if_exists='replace',  # reemplaza la tabla si existe\n",
    "            index=False)\n",
    "\n",
    "store.to_sql(name='store',      # nombre de la tabla\n",
    "            con=cursor,          # conexion al servidor\n",
    "            if_exists='replace',  # reemplaza la tabla si existe\n",
    "            index=False)\n",
    "\n",
    "client.to_sql(name='client',      # nombre de la tabla\n",
    "            con=cursor,          # conexion al servidor\n",
    "            if_exists='replace',  # reemplaza la tabla si existe\n",
    "            index=False)\n",
    "\n",
    "###\n",
    "\n",
    "category.to_sql(name='category',      # nombre de la tabla\n",
    "            con=cursor,          # conexion al servidor\n",
    "            if_exists='replace',  # reemplaza la tabla si existe\n",
    "            index=False)\n",
    "\n",
    "film_has_category.to_sql(name='film_has_category',      # nombre de la tabla\n",
    "            con=cursor,          # conexion al servidor\n",
    "            if_exists='replace',  # reemplaza la tabla si existe\n",
    "            index=False)\n",
    "\n",
    "\n",
    "actor.to_sql(name='actor',      # nombre de la tabla\n",
    "            con=cursor,          # conexion al servidor\n",
    "            if_exists='replace',  # reemplaza la tabla si existe\n",
    "            index=False)\n",
    "\n",
    "\n",
    "special_feature.to_sql(name='special_feature',      # nombre de la tabla\n",
    "            con=cursor,          # conexion al servidor\n",
    "            if_exists='replace',  # reemplaza la tabla si existe\n",
    "            index=False)\n"
   ]
  },
  {
   "cell_type": "markdown",
   "id": "3ecb84df",
   "metadata": {},
   "source": [
    "At this point, I continued editing the DDBB relations through **`mySQL Workbench`**. <br/>\n",
    "The DDBB was stored as a `.sql` file and I checked the DDBB structure is fine.\n",
    "I made some queries to extract info from the DDBB too.\n",
    "\n",
    "\n",
    "Nevertheless, I still wanted to learn how to make the PK-FK using **`sqlAlchemy`**. <br/>\n",
    "The next lines are not definite cause they still return errors in some tables."
   ]
  },
  {
   "cell_type": "markdown",
   "id": "96ab2f78",
   "metadata": {},
   "source": [
    "### ADD PRIMARY KEY ATTRIBUTE"
   ]
  },
  {
   "cell_type": "code",
   "execution_count": 57,
   "id": "a3e92552",
   "metadata": {},
   "outputs": [
    {
     "data": {
      "text/plain": [
       "<sqlalchemy.engine.cursor.LegacyCursorResult at 0x10be06850>"
      ]
     },
     "execution_count": 57,
     "metadata": {},
     "output_type": "execute_result"
    }
   ],
   "source": [
    "cursor.execute(\"\"\"ALTER TABLE film ADD PRIMARY KEY (film_id);\"\"\")\n",
    "cursor.execute(\"\"\"ALTER TABLE actor ADD PRIMARY KEY (actor_id);\"\"\")\n",
    "cursor.execute(\"\"\"ALTER TABLE category ADD PRIMARY KEY (category_id);\"\"\")\n",
    "######cursor.execute(\"\"\"ALTER TABLE film_has_category ADD PRIMARY KEY (film_id);\"\"\")\n",
    "cursor.execute(\"\"\"ALTER TABLE policy ADD PRIMARY KEY (policy_id);\"\"\")\n",
    "cursor.execute(\"\"\"ALTER TABLE inventory ADD PRIMARY KEY (copy_id);\"\"\")\n",
    "\n",
    "\n",
    "cursor.execute(\"\"\"ALTER TABLE rental ADD PRIMARY KEY (rental_id);\"\"\")\n",
    "cursor.execute(\"\"\"ALTER TABLE staff ADD PRIMARY KEY (staff_id);\"\"\")\n",
    "cursor.execute(\"\"\"ALTER TABLE store ADD PRIMARY KEY (store_id);\"\"\")\n",
    "cursor.execute(\"\"\"ALTER TABLE client ADD PRIMARY KEY (client_id);\"\"\")"
   ]
  },
  {
   "cell_type": "code",
   "execution_count": 76,
   "id": "e66751c6",
   "metadata": {},
   "outputs": [
    {
     "data": {
      "text/plain": [
       "True"
      ]
     },
     "execution_count": 76,
     "metadata": {},
     "output_type": "execute_result"
    }
   ],
   "source": [
    "actor[[\"film_id\"]].duplicated().any()"
   ]
  },
  {
   "cell_type": "markdown",
   "id": "41d56261",
   "metadata": {},
   "source": [
    "### ADD FORIGN KEY RELATIONS"
   ]
  },
  {
   "cell_type": "markdown",
   "id": "daf45f03",
   "metadata": {},
   "source": [
    "#### This lines worked correctly"
   ]
  },
  {
   "cell_type": "code",
   "execution_count": 78,
   "id": "df4fe7ac",
   "metadata": {},
   "outputs": [
    {
     "data": {
      "text/plain": [
       "'\\ncursor.execute(\"\"\"ALTER TABLE actor\\nADD CONSTRAINT film_id FOREIGN KEY (film_id) REFERENCES film (film_id);\"\"\")\\n\\ncursor.execute(\"\"\"ALTER TABLE film_has_category \\nADD CONSTRAINT category_id FOREIGN KEY (category_id) REFERENCES category (category_id);\"\"\")\\n\\ncursor.execute(\"\"\"\\nALTER TABLE rental \\nADD CONSTRAINT copy_id FOREIGN KEY (copy_id) REFERENCES inventory (copy_id),\\nADD CONSTRAINT store_id FOREIGN KEY (store_id) REFERENCES store (store_id),\\nADD CONSTRAINT client_id FOREIGN KEY (client_id) REFERENCES client (client_id),\\nADD CONSTRAINT staff_id FOREIGN KEY (staff_id) REFERENCES staff (staff_id);\\n\"\"\")\\n\\n'"
      ]
     },
     "execution_count": 78,
     "metadata": {},
     "output_type": "execute_result"
    }
   ],
   "source": [
    "'''\n",
    "cursor.execute(\"\"\"ALTER TABLE actor\n",
    "ADD CONSTRAINT film_id FOREIGN KEY (film_id) REFERENCES film (film_id);\"\"\")\n",
    "\n",
    "cursor.execute(\"\"\"ALTER TABLE film_has_category \n",
    "ADD CONSTRAINT category_id FOREIGN KEY (category_id) REFERENCES category (category_id);\"\"\")\n",
    "\n",
    "cursor.execute(\"\"\"\n",
    "ALTER TABLE rental \n",
    "ADD CONSTRAINT copy_id FOREIGN KEY (copy_id) REFERENCES inventory (copy_id),\n",
    "ADD CONSTRAINT store_id FOREIGN KEY (store_id) REFERENCES store (store_id),\n",
    "ADD CONSTRAINT client_id FOREIGN KEY (client_id) REFERENCES client (client_id),\n",
    "ADD CONSTRAINT staff_id FOREIGN KEY (staff_id) REFERENCES staff (staff_id);\n",
    "\"\"\")\n",
    "\n",
    "'''"
   ]
  },
  {
   "cell_type": "markdown",
   "id": "5384c477",
   "metadata": {},
   "source": [
    "#### This lines did not work\n",
    "The error claims I have duplicate values. </br>\n",
    "However, I checked PK's have no duplicates! Only the FK's have duplicates, which is expected in a DDBB"
   ]
  },
  {
   "cell_type": "code",
   "execution_count": null,
   "id": "895f41c3",
   "metadata": {},
   "outputs": [],
   "source": [
    "#cursor.execute(\"\"\"ALTER TABLE film_has_category \n",
    "#ADD CONSTRAINT film_id FOREIGN KEY (film_id) REFERENCES film (film_id);\"\"\")\n",
    "\n",
    "#cursor.execute(\"\"\"ALTER TABLE special_feature \n",
    "#ADD CONSTRAINT film_id FOREIGN KEY (film_id) REFERENCES film (film_id);\"\"\")\n",
    "\n",
    "#cursor.execute(\"\"\"ALTER TABLE policy \n",
    "#ADD CONSTRAINT copy_id FOREIGN KEY (copy_id) REFERENCES inventory (copy_id);\"\"\")\n",
    "\n",
    "#cursor.execute(\"\"\"ALTER TABLE inventory \n",
    "#ADD CONSTRAINT film_id FOREIGN KEY (film_id) REFERENCES film (film_id);\"\"\")\n"
   ]
  },
  {
   "cell_type": "markdown",
   "id": "91cdee5f",
   "metadata": {},
   "source": [
    "## DDBB EER\n",
    "\n",
    "The DDBB will be made by **3 main tables**: `film.csv`, `rental.csv` and `policy.csv` <br/>\n",
    "and **8 peripheral tables**  `language.csv`, `category.csv`, `special_features.csv`, `actor.csv`, \n",
    "`store.csv`, `staff.csv`, `inventory.csv`, `client.csv`\n",
    "\n",
    "Next, I will enumerate the columns of each **main table**,<br/> the **FK's** will relate to the **peripheral** tables referred above.\n",
    "\n",
    "\n",
    "## `film.csv`\n",
    "\n",
    "Previous assumptions: The business rents VHS and they only include 1 language\n",
    "\n",
    "* `(PK)film_id`\n",
    "* title\n",
    "* description\n",
    "* release_year\n",
    "* length\n",
    "* rating\n",
    "\n",
    "`FOREIGN KEYS:` <br/>\n",
    "**1 to many:** <br/>\n",
    "   * language_id\n",
    "   * category_id\n",
    "\n",
    "**many to many:** <br/>\n",
    "   * special_features_id\n",
    "   * actor_id\n",
    "\n",
    "\n",
    "## `rental.csv`\n",
    "\n",
    "Previous assumptions: <br/>\n",
    "If a client rents multiple films, we will generate multiple rental_ids <br/>\n",
    "The store possess multiple copies of the same film so **film_id != copy_id**\n",
    "\n",
    "* `(PK)rental_id`\n",
    "* rental_date\n",
    "* return_date\n",
    "\n",
    "`FOREIGN KEYS:` <br/>\n",
    "**1 to many:** <br/>\n",
    "   * client_id\n",
    "   * staff_id\n",
    "   * store_id\n",
    "   * copy_id\n",
    "   * invoice - as calculation of [(return_date-rental_date) * business.rental_rate]<br/>\n",
    "\n",
    "\n",
    "   ## `policy.csv`\n",
    "\n",
    "Previous assumptions:  <br/>\n",
    "The DDBB manages multiple stores located in different countries under different renting policies.\n",
    "\n",
    "The PK is made by two FKs!!!\n",
    "\n",
    "* `(PK)film_id`\n",
    "* `(PK)store_id` \n",
    "\n",
    "* rental_rate - The renting price of the film varies according to the store location and film popularity\n",
    "* rental_duration - The max renting duration varies according to the store location and film popularity\n",
    "* replacement_cost - The selling price of the film varies according to the store location\n",
    "\n",
    "\n",
    "## Peripheral tables\n",
    "\n",
    "### `store.csv`\n",
    "\n",
    "* `(PK)store_id`\n",
    "* country\n",
    "* address\n",
    "* staff_id (FK)\n",
    "\n",
    "### `staff.csv`\n",
    "\n",
    "* `(PK)staff_id`\n",
    "* name\n",
    "* address\n",
    "* salary\n",
    "* supervised_by\n",
    "\n",
    "### `client.csv`\n",
    "\n",
    "* `(PK)client_id`\n",
    "* address\n",
    "* rental_id (FK)\n",
    "\n",
    "\n",
    "###  `inventory.csv`\n",
    "* `(PK)copy_id`\n",
    "* film_id (FK)\n",
    "* store_id (FK)\n",
    "* status (rented/available)\n",
    "\n",
    "----\n",
    "\n",
    "## Peripheral tables related to the film info\n",
    "\n",
    "###  `language.csv`,   `category.csv`,   `actor.csv`,   `special_features.csv`"
   ]
  },
  {
   "cell_type": "code",
   "execution_count": null,
   "id": "7c44cfcd",
   "metadata": {},
   "outputs": [],
   "source": []
  }
 ],
 "metadata": {
  "kernelspec": {
   "display_name": "env37",
   "language": "python",
   "name": "env37"
  },
  "language_info": {
   "codemirror_mode": {
    "name": "ipython",
    "version": 3
   },
   "file_extension": ".py",
   "mimetype": "text/x-python",
   "name": "python",
   "nbconvert_exporter": "python",
   "pygments_lexer": "ipython3",
   "version": "3.7.16"
  }
 },
 "nbformat": 4,
 "nbformat_minor": 5
}
