{
 "cells": [
  {
   "cell_type": "markdown",
   "id": "e820b8f3",
   "metadata": {},
   "source": [
    "## Make the necessary changes in the tables to accomodate the EER\n",
    "\n",
    "0. Import modules\n",
    "1. Load `clean1` dataframes\n",
    "2. Get a global view of the data to reorganize the DDBB tables\n",
    "3. Reorganize and create new tables \n",
    "4. Save the new dataframes `clean2`"
   ]
  },
  {
   "cell_type": "markdown",
   "id": "70589f7a",
   "metadata": {},
   "source": [
    "### 0. Import modules"
   ]
  },
  {
   "cell_type": "code",
   "execution_count": 1,
   "id": "4b52f318",
   "metadata": {},
   "outputs": [],
   "source": [
    "# Import modules etc\n",
    "\n",
    "import pandas as pd\n",
    "import numpy as np\n",
    "import re\n",
    "import random\n",
    "\n",
    "np.random.seed(42)\n",
    "pd.set_option('display.max_columns', None) # show all the columns\n",
    "\n",
    "import warnings\n",
    "warnings.filterwarnings('ignore') # ignorar warnings\n",
    "\n",
    "\n",
    "\n",
    "###########\n",
    "from matplotlib_venn import venn3\n",
    "\n",
    "#import pylab as plt   # import matplotlib.pyplot as plt#\n",
    "import matplotlib.pyplot as plt\n",
    "\n",
    "# print the plot in the jupyter output\n",
    "%matplotlib inline \n",
    "\n",
    "###########\n",
    "\n",
    "import seaborn as sns\n",
    "import fuzzywuzzy as fzw\n",
    "\n",
    "# Import my module\n",
    "from src import dataanalysis_fun1 as mlg "
   ]
  },
  {
   "cell_type": "code",
   "execution_count": 2,
   "id": "bd479495",
   "metadata": {},
   "outputs": [],
   "source": [
    "# Reload my module if neccessary\n",
    "\n",
    "import importlib\n",
    "from src import dataanalysis_fun1 as mlg # Import the module\n",
    "#importlib.reload(mlg)  # Reload the module\n",
    "\n",
    "# Suppress warning when reloading the module\n",
    "with warnings.catch_warnings():\n",
    "    warnings.simplefilter(\"ignore\") \n",
    "    importlib.reload(mlg)  # Reload the module"
   ]
  },
  {
   "cell_type": "markdown",
   "id": "8470b926",
   "metadata": {},
   "source": [
    "## 1. Load clean1 dataframes"
   ]
  },
  {
   "cell_type": "code",
   "execution_count": 151,
   "id": "1abbe48c",
   "metadata": {},
   "outputs": [],
   "source": [
    "actor1 = pd.read_csv('../../data/clean/actor1.csv')\n",
    "rental1 = pd.read_csv('../../data/clean/rental1.csv')\n",
    "film1 = pd.read_csv('../../data/clean/film1.csv')\n",
    "category1 = pd.read_csv('../../data/clean/category1.csv')\n",
    "language1 = pd.read_csv('../../data/clean/language1.csv')\n",
    "inventory1 = pd.read_csv('../../data/clean/inventory1.csv')\n",
    "old_HDD1 = pd.read_csv('../../data/clean/old_HDD1.csv')\n",
    "special_feature1 = pd.read_csv('../../data/clean/special_feature1.csv')"
   ]
  },
  {
   "cell_type": "markdown",
   "id": "206d63a4",
   "metadata": {},
   "source": [
    "## 2 Get a global view of the data to reorganize the DDBB tables"
   ]
  },
  {
   "cell_type": "code",
   "execution_count": 264,
   "id": "227618b3",
   "metadata": {},
   "outputs": [
    {
     "name": "stdout",
     "output_type": "stream",
     "text": [
      "\n",
      "\n",
      "rental1\n"
     ]
    },
    {
     "data": {
      "text/html": [
       "<div>\n",
       "<style scoped>\n",
       "    .dataframe tbody tr th:only-of-type {\n",
       "        vertical-align: middle;\n",
       "    }\n",
       "\n",
       "    .dataframe tbody tr th {\n",
       "        vertical-align: top;\n",
       "    }\n",
       "\n",
       "    .dataframe thead th {\n",
       "        text-align: right;\n",
       "    }\n",
       "</style>\n",
       "<table border=\"1\" class=\"dataframe\">\n",
       "  <thead>\n",
       "    <tr style=\"text-align: right;\">\n",
       "      <th></th>\n",
       "      <th>rental_id</th>\n",
       "      <th>rental_date</th>\n",
       "      <th>inventory_id</th>\n",
       "      <th>customer_id</th>\n",
       "      <th>return_date</th>\n",
       "      <th>staff_id</th>\n",
       "    </tr>\n",
       "  </thead>\n",
       "  <tbody>\n",
       "    <tr>\n",
       "      <th>413</th>\n",
       "      <td>415</td>\n",
       "      <td>2005-05-27 14:51:45</td>\n",
       "      <td>3698</td>\n",
       "      <td>304</td>\n",
       "      <td>2005-05-28 19:07:45</td>\n",
       "      <td>2</td>\n",
       "    </tr>\n",
       "    <tr>\n",
       "      <th>907</th>\n",
       "      <td>909</td>\n",
       "      <td>2005-05-30 10:43:38</td>\n",
       "      <td>3775</td>\n",
       "      <td>486</td>\n",
       "      <td>2005-06-08 12:07:38</td>\n",
       "      <td>1</td>\n",
       "    </tr>\n",
       "  </tbody>\n",
       "</table>\n",
       "</div>"
      ],
      "text/plain": [
       "     rental_id          rental_date  inventory_id  customer_id  \\\n",
       "413        415  2005-05-27 14:51:45          3698          304   \n",
       "907        909  2005-05-30 10:43:38          3775          486   \n",
       "\n",
       "             return_date  staff_id  \n",
       "413  2005-05-28 19:07:45         2  \n",
       "907  2005-06-08 12:07:38         1  "
      ]
     },
     "metadata": {},
     "output_type": "display_data"
    },
    {
     "name": "stdout",
     "output_type": "stream",
     "text": [
      "\n",
      "\n",
      "film1\n"
     ]
    },
    {
     "data": {
      "text/html": [
       "<div>\n",
       "<style scoped>\n",
       "    .dataframe tbody tr th:only-of-type {\n",
       "        vertical-align: middle;\n",
       "    }\n",
       "\n",
       "    .dataframe tbody tr th {\n",
       "        vertical-align: top;\n",
       "    }\n",
       "\n",
       "    .dataframe thead th {\n",
       "        text-align: right;\n",
       "    }\n",
       "</style>\n",
       "<table border=\"1\" class=\"dataframe\">\n",
       "  <thead>\n",
       "    <tr style=\"text-align: right;\">\n",
       "      <th></th>\n",
       "      <th>film_id</th>\n",
       "      <th>title</th>\n",
       "      <th>description</th>\n",
       "      <th>release_year</th>\n",
       "      <th>language_id</th>\n",
       "      <th>rental_duration</th>\n",
       "      <th>rental_rate</th>\n",
       "      <th>length</th>\n",
       "      <th>replacement_cost</th>\n",
       "      <th>rating</th>\n",
       "    </tr>\n",
       "  </thead>\n",
       "  <tbody>\n",
       "    <tr>\n",
       "      <th>228</th>\n",
       "      <td>229</td>\n",
       "      <td>DEVIL DESIRE</td>\n",
       "      <td>A Beautiful Reflection of a Monkey And a Denti...</td>\n",
       "      <td>2006</td>\n",
       "      <td>1</td>\n",
       "      <td>6</td>\n",
       "      <td>4.99</td>\n",
       "      <td>87</td>\n",
       "      <td>12.99</td>\n",
       "      <td>R</td>\n",
       "    </tr>\n",
       "    <tr>\n",
       "      <th>450</th>\n",
       "      <td>451</td>\n",
       "      <td>IGBY MAKER</td>\n",
       "      <td>A Epic Documentary of a Hunter And a Dog who m...</td>\n",
       "      <td>2006</td>\n",
       "      <td>1</td>\n",
       "      <td>7</td>\n",
       "      <td>4.99</td>\n",
       "      <td>160</td>\n",
       "      <td>12.99</td>\n",
       "      <td>NC-17</td>\n",
       "    </tr>\n",
       "  </tbody>\n",
       "</table>\n",
       "</div>"
      ],
      "text/plain": [
       "     film_id         title                                        description  \\\n",
       "228      229  DEVIL DESIRE  A Beautiful Reflection of a Monkey And a Denti...   \n",
       "450      451    IGBY MAKER  A Epic Documentary of a Hunter And a Dog who m...   \n",
       "\n",
       "     release_year  language_id  rental_duration  rental_rate  length  \\\n",
       "228          2006            1                6         4.99      87   \n",
       "450          2006            1                7         4.99     160   \n",
       "\n",
       "     replacement_cost rating  \n",
       "228             12.99      R  \n",
       "450             12.99  NC-17  "
      ]
     },
     "metadata": {},
     "output_type": "display_data"
    },
    {
     "name": "stdout",
     "output_type": "stream",
     "text": [
      "\n",
      "\n",
      "actor1\n"
     ]
    },
    {
     "data": {
      "text/html": [
       "<div>\n",
       "<style scoped>\n",
       "    .dataframe tbody tr th:only-of-type {\n",
       "        vertical-align: middle;\n",
       "    }\n",
       "\n",
       "    .dataframe tbody tr th {\n",
       "        vertical-align: top;\n",
       "    }\n",
       "\n",
       "    .dataframe thead th {\n",
       "        text-align: right;\n",
       "    }\n",
       "</style>\n",
       "<table border=\"1\" class=\"dataframe\">\n",
       "  <thead>\n",
       "    <tr style=\"text-align: right;\">\n",
       "      <th></th>\n",
       "      <th>actor_id</th>\n",
       "      <th>first_name</th>\n",
       "      <th>last_name</th>\n",
       "    </tr>\n",
       "  </thead>\n",
       "  <tbody>\n",
       "    <tr>\n",
       "      <th>102</th>\n",
       "      <td>103</td>\n",
       "      <td>MATTHEW</td>\n",
       "      <td>LEIGH</td>\n",
       "    </tr>\n",
       "    <tr>\n",
       "      <th>77</th>\n",
       "      <td>78</td>\n",
       "      <td>GROUCHO</td>\n",
       "      <td>SINATRA</td>\n",
       "    </tr>\n",
       "  </tbody>\n",
       "</table>\n",
       "</div>"
      ],
      "text/plain": [
       "     actor_id first_name last_name\n",
       "102       103    MATTHEW     LEIGH\n",
       "77         78    GROUCHO   SINATRA"
      ]
     },
     "metadata": {},
     "output_type": "display_data"
    },
    {
     "name": "stdout",
     "output_type": "stream",
     "text": [
      "\n",
      "\n",
      "category1\n"
     ]
    },
    {
     "data": {
      "text/html": [
       "<div>\n",
       "<style scoped>\n",
       "    .dataframe tbody tr th:only-of-type {\n",
       "        vertical-align: middle;\n",
       "    }\n",
       "\n",
       "    .dataframe tbody tr th {\n",
       "        vertical-align: top;\n",
       "    }\n",
       "\n",
       "    .dataframe thead th {\n",
       "        text-align: right;\n",
       "    }\n",
       "</style>\n",
       "<table border=\"1\" class=\"dataframe\">\n",
       "  <thead>\n",
       "    <tr style=\"text-align: right;\">\n",
       "      <th></th>\n",
       "      <th>category_id</th>\n",
       "      <th>name</th>\n",
       "    </tr>\n",
       "  </thead>\n",
       "  <tbody>\n",
       "    <tr>\n",
       "      <th>12</th>\n",
       "      <td>13</td>\n",
       "      <td>New</td>\n",
       "    </tr>\n",
       "    <tr>\n",
       "      <th>15</th>\n",
       "      <td>16</td>\n",
       "      <td>Travel</td>\n",
       "    </tr>\n",
       "  </tbody>\n",
       "</table>\n",
       "</div>"
      ],
      "text/plain": [
       "    category_id    name\n",
       "12           13     New\n",
       "15           16  Travel"
      ]
     },
     "metadata": {},
     "output_type": "display_data"
    },
    {
     "name": "stdout",
     "output_type": "stream",
     "text": [
      "\n",
      "\n",
      "language1\n"
     ]
    },
    {
     "data": {
      "text/html": [
       "<div>\n",
       "<style scoped>\n",
       "    .dataframe tbody tr th:only-of-type {\n",
       "        vertical-align: middle;\n",
       "    }\n",
       "\n",
       "    .dataframe tbody tr th {\n",
       "        vertical-align: top;\n",
       "    }\n",
       "\n",
       "    .dataframe thead th {\n",
       "        text-align: right;\n",
       "    }\n",
       "</style>\n",
       "<table border=\"1\" class=\"dataframe\">\n",
       "  <thead>\n",
       "    <tr style=\"text-align: right;\">\n",
       "      <th></th>\n",
       "      <th>language_id</th>\n",
       "      <th>name</th>\n",
       "    </tr>\n",
       "  </thead>\n",
       "  <tbody>\n",
       "    <tr>\n",
       "      <th>4</th>\n",
       "      <td>5</td>\n",
       "      <td>French</td>\n",
       "    </tr>\n",
       "    <tr>\n",
       "      <th>1</th>\n",
       "      <td>2</td>\n",
       "      <td>Italian</td>\n",
       "    </tr>\n",
       "  </tbody>\n",
       "</table>\n",
       "</div>"
      ],
      "text/plain": [
       "   language_id     name\n",
       "4            5   French\n",
       "1            2  Italian"
      ]
     },
     "metadata": {},
     "output_type": "display_data"
    },
    {
     "name": "stdout",
     "output_type": "stream",
     "text": [
      "\n",
      "\n",
      "inventory1\n"
     ]
    },
    {
     "data": {
      "text/html": [
       "<div>\n",
       "<style scoped>\n",
       "    .dataframe tbody tr th:only-of-type {\n",
       "        vertical-align: middle;\n",
       "    }\n",
       "\n",
       "    .dataframe tbody tr th {\n",
       "        vertical-align: top;\n",
       "    }\n",
       "\n",
       "    .dataframe thead th {\n",
       "        text-align: right;\n",
       "    }\n",
       "</style>\n",
       "<table border=\"1\" class=\"dataframe\">\n",
       "  <thead>\n",
       "    <tr style=\"text-align: right;\">\n",
       "      <th></th>\n",
       "      <th>inventory_id</th>\n",
       "      <th>film_id</th>\n",
       "      <th>store_id</th>\n",
       "    </tr>\n",
       "  </thead>\n",
       "  <tbody>\n",
       "    <tr>\n",
       "      <th>345</th>\n",
       "      <td>346</td>\n",
       "      <td>77</td>\n",
       "      <td>1</td>\n",
       "    </tr>\n",
       "    <tr>\n",
       "      <th>430</th>\n",
       "      <td>431</td>\n",
       "      <td>95</td>\n",
       "      <td>2</td>\n",
       "    </tr>\n",
       "  </tbody>\n",
       "</table>\n",
       "</div>"
      ],
      "text/plain": [
       "     inventory_id  film_id  store_id\n",
       "345           346       77         1\n",
       "430           431       95         2"
      ]
     },
     "metadata": {},
     "output_type": "display_data"
    },
    {
     "name": "stdout",
     "output_type": "stream",
     "text": [
      "\n",
      "\n",
      "old_HDD1\n"
     ]
    },
    {
     "data": {
      "text/html": [
       "<div>\n",
       "<style scoped>\n",
       "    .dataframe tbody tr th:only-of-type {\n",
       "        vertical-align: middle;\n",
       "    }\n",
       "\n",
       "    .dataframe tbody tr th {\n",
       "        vertical-align: top;\n",
       "    }\n",
       "\n",
       "    .dataframe thead th {\n",
       "        text-align: right;\n",
       "    }\n",
       "</style>\n",
       "<table border=\"1\" class=\"dataframe\">\n",
       "  <thead>\n",
       "    <tr style=\"text-align: right;\">\n",
       "      <th></th>\n",
       "      <th>first_name</th>\n",
       "      <th>last_name</th>\n",
       "      <th>title</th>\n",
       "      <th>release_year</th>\n",
       "      <th>category_id</th>\n",
       "    </tr>\n",
       "  </thead>\n",
       "  <tbody>\n",
       "    <tr>\n",
       "      <th>260</th>\n",
       "      <td>KARL</td>\n",
       "      <td>BERRY</td>\n",
       "      <td>ALONE TRIP</td>\n",
       "      <td>2006</td>\n",
       "      <td>12</td>\n",
       "    </tr>\n",
       "    <tr>\n",
       "      <th>181</th>\n",
       "      <td>MATTHEW</td>\n",
       "      <td>JOHANSSON</td>\n",
       "      <td>RUNNER MADIGAN</td>\n",
       "      <td>2006</td>\n",
       "      <td>12</td>\n",
       "    </tr>\n",
       "  </tbody>\n",
       "</table>\n",
       "</div>"
      ],
      "text/plain": [
       "    first_name  last_name           title  release_year  category_id\n",
       "260       KARL      BERRY      ALONE TRIP          2006           12\n",
       "181    MATTHEW  JOHANSSON  RUNNER MADIGAN          2006           12"
      ]
     },
     "metadata": {},
     "output_type": "display_data"
    },
    {
     "name": "stdout",
     "output_type": "stream",
     "text": [
      "\n",
      "\n",
      "special_feature1\n"
     ]
    },
    {
     "data": {
      "text/html": [
       "<div>\n",
       "<style scoped>\n",
       "    .dataframe tbody tr th:only-of-type {\n",
       "        vertical-align: middle;\n",
       "    }\n",
       "\n",
       "    .dataframe tbody tr th {\n",
       "        vertical-align: top;\n",
       "    }\n",
       "\n",
       "    .dataframe thead th {\n",
       "        text-align: right;\n",
       "    }\n",
       "</style>\n",
       "<table border=\"1\" class=\"dataframe\">\n",
       "  <thead>\n",
       "    <tr style=\"text-align: right;\">\n",
       "      <th></th>\n",
       "      <th>film_id</th>\n",
       "      <th>special_features</th>\n",
       "    </tr>\n",
       "  </thead>\n",
       "  <tbody>\n",
       "    <tr>\n",
       "      <th>447</th>\n",
       "      <td>211</td>\n",
       "      <td>Behind the Scenes</td>\n",
       "    </tr>\n",
       "    <tr>\n",
       "      <th>1467</th>\n",
       "      <td>695</td>\n",
       "      <td>Behind the Scenes</td>\n",
       "    </tr>\n",
       "  </tbody>\n",
       "</table>\n",
       "</div>"
      ],
      "text/plain": [
       "      film_id   special_features\n",
       "447       211  Behind the Scenes\n",
       "1467      695  Behind the Scenes"
      ]
     },
     "metadata": {},
     "output_type": "display_data"
    }
   ],
   "source": [
    "print(\"\\n\")\n",
    "print(\"rental1\")\n",
    "display(rental1.sample(2))\n",
    "\n",
    "print(\"\\n\")\n",
    "print(\"film1\")\n",
    "display(film1.sample(2))\n",
    "\n",
    "\n",
    "print(\"\\n\")\n",
    "print(\"actor1\")\n",
    "display(actor1.sample(2))\n",
    "\n",
    "\n",
    "print(\"\\n\")\n",
    "print(\"category1\")\n",
    "display(category1.sample(2))\n",
    "\n",
    "print(\"\\n\")\n",
    "print(\"language1\")\n",
    "display(language1.sample(2))\n",
    "\n",
    "print(\"\\n\")\n",
    "print(\"inventory1\")\n",
    "display(inventory1.sample(2))\n",
    "\n",
    "print(\"\\n\")\n",
    "print(\"old_HDD1\")\n",
    "display(old_HDD1.sample(2))\n",
    "\n",
    "print(\"\\n\")\n",
    "print(\"special_feature1\")\n",
    "display(special_feature1.sample(2))"
   ]
  },
  {
   "cell_type": "markdown",
   "id": "aa892bb5",
   "metadata": {},
   "source": [
    "## 3. Reorganize and create new tables\n",
    "\n",
    "The strategy will be to:\n",
    "* 3.1 create the complete tables including both PK and FKs (python-pandas)\n",
    "* 3.2 execute the queries to define the tables structure and relations (python-SQL) \n",
    "* 3.3 add content to the tables in the correct order to fill PKs and FKs (python-SQL) \n"
   ]
  },
  {
   "cell_type": "markdown",
   "id": "50c76dfe",
   "metadata": {},
   "source": [
    "### 3.1.0 The columns  `last_update` are uninformative\n",
    "\n",
    "- `last_update` columns have a unique date value and it is not associated to other columns in the rest of tables.\n",
    "\n",
    "- **Drop them!**"
   ]
  },
  {
   "cell_type": "code",
   "execution_count": 152,
   "id": "76bdb9ab",
   "metadata": {},
   "outputs": [
    {
     "data": {
      "text/plain": [
       "<matplotlib_venn._common.VennDiagram at 0x1246a83d0>"
      ]
     },
     "execution_count": 152,
     "metadata": {},
     "output_type": "execute_result"
    },
    {
     "data": {
      "image/png": "[encoded data removed]",
      "text/plain": [
       "<Figure size 640x480 with 1 Axes>"
      ]
     },
     "metadata": {},
     "output_type": "display_data"
    }
   ],
   "source": [
    "# Create a Venn diagram\n",
    "venn3([set(actor1[\"last_update\"].unique()),\n",
    "       set(film1[\"last_update\"].unique()),\n",
    "       set(rental1[\"last_update\"].unique())],\n",
    "      set_labels=(\"Actor\", \"Film\", \"Rental\"))"
   ]
  },
  {
   "cell_type": "code",
   "execution_count": 153,
   "id": "217413ab",
   "metadata": {},
   "outputs": [
    {
     "data": {
      "text/plain": [
       "<matplotlib_venn._common.VennDiagram at 0x126f96d90>"
      ]
     },
     "execution_count": 153,
     "metadata": {},
     "output_type": "execute_result"
    },
    {
     "data": {
      "image/png": "[encoded data removed]",
      "text/plain": [
       "<Figure size 640x480 with 1 Axes>"
      ]
     },
     "metadata": {},
     "output_type": "display_data"
    }
   ],
   "source": [
    "# Create a Venn diagram\n",
    "venn3([set(category1[\"last_update\"].unique()),\n",
    "       set(language1[\"last_update\"].unique()),\n",
    "       set(inventory1[\"last_update\"].unique())],\n",
    "      set_labels=(\"Category\", \"Language\", \"Inventory\"))"
   ]
  },
  {
   "cell_type": "markdown",
   "id": "e4f54edf",
   "metadata": {},
   "source": [
    "#### Drop  `last_update` columns "
   ]
  },
  {
   "cell_type": "code",
   "execution_count": 154,
   "id": "14bcc5b3",
   "metadata": {},
   "outputs": [],
   "source": [
    "actor1=actor1.loc[:,~actor1.columns.isin([\"last_update\"])]\n",
    "film1=film1.loc[:,~film1.columns.isin([\"last_update\"])]\n",
    "rental1=rental1.loc[:,~rental1.columns.isin([\"last_update\"])]\n",
    "category1=category1.loc[:,~category1.columns.isin([\"last_update\"])]\n",
    "language1=language1.loc[:,~language1.columns.isin([\"last_update\"])]\n",
    "inventory1=inventory1.loc[:,~inventory1.columns.isin([\"last_update\"])]"
   ]
  },
  {
   "cell_type": "markdown",
   "id": "747be917",
   "metadata": {},
   "source": [
    "### 3.1.1 Transfer tilte and actor info from  `old_HDD.csv` to `category.csv` and  `actor.csv`.\n",
    "\n",
    " <br/>\n",
    "\n",
    "- **`category1.csv`** lacks `film_id`\n",
    "- **`actor1.csv`** lacks `film_id`\n",
    "\n",
    "- We can use **`old_HDD1.csv`** to recover that info\n",
    "\n",
    "We will modify **`category1.csv`** and **`actor1.csv`** and discard **`old_HDD1.csv`** \n",
    "\n",
    "\n",
    "NOTE!!\n",
    "\n",
    "- All the titles in `old_HDD1.csv`are included in `film1.csv` , <br/>\n",
    "- But **386 out of the total 1000 titles** in `film1.csv` table are NOT registered in the `old_HDD1.csv`.\n",
    "\n",
    "In a real case scenario, I would made additional efforts to catalog all the films."
   ]
  },
  {
   "cell_type": "code",
   "execution_count": 208,
   "id": "ad08e2c1",
   "metadata": {},
   "outputs": [
    {
     "name": "stdout",
     "output_type": "stream",
     "text": [
      "\n",
      "\n",
      "category1\n"
     ]
    },
    {
     "data": {
      "text/html": [
       "<div>\n",
       "<style scoped>\n",
       "    .dataframe tbody tr th:only-of-type {\n",
       "        vertical-align: middle;\n",
       "    }\n",
       "\n",
       "    .dataframe tbody tr th {\n",
       "        vertical-align: top;\n",
       "    }\n",
       "\n",
       "    .dataframe thead th {\n",
       "        text-align: right;\n",
       "    }\n",
       "</style>\n",
       "<table border=\"1\" class=\"dataframe\">\n",
       "  <thead>\n",
       "    <tr style=\"text-align: right;\">\n",
       "      <th></th>\n",
       "      <th>category_id</th>\n",
       "      <th>name</th>\n",
       "    </tr>\n",
       "  </thead>\n",
       "  <tbody>\n",
       "    <tr>\n",
       "      <th>5</th>\n",
       "      <td>6</td>\n",
       "      <td>Documentary</td>\n",
       "    </tr>\n",
       "    <tr>\n",
       "      <th>9</th>\n",
       "      <td>10</td>\n",
       "      <td>Games</td>\n",
       "    </tr>\n",
       "  </tbody>\n",
       "</table>\n",
       "</div>"
      ],
      "text/plain": [
       "   category_id         name\n",
       "5            6  Documentary\n",
       "9           10        Games"
      ]
     },
     "metadata": {},
     "output_type": "display_data"
    },
    {
     "name": "stdout",
     "output_type": "stream",
     "text": [
      "\n",
      "\n",
      "old_HDD1\n"
     ]
    },
    {
     "data": {
      "text/html": [
       "<div>\n",
       "<style scoped>\n",
       "    .dataframe tbody tr th:only-of-type {\n",
       "        vertical-align: middle;\n",
       "    }\n",
       "\n",
       "    .dataframe tbody tr th {\n",
       "        vertical-align: top;\n",
       "    }\n",
       "\n",
       "    .dataframe thead th {\n",
       "        text-align: right;\n",
       "    }\n",
       "</style>\n",
       "<table border=\"1\" class=\"dataframe\">\n",
       "  <thead>\n",
       "    <tr style=\"text-align: right;\">\n",
       "      <th></th>\n",
       "      <th>first_name</th>\n",
       "      <th>last_name</th>\n",
       "      <th>title</th>\n",
       "      <th>release_year</th>\n",
       "      <th>category_id</th>\n",
       "    </tr>\n",
       "  </thead>\n",
       "  <tbody>\n",
       "    <tr>\n",
       "      <th>332</th>\n",
       "      <td>VIVIEN</td>\n",
       "      <td>BERGEN</td>\n",
       "      <td>ENEMY ODDS</td>\n",
       "      <td>2006</td>\n",
       "      <td>12</td>\n",
       "    </tr>\n",
       "    <tr>\n",
       "      <th>783</th>\n",
       "      <td>SANDRA</td>\n",
       "      <td>PECK</td>\n",
       "      <td>BEVERLY OUTLAW</td>\n",
       "      <td>2006</td>\n",
       "      <td>14</td>\n",
       "    </tr>\n",
       "  </tbody>\n",
       "</table>\n",
       "</div>"
      ],
      "text/plain": [
       "    first_name last_name           title  release_year  category_id\n",
       "332     VIVIEN    BERGEN      ENEMY ODDS          2006           12\n",
       "783     SANDRA      PECK  BEVERLY OUTLAW          2006           14"
      ]
     },
     "metadata": {},
     "output_type": "display_data"
    }
   ],
   "source": [
    "print(\"\\n\")\n",
    "print(\"category1\")\n",
    "display(category1.sample(2))\n",
    "\n",
    "print(\"\\n\")\n",
    "print(\"old_HDD1\")\n",
    "display(old_HDD1.sample(2))"
   ]
  },
  {
   "cell_type": "code",
   "execution_count": 210,
   "id": "5bbe69ca",
   "metadata": {},
   "outputs": [
    {
     "name": "stdout",
     "output_type": "stream",
     "text": [
      "1000 386\n"
     ]
    }
   ],
   "source": [
    "film_Set=set(film1[\"title\"])\n",
    "HDD_Set=set(old_HDD1[\"title\"])\n",
    "\n",
    "diff1 = film_Set.difference(HDD_Set)\n",
    "diff2 = HDD_Set.difference(film_Set)\n",
    "\n",
    "print(len(film_Set), len(diff1))"
   ]
  },
  {
   "cell_type": "code",
   "execution_count": 253,
   "id": "bccb2539",
   "metadata": {},
   "outputs": [
    {
     "name": "stdout",
     "output_type": "stream",
     "text": [
      "1000\n",
      "614\n",
      "category_id    False\n",
      "name           False\n",
      "film_id        False\n",
      "dtype: bool\n"
     ]
    }
   ],
   "source": [
    "category2=category1.merge(old_HDD1, on=\"category_id\", how=\"right\")[[\"category_id\", \"name\", \"title\"]]\n",
    "category2=category2.merge(film1[[\"film_id\", \"title\"]], on =\"title\", how=\"left\")\n",
    "category2=category2[[\"category_id\", \"name\", \"film_id\"]]\n",
    "\n",
    "print(len(category2))\n",
    "category2.drop_duplicates(inplace=True)\n",
    "print(len(category2))\n",
    "\n",
    "category2=category2.dropna()\n",
    "print(category2.isna().any())\n"
   ]
  },
  {
   "cell_type": "markdown",
   "id": "9d558668",
   "metadata": {},
   "source": [
    "### 3.1.2 `actor.csv` is uninformative, adapt `old_HDD.csv` to become the new `actor.csv` table\n",
    "\n",
    " <br/>\n",
    "\n",
    "The original `actor.csv` table inlcudes `actor_id` but it is NOT RELATED to the `film_id` thus, it is irrelevant. <br/>\n",
    "\n",
    "I prefer to keep the links between the actors and the films available in `old_HDD.csv` and, despite being incomplete, use it as the new `actor.csv` table. To do so I will create a new `actor_id` column."
   ]
  },
  {
   "cell_type": "code",
   "execution_count": 298,
   "id": "676aafa3",
   "metadata": {},
   "outputs": [
    {
     "name": "stdout",
     "output_type": "stream",
     "text": [
      "1000\n",
      "1000\n",
      "first_name    False\n",
      "last_name     False\n",
      "film_id       False\n",
      "dtype: bool\n"
     ]
    },
    {
     "data": {
      "text/html": [
       "<div>\n",
       "<style scoped>\n",
       "    .dataframe tbody tr th:only-of-type {\n",
       "        vertical-align: middle;\n",
       "    }\n",
       "\n",
       "    .dataframe tbody tr th {\n",
       "        vertical-align: top;\n",
       "    }\n",
       "\n",
       "    .dataframe thead th {\n",
       "        text-align: right;\n",
       "    }\n",
       "</style>\n",
       "<table border=\"1\" class=\"dataframe\">\n",
       "  <thead>\n",
       "    <tr style=\"text-align: right;\">\n",
       "      <th></th>\n",
       "      <th>actor_id</th>\n",
       "      <th>first_name</th>\n",
       "      <th>last_name</th>\n",
       "      <th>film_id</th>\n",
       "    </tr>\n",
       "  </thead>\n",
       "  <tbody>\n",
       "    <tr>\n",
       "      <th>0</th>\n",
       "      <td>1</td>\n",
       "      <td>PENELOPE</td>\n",
       "      <td>GUINESS</td>\n",
       "      <td>1</td>\n",
       "    </tr>\n",
       "    <tr>\n",
       "      <th>1</th>\n",
       "      <td>2</td>\n",
       "      <td>PENELOPE</td>\n",
       "      <td>GUINESS</td>\n",
       "      <td>23</td>\n",
       "    </tr>\n",
       "    <tr>\n",
       "      <th>2</th>\n",
       "      <td>3</td>\n",
       "      <td>PENELOPE</td>\n",
       "      <td>GUINESS</td>\n",
       "      <td>25</td>\n",
       "    </tr>\n",
       "    <tr>\n",
       "      <th>3</th>\n",
       "      <td>4</td>\n",
       "      <td>PENELOPE</td>\n",
       "      <td>GUINESS</td>\n",
       "      <td>106</td>\n",
       "    </tr>\n",
       "    <tr>\n",
       "      <th>4</th>\n",
       "      <td>5</td>\n",
       "      <td>PENELOPE</td>\n",
       "      <td>GUINESS</td>\n",
       "      <td>140</td>\n",
       "    </tr>\n",
       "    <tr>\n",
       "      <th>...</th>\n",
       "      <td>...</td>\n",
       "      <td>...</td>\n",
       "      <td>...</td>\n",
       "      <td>...</td>\n",
       "    </tr>\n",
       "    <tr>\n",
       "      <th>995</th>\n",
       "      <td>996</td>\n",
       "      <td>GOLDIE</td>\n",
       "      <td>BRODY</td>\n",
       "      <td>168</td>\n",
       "    </tr>\n",
       "    <tr>\n",
       "      <th>996</th>\n",
       "      <td>997</td>\n",
       "      <td>GOLDIE</td>\n",
       "      <td>BRODY</td>\n",
       "      <td>203</td>\n",
       "    </tr>\n",
       "    <tr>\n",
       "      <th>997</th>\n",
       "      <td>998</td>\n",
       "      <td>GOLDIE</td>\n",
       "      <td>BRODY</td>\n",
       "      <td>222</td>\n",
       "    </tr>\n",
       "    <tr>\n",
       "      <th>998</th>\n",
       "      <td>999</td>\n",
       "      <td>GOLDIE</td>\n",
       "      <td>BRODY</td>\n",
       "      <td>290</td>\n",
       "    </tr>\n",
       "    <tr>\n",
       "      <th>999</th>\n",
       "      <td>1000</td>\n",
       "      <td>GOLDIE</td>\n",
       "      <td>BRODY</td>\n",
       "      <td>293</td>\n",
       "    </tr>\n",
       "  </tbody>\n",
       "</table>\n",
       "<p>1000 rows × 4 columns</p>\n",
       "</div>"
      ],
      "text/plain": [
       "     actor_id first_name last_name  film_id\n",
       "0           1   PENELOPE   GUINESS        1\n",
       "1           2   PENELOPE   GUINESS       23\n",
       "2           3   PENELOPE   GUINESS       25\n",
       "3           4   PENELOPE   GUINESS      106\n",
       "4           5   PENELOPE   GUINESS      140\n",
       "..        ...        ...       ...      ...\n",
       "995       996     GOLDIE     BRODY      168\n",
       "996       997     GOLDIE     BRODY      203\n",
       "997       998     GOLDIE     BRODY      222\n",
       "998       999     GOLDIE     BRODY      290\n",
       "999      1000     GOLDIE     BRODY      293\n",
       "\n",
       "[1000 rows x 4 columns]"
      ]
     },
     "execution_count": 298,
     "metadata": {},
     "output_type": "execute_result"
    }
   ],
   "source": [
    "categoryx=category1.merge(old_HDD1, on=\"category_id\", how=\"right\")\n",
    "actor2=categoryx.merge(film1[[\"film_id\", \"title\"]], on =\"title\", how=\"left\")[[\"first_name\", \"last_name\", \"film_id\"]]\n",
    "\n",
    "actor2.drop_duplicates(inplace=True)\n",
    "actor2=actor2.dropna()\n",
    "print(actor2.isna().any())\n",
    "\n",
    "actor2[\"actor_id\"]=range(1, len(actor2) + 1, 1)\n",
    "actor2=actor2[[\"actor_id\", \"first_name\", \"last_name\", \"film_id\"]]"
   ]
  },
  {
   "cell_type": "markdown",
   "id": "3ab26b9b",
   "metadata": {},
   "source": [
    "### 3.1.3 Clean  `films.csv ` and make no changes in  `special_features.csv `,\n",
    "\n",
    "**Language:** all the films are only available in english (language_id = 1).\n",
    "I guess this is because these are VHS rented in a anglosaxon country.\n",
    "\n",
    "I will create the DDBB structure to enable the stores to include DVDs with multiple languange options.\n",
    "Thus, I will drop `languages.csv` and include a new column in `inventory.csv` so each film `copy_id` can present a single string (if VHS) or a list of `languages` (if DVD)."
   ]
  },
  {
   "cell_type": "code",
   "execution_count": 299,
   "id": "9969ffd8",
   "metadata": {},
   "outputs": [],
   "source": [
    "film2 = film1[[\"film_id\",\"title\", \"description\", \"release_year\", \"length\", \"rating\"]]\n",
    "\n",
    "special_feature2=special_feature1.copy()"
   ]
  },
  {
   "cell_type": "markdown",
   "id": "573b179b",
   "metadata": {},
   "source": [
    "### 3.1.4 Clean `rental.csv `\n",
    "\n",
    "Keep some columns and add many new FK\n",
    "\n",
    "<br/>\n",
    "The content of `Customer_id`, `staff_id` is irrelevant cause the link to its parent tables is lost. <br/>\n",
    "I will use the columns as scaffold but ignore its content."
   ]
  },
  {
   "cell_type": "code",
   "execution_count": 305,
   "id": "fce9fcaa",
   "metadata": {
    "scrolled": false
   },
   "outputs": [
    {
     "name": "stdout",
     "output_type": "stream",
     "text": [
      "\n",
      "\n",
      "rental1\n"
     ]
    },
    {
     "data": {
      "text/html": [
       "<div>\n",
       "<style scoped>\n",
       "    .dataframe tbody tr th:only-of-type {\n",
       "        vertical-align: middle;\n",
       "    }\n",
       "\n",
       "    .dataframe tbody tr th {\n",
       "        vertical-align: top;\n",
       "    }\n",
       "\n",
       "    .dataframe thead th {\n",
       "        text-align: right;\n",
       "    }\n",
       "</style>\n",
       "<table border=\"1\" class=\"dataframe\">\n",
       "  <thead>\n",
       "    <tr style=\"text-align: right;\">\n",
       "      <th></th>\n",
       "      <th>rental_id</th>\n",
       "      <th>rental_date</th>\n",
       "      <th>inventory_id</th>\n",
       "      <th>customer_id</th>\n",
       "      <th>return_date</th>\n",
       "      <th>staff_id</th>\n",
       "    </tr>\n",
       "  </thead>\n",
       "  <tbody>\n",
       "    <tr>\n",
       "      <th>216</th>\n",
       "      <td>217</td>\n",
       "      <td>2005-05-26 09:24:26</td>\n",
       "      <td>4395</td>\n",
       "      <td>121</td>\n",
       "      <td>2005-05-31 03:24:26</td>\n",
       "      <td>2</td>\n",
       "    </tr>\n",
       "    <tr>\n",
       "      <th>527</th>\n",
       "      <td>529</td>\n",
       "      <td>2005-05-28 04:34:17</td>\n",
       "      <td>2624</td>\n",
       "      <td>469</td>\n",
       "      <td>2005-05-30 00:35:17</td>\n",
       "      <td>1</td>\n",
       "    </tr>\n",
       "  </tbody>\n",
       "</table>\n",
       "</div>"
      ],
      "text/plain": [
       "     rental_id          rental_date  inventory_id  customer_id  \\\n",
       "216        217  2005-05-26 09:24:26          4395          121   \n",
       "527        529  2005-05-28 04:34:17          2624          469   \n",
       "\n",
       "             return_date  staff_id  \n",
       "216  2005-05-31 03:24:26         2  \n",
       "527  2005-05-30 00:35:17         1  "
      ]
     },
     "metadata": {},
     "output_type": "display_data"
    },
    {
     "data": {
      "text/html": [
       "<div>\n",
       "<style scoped>\n",
       "    .dataframe tbody tr th:only-of-type {\n",
       "        vertical-align: middle;\n",
       "    }\n",
       "\n",
       "    .dataframe tbody tr th {\n",
       "        vertical-align: top;\n",
       "    }\n",
       "\n",
       "    .dataframe thead th {\n",
       "        text-align: right;\n",
       "    }\n",
       "</style>\n",
       "<table border=\"1\" class=\"dataframe\">\n",
       "  <thead>\n",
       "    <tr style=\"text-align: right;\">\n",
       "      <th></th>\n",
       "      <th>rental_id</th>\n",
       "      <th>rental_date</th>\n",
       "      <th>return_date</th>\n",
       "      <th>invoice</th>\n",
       "      <th>client_id</th>\n",
       "      <th>staff_id</th>\n",
       "      <th>store_id</th>\n",
       "      <th>copy_id</th>\n",
       "    </tr>\n",
       "  </thead>\n",
       "  <tbody>\n",
       "    <tr>\n",
       "      <th>177</th>\n",
       "      <td>178</td>\n",
       "      <td>2005-05-26 04:21:46</td>\n",
       "      <td>2005-06-04 07:09:46</td>\n",
       "      <td>0</td>\n",
       "      <td>0</td>\n",
       "      <td>2</td>\n",
       "      <td>0</td>\n",
       "      <td>0</td>\n",
       "    </tr>\n",
       "    <tr>\n",
       "      <th>851</th>\n",
       "      <td>853</td>\n",
       "      <td>2005-05-30 01:43:31</td>\n",
       "      <td>2005-06-01 02:05:31</td>\n",
       "      <td>0</td>\n",
       "      <td>0</td>\n",
       "      <td>1</td>\n",
       "      <td>0</td>\n",
       "      <td>0</td>\n",
       "    </tr>\n",
       "  </tbody>\n",
       "</table>\n",
       "</div>"
      ],
      "text/plain": [
       "     rental_id          rental_date          return_date  invoice  client_id  \\\n",
       "177        178  2005-05-26 04:21:46  2005-06-04 07:09:46        0          0   \n",
       "851        853  2005-05-30 01:43:31  2005-06-01 02:05:31        0          0   \n",
       "\n",
       "     staff_id  store_id  copy_id  \n",
       "177         2         0        0  \n",
       "851         1         0        0  "
      ]
     },
     "metadata": {},
     "output_type": "display_data"
    }
   ],
   "source": [
    "print(\"\\n\")\n",
    "print(\"rental1\")\n",
    "display(rental1.sample(2))\n",
    "\n",
    "rental2=rental1[[\"rental_id\", \"rental_date\", \"return_date\", \"staff_id\"]]\n",
    "rental2[[\"client_id\", \"store_id\", \"copy_id\", \"invoice\"]]=0\n",
    "rental2=rental2[[\"rental_id\", \"rental_date\", \"return_date\", \"invoice\", \"client_id\", \"staff_id\",  \"store_id\", \"copy_id\"]]\n",
    "display(rental2.sample(2))"
   ]
  },
  {
   "cell_type": "markdown",
   "id": "6008c195",
   "metadata": {},
   "source": [
    "### 3.1.5 Clean `policy.csv `\n",
    "\n",
    "\n",
    "* rental_rate - The renting price of the film varies according to the store location and film popularity\n",
    "* rental_duration - The max renting duration varies according to the store location and film popularity\n",
    "* replacement_cost - The selling price of the film varies according to the store location\n",
    "\n",
    "Therefore, we would need to modify the values of the columns above"
   ]
  },
  {
   "cell_type": "code",
   "execution_count": 314,
   "id": "f6d2be6d",
   "metadata": {
    "scrolled": true
   },
   "outputs": [
    {
     "name": "stdout",
     "output_type": "stream",
     "text": [
      "\n",
      "\n",
      "film1\n"
     ]
    },
    {
     "data": {
      "text/html": [
       "<div>\n",
       "<style scoped>\n",
       "    .dataframe tbody tr th:only-of-type {\n",
       "        vertical-align: middle;\n",
       "    }\n",
       "\n",
       "    .dataframe tbody tr th {\n",
       "        vertical-align: top;\n",
       "    }\n",
       "\n",
       "    .dataframe thead th {\n",
       "        text-align: right;\n",
       "    }\n",
       "</style>\n",
       "<table border=\"1\" class=\"dataframe\">\n",
       "  <thead>\n",
       "    <tr style=\"text-align: right;\">\n",
       "      <th></th>\n",
       "      <th>film_id</th>\n",
       "      <th>title</th>\n",
       "      <th>description</th>\n",
       "      <th>release_year</th>\n",
       "      <th>language_id</th>\n",
       "      <th>rental_duration</th>\n",
       "      <th>rental_rate</th>\n",
       "      <th>length</th>\n",
       "      <th>replacement_cost</th>\n",
       "      <th>rating</th>\n",
       "    </tr>\n",
       "  </thead>\n",
       "  <tbody>\n",
       "    <tr>\n",
       "      <th>924</th>\n",
       "      <td>925</td>\n",
       "      <td>UNITED PILOT</td>\n",
       "      <td>A Fast-Paced Reflection of a Cat And a Mad Cow...</td>\n",
       "      <td>2006</td>\n",
       "      <td>1</td>\n",
       "      <td>3</td>\n",
       "      <td>0.99</td>\n",
       "      <td>164</td>\n",
       "      <td>27.99</td>\n",
       "      <td>R</td>\n",
       "    </tr>\n",
       "    <tr>\n",
       "      <th>102</th>\n",
       "      <td>103</td>\n",
       "      <td>BUCKET BROTHERHOOD</td>\n",
       "      <td>A Amazing Display of a Girl And a Womanizer wh...</td>\n",
       "      <td>2006</td>\n",
       "      <td>1</td>\n",
       "      <td>7</td>\n",
       "      <td>4.99</td>\n",
       "      <td>133</td>\n",
       "      <td>27.99</td>\n",
       "      <td>PG</td>\n",
       "    </tr>\n",
       "  </tbody>\n",
       "</table>\n",
       "</div>"
      ],
      "text/plain": [
       "     film_id               title  \\\n",
       "924      925        UNITED PILOT   \n",
       "102      103  BUCKET BROTHERHOOD   \n",
       "\n",
       "                                           description  release_year  \\\n",
       "924  A Fast-Paced Reflection of a Cat And a Mad Cow...          2006   \n",
       "102  A Amazing Display of a Girl And a Womanizer wh...          2006   \n",
       "\n",
       "     language_id  rental_duration  rental_rate  length  replacement_cost  \\\n",
       "924            1                3         0.99     164             27.99   \n",
       "102            1                7         4.99     133             27.99   \n",
       "\n",
       "    rating  \n",
       "924      R  \n",
       "102     PG  "
      ]
     },
     "metadata": {},
     "output_type": "display_data"
    },
    {
     "data": {
      "text/html": [
       "<div>\n",
       "<style scoped>\n",
       "    .dataframe tbody tr th:only-of-type {\n",
       "        vertical-align: middle;\n",
       "    }\n",
       "\n",
       "    .dataframe tbody tr th {\n",
       "        vertical-align: top;\n",
       "    }\n",
       "\n",
       "    .dataframe thead th {\n",
       "        text-align: right;\n",
       "    }\n",
       "</style>\n",
       "<table border=\"1\" class=\"dataframe\">\n",
       "  <thead>\n",
       "    <tr style=\"text-align: right;\">\n",
       "      <th></th>\n",
       "      <th>film_id</th>\n",
       "      <th>store_id</th>\n",
       "      <th>rental_rate</th>\n",
       "      <th>rental_duration</th>\n",
       "      <th>replacement_cost</th>\n",
       "    </tr>\n",
       "  </thead>\n",
       "  <tbody>\n",
       "    <tr>\n",
       "      <th>116</th>\n",
       "      <td>117</td>\n",
       "      <td>0</td>\n",
       "      <td>4.99</td>\n",
       "      <td>6</td>\n",
       "      <td>15.99</td>\n",
       "    </tr>\n",
       "    <tr>\n",
       "      <th>970</th>\n",
       "      <td>971</td>\n",
       "      <td>0</td>\n",
       "      <td>4.99</td>\n",
       "      <td>4</td>\n",
       "      <td>11.99</td>\n",
       "    </tr>\n",
       "  </tbody>\n",
       "</table>\n",
       "</div>"
      ],
      "text/plain": [
       "     film_id  store_id  rental_rate  rental_duration  replacement_cost\n",
       "116      117         0         4.99                6             15.99\n",
       "970      971         0         4.99                4             11.99"
      ]
     },
     "metadata": {},
     "output_type": "display_data"
    }
   ],
   "source": [
    "print(\"\\n\")\n",
    "print(\"film1\")\n",
    "display(film1.sample(2))\n",
    "\n",
    "policy2=film1[[\"film_id\", \"rental_rate\", \"rental_duration\", \"replacement_cost\" ]]\n",
    "policy2[[\"store_id\"]]=0\n",
    "policy2=policy2[[\"film_id\", \"store_id\", \"rental_rate\", \"rental_duration\", \"replacement_cost\" ]]\n",
    "\n",
    "display(policy2.sample(2))"
   ]
  },
  {
   "cell_type": "markdown",
   "id": "dca7ec88",
   "metadata": {},
   "source": [
    "### 3.1.6 Create `store.csv`, `client.csv`, `staff.csv`, `inventory.csv`, using random data\n",
    "\n",
    "<br/>\n",
    "\n",
    "**NOTE:**\n",
    "**I LOST 5 HOURS OF JUPYTER AUTOSAVE WHEN CREATING THIS TABLES** <br/>\n",
    "\n",
    "I CANNOT RECAPITULATE EXACTLY ALL THE CODE I USED TO GENERATE THE TABLES <br/>\n",
    "NETX LINES ARE JUST EXAMPLES OF HOW I CREATED THEM <br/>\n",
    "\n",
    "\n",
    "`inventory.csv` and `rental.csv` required the introduction of random data from `store.csv` and `staff.csv` \n",
    "so the code was more complex than just inserting data suggested by ChatGPT.\n",
    "\n",
    "I tried to use \"Faker\" module but it was not compatible with my python version"
   ]
  },
  {
   "cell_type": "code",
   "execution_count": null,
   "id": "edebbb53",
   "metadata": {},
   "outputs": [],
   "source": [
    "# Create a list of random names and addresses\n",
    "names = [\"Alice\", \"Bob\", \"Charlie\", \"David\", \"Emma\", \"Frank\", \"Grace\", \"Hannah\", \"Ian\", \"Jack\",\n",
    "         \"Katie\", \"Liam\", \"Mia\", \"Noah\", \"Olivia\", \"Paul\", \"Quinn\", \"Rachel\", \"Sam\", \"Taylor\"]\n",
    "addresses = [\"123 Main St\", \"456 Elm St\", \"789 Oak St\", \"101 Pine St\", \"202 Maple St\", \"303 Cedar St\",\n",
    "             \"404 Birch St\", \"505 Redwood St\", \"606 Spruce St\", \"707 Willow St\", \"808 Juniper St\",\n",
    "             \"909 Cedar St\", \"111 Elm St\", \"222 Oak St\", \"333 Pine St\", \"444 Maple St\", \"555 Main St\",\n",
    "             \"666 Birch St\", \"777 Redwood St\", \"888 Juniper St\"]\n",
    "\n",
    "# Create a list of 20 random clients\n",
    "clients = []\n",
    "for client_id in range(1, 21):\n",
    "    client_data = {\n",
    "        'client_id': client_id,\n",
    "        'name': random.choice(names),\n",
    "        'address': random.choice(addresses),\n",
    "    }\n",
    "    clients.append(client_data)\n",
    "\n",
    "# Create the DataFrame\n",
    "client = pd.DataFrame(clients)\n",
    "\n",
    "# Print the DataFrame\n",
    "print(client)"
   ]
  },
  {
   "cell_type": "markdown",
   "id": "ec4971b2",
   "metadata": {},
   "source": [
    "## 4 Save cleaned data 2"
   ]
  },
  {
   "cell_type": "code",
   "execution_count": null,
   "id": "ad72cbb3",
   "metadata": {},
   "outputs": [],
   "source": [
    "#film2.to_csv('../../data/clean/film2.csv', index=False)\n",
    "#rental2.to_csv('../../data/clean/rental2.csv', index=False)\n",
    "#policy2.to_csv('../../data/clean/policy2.csv', index=False)\n",
    "\n",
    "\n",
    "#store2.to_csv('../../data/clean/store2.csv', index=False)\n",
    "#staff2.to_csv('../../data/clean/staff2.csv', index=False)\n",
    "#client.to_csv('../../data/clean/client.csv', index=False)\n",
    "#inventory2.to_csv('../../data/clean/inventory2.csv', index=False)\n",
    "\n",
    "#special_feature2.to_csv('../../data/clean/special_feature2.csv', index=False)\n",
    "#category2.to_csv('../../data/clean/category2.csv', index=False)\n",
    "#actor2.to_csv('../../data/clean/actor2.csv', index=False)"
   ]
  },
  {
   "cell_type": "markdown",
   "id": "4d61c70b",
   "metadata": {},
   "source": [
    "### Load again clean csv to make last modifications after trying to load tables to mySQL\n",
    "\n",
    "\n",
    "* Add a new column `policy_id` to `policy2.csv`\n",
    "* Create a new table `film_has_category2.csv` cause it was a \"many-to-many relationship\"\n",
    "* `category2.csv` will now only include unique `category_id -- category name` associations"
   ]
  },
  {
   "cell_type": "code",
   "execution_count": 12,
   "id": "e5825a91",
   "metadata": {
    "scrolled": true
   },
   "outputs": [],
   "source": [
    "policy2 = pd.read_csv('../../data/clean/policy2.csv')\n",
    "policy2[\"policy_id\"]=range(len(policy2))\n",
    "policy2.head()\n",
    "\n",
    "#policy2.to_csv('../../data/clean/policy2.csv', index=False)"
   ]
  },
  {
   "cell_type": "code",
   "execution_count": 13,
   "id": "5bba720c",
   "metadata": {},
   "outputs": [
    {
     "name": "stdout",
     "output_type": "stream",
     "text": [
      "614\n",
      "16\n"
     ]
    }
   ],
   "source": [
    "category2 = pd.read_csv('../../data/clean/category2.csv')\n",
    "\n",
    "film_has_category2=category2.copy()\n",
    "film_has_category2=film_has_category2[[\"category_id\", \"film_id\"]]\n",
    "film_has_category2.head()\n",
    "\n",
    "category2=category2[[\"category_id\", \"name\"]]\n",
    "print(len(category2))\n",
    "category2=category2.drop_duplicates()\n",
    "\n",
    "print(len(category2))\n",
    "category2.head()\n",
    "\n",
    "#category2.to_csv('../../data/clean/category2.csv', index=False)\n",
    "#film_has_category2.to_csv('../../data/clean/film_has_category2.csv', index=False)"
   ]
  }
 ],
 "metadata": {
  "kernelspec": {
   "display_name": "env37",
   "language": "python",
   "name": "env37"
  },
  "language_info": {
   "codemirror_mode": {
    "name": "ipython",
    "version": 3
   },
   "file_extension": ".py",
   "mimetype": "text/x-python",
   "name": "python",
   "nbconvert_exporter": "python",
   "pygments_lexer": "ipython3",
   "version": "3.7.16"
  }
 },
 "nbformat": 4,
 "nbformat_minor": 5
}
