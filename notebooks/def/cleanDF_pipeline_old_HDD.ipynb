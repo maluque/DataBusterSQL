{
 "cells": [
  {
   "cell_type": "markdown",
   "id": "489257d3",
   "metadata": {},
   "source": [
    "## A common pipeline to clean dataframes\n",
    "\n",
    "\n",
    "0. Import modules\n",
    "1. Normalize column names\n",
    "2. Eval misspelling in object non-date columns\n",
    "3. Eval & Drop duplicates without index_id `mlg.DF_wo_colX(df, colnames)`\n",
    "4. Check NAs `mlg.na_absperc(df)`\n",
    "    - By Columns\n",
    "    - By Rows\n",
    "5. Eval 'unique/freq ratio'`mlg.categ_summ(df)`\n",
    "6. Eval Data types\n",
    "7. Save the cleaned dataframe"
   ]
  },
  {
   "cell_type": "markdown",
   "id": "064c56ea",
   "metadata": {},
   "source": [
    "## Summary of cleaning `old_HDD.csv`\n",
    "\n",
    "I made no changes!!\n",
    "\n",
    "**Original old_HDD.csv** had 1000 rows and 4 columns `['inventory_id', 'film_id', 'store_id', 'last_update']`\n",
    "\n",
    "* 1. No column name to normalize\n",
    "* 2. No misspelling values\n",
    "* 3. **CAUTION!!\" ~600 hidden duplicated rows when excluding the inventory_id's! <br/>\n",
    "    I am not sure what this means so I haven't change anything yet.**\n",
    "* 4. No NA's\n",
    "* 5. Nothing striking from unique/freq ratio analysis\n",
    "* 6. No data type to transform\n",
    "* 7. Cleaned DF saved as `clean/inventory1.csv`\n",
    "\n",
    "**Cleaned old_HDD1.csv** has 1000 rows and 4 columns `['inventory_id', 'film_id', 'store_id', 'last_update']`"
   ]
  },
  {
   "cell_type": "markdown",
   "id": "5bc67cdd",
   "metadata": {},
   "source": [
    "### 0. Import modules\n",
    "\n",
    "First things first!!\n",
    "\n",
    "We need to import modules and set default notebook properties as;\n",
    "\n",
    "- leading with warnings or\n",
    "- defining how we want to display the outputs and plots.\n",
    "\n",
    "I will also import my own modulemlgfrom scr/dataanalysis1.py.\n",
    "When I make modifications in my functions, I need to detatch the module and load it again!"
   ]
  },
  {
   "cell_type": "code",
   "execution_count": 7,
   "id": "b189f3cc",
   "metadata": {},
   "outputs": [],
   "source": [
    "# Import modules etc\n",
    "\n",
    "import pandas as pd\n",
    "import numpy as np\n",
    "import re\n",
    "\n",
    "np.random.seed(42)\n",
    "pd.set_option('display.max_columns', None) # show all the columns\n",
    "\n",
    "# print the plot in the jupyter output\n",
    "%matplotlib inline \n",
    "\n",
    "import warnings\n",
    "warnings.filterwarnings('ignore') # ignorar warnings\n",
    "\n",
    "import pylab as plt   # import matplotlib.pyplot as plt\n",
    "import seaborn as sns\n",
    "import fuzzywuzzy as fzw\n",
    "\n",
    "# Import my module\n",
    "from src import dataanalysis_fun1 as mlg "
   ]
  },
  {
   "cell_type": "code",
   "execution_count": 8,
   "id": "06b8d1a4",
   "metadata": {},
   "outputs": [],
   "source": [
    "# Reload my module if neccessary\n",
    "\n",
    "import importlib\n",
    "from src import dataanalysis_fun1 as mlg # Import the module\n",
    "#importlib.reload(mlg)  # Reload the module\n",
    "\n",
    "# Suppress warning when reloading the module\n",
    "with warnings.catch_warnings():\n",
    "    warnings.simplefilter(\"ignore\") \n",
    "    importlib.reload(mlg)  # Reload the module"
   ]
  },
  {
   "cell_type": "code",
   "execution_count": 9,
   "id": "d93b8ba3",
   "metadata": {},
   "outputs": [],
   "source": [
    "DF_raw = pd.read_csv('../../data/raw/old_HDD.csv')"
   ]
  },
  {
   "cell_type": "markdown",
   "id": "a8d0435a",
   "metadata": {},
   "source": [
    "### 1. Normalize column names"
   ]
  },
  {
   "cell_type": "code",
   "execution_count": 11,
   "id": "ba4759fc",
   "metadata": {},
   "outputs": [
    {
     "data": {
      "text/plain": [
       "Index(['first_name', 'last_name', 'title', 'release_year', 'category_id'], dtype='object')"
      ]
     },
     "metadata": {},
     "output_type": "display_data"
    },
    {
     "name": "stdout",
     "output_type": "stream",
     "text": [
      "Normalized column names: 0\n"
     ]
    },
    {
     "data": {
      "text/html": [
       "<div>\n",
       "<style scoped>\n",
       "    .dataframe tbody tr th:only-of-type {\n",
       "        vertical-align: middle;\n",
       "    }\n",
       "\n",
       "    .dataframe tbody tr th {\n",
       "        vertical-align: top;\n",
       "    }\n",
       "\n",
       "    .dataframe thead th {\n",
       "        text-align: right;\n",
       "    }\n",
       "</style>\n",
       "<table border=\"1\" class=\"dataframe\">\n",
       "  <thead>\n",
       "    <tr style=\"text-align: right;\">\n",
       "      <th></th>\n",
       "      <th>first_name</th>\n",
       "      <th>last_name</th>\n",
       "      <th>title</th>\n",
       "      <th>release_year</th>\n",
       "      <th>category_id</th>\n",
       "    </tr>\n",
       "  </thead>\n",
       "  <tbody>\n",
       "    <tr>\n",
       "      <th>0</th>\n",
       "      <td>PENELOPE</td>\n",
       "      <td>GUINESS</td>\n",
       "      <td>ACADEMY DINOSAUR</td>\n",
       "      <td>2006</td>\n",
       "      <td>6</td>\n",
       "    </tr>\n",
       "    <tr>\n",
       "      <th>1</th>\n",
       "      <td>PENELOPE</td>\n",
       "      <td>GUINESS</td>\n",
       "      <td>ANACONDA CONFESSIONS</td>\n",
       "      <td>2006</td>\n",
       "      <td>2</td>\n",
       "    </tr>\n",
       "    <tr>\n",
       "      <th>2</th>\n",
       "      <td>PENELOPE</td>\n",
       "      <td>GUINESS</td>\n",
       "      <td>ANGELS LIFE</td>\n",
       "      <td>2006</td>\n",
       "      <td>13</td>\n",
       "    </tr>\n",
       "    <tr>\n",
       "      <th>3</th>\n",
       "      <td>PENELOPE</td>\n",
       "      <td>GUINESS</td>\n",
       "      <td>BULWORTH COMMANDMENTS</td>\n",
       "      <td>2006</td>\n",
       "      <td>10</td>\n",
       "    </tr>\n",
       "    <tr>\n",
       "      <th>4</th>\n",
       "      <td>PENELOPE</td>\n",
       "      <td>GUINESS</td>\n",
       "      <td>CHEAPER CLYDE</td>\n",
       "      <td>2006</td>\n",
       "      <td>14</td>\n",
       "    </tr>\n",
       "  </tbody>\n",
       "</table>\n",
       "</div>"
      ],
      "text/plain": [
       "  first_name last_name                  title  release_year  category_id\n",
       "0   PENELOPE   GUINESS       ACADEMY DINOSAUR          2006            6\n",
       "1   PENELOPE   GUINESS   ANACONDA CONFESSIONS          2006            2\n",
       "2   PENELOPE   GUINESS            ANGELS LIFE          2006           13\n",
       "3   PENELOPE   GUINESS  BULWORTH COMMANDMENTS          2006           10\n",
       "4   PENELOPE   GUINESS          CHEAPER CLYDE          2006           14"
      ]
     },
     "execution_count": 11,
     "metadata": {},
     "output_type": "execute_result"
    }
   ],
   "source": [
    "display(DF_raw.columns)\n",
    "setA = set(DF_raw.columns)\n",
    "DF_raw=mlg.colnnam_clean(DF_raw)\n",
    "setB = set(DF_raw.columns)\n",
    "\n",
    "print(f'Normalized column names: {len(setB.difference(setA))}')\n",
    "\n",
    "DF_raw.shape\n",
    "DF_raw.head()"
   ]
  },
  {
   "cell_type": "markdown",
   "id": "bc1de1a4",
   "metadata": {},
   "source": [
    "### 2. Eval misspelling in object non-date columns"
   ]
  },
  {
   "cell_type": "code",
   "execution_count": 12,
   "id": "d3afebbf",
   "metadata": {},
   "outputs": [
    {
     "name": "stdout",
     "output_type": "stream",
     "text": [
      "FIRST_NAME :\n",
      "first_name\n",
      "SANDRA        56\n",
      "VAL           35\n",
      "UMA           35\n",
      "JULIA         33\n",
      "RIP           33\n",
      "HELEN         32\n",
      "WOODY         31\n",
      "KARL          31\n",
      "GRACE         30\n",
      "VIVIEN        30\n",
      "LUCILLE       30\n",
      "JOHNNY        29\n",
      "ALEC          29\n",
      "BURT          29\n",
      "CUBA          28\n",
      "FRED          27\n",
      "KIRSTEN       27\n",
      "ELVIS         26\n",
      "ZERO          25\n",
      "BOB           25\n",
      "JOE           25\n",
      "AUDREY        25\n",
      "TOM           25\n",
      "NICK          25\n",
      "CAMERON       24\n",
      "MILLA         24\n",
      "TIM           23\n",
      "DAN           22\n",
      "CHRISTIAN     22\n",
      "ED            22\n",
      "JENNIFER      22\n",
      "KEVIN         21\n",
      "MATTHEW       20\n",
      "BETTE         20\n",
      "PENELOPE      19\n",
      "SISSY         18\n",
      "JUDY          15\n",
      "GOLDIE         7\n",
      "dtype: int64\n",
      "\n",
      "\n",
      "LAST_NAME :\n",
      "last_name   \n",
      "OLIVIER         53\n",
      "PECK            43\n",
      "KILMER          37\n",
      "WOOD            35\n",
      "BOLGER          35\n",
      "CRAWFORD        33\n",
      "MCQUEEN         33\n",
      "VOIGHT          32\n",
      "BERRY           31\n",
      "HOFFMAN         31\n",
      "BERGEN          30\n",
      "TRACY           30\n",
      "MOSTEL          30\n",
      "WAYNE           29\n",
      "DUKAKIS         29\n",
      "LOLLOBRIGIDA    29\n",
      "COSTNER         27\n",
      "PALTROW         27\n",
      "MARX            26\n",
      "WAHLBERG        25\n",
      "MCKELLEN        25\n",
      "FAWCETT         25\n",
      "CAGE            25\n",
      "SWANK           25\n",
      "STREEP          24\n",
      "HACKMAN         23\n",
      "GABLE           22\n",
      "TORN            22\n",
      "CHASE           22\n",
      "DAVIS           22\n",
      "BLOOM           21\n",
      "JOHANSSON       20\n",
      "NICHOLSON       20\n",
      "GUINESS         19\n",
      "SOBIESKI        18\n",
      "DEAN            15\n",
      "BRODY            7\n",
      "dtype: int64\n",
      "\n",
      "\n",
      "TITLE :\n",
      "title            \n",
      "BOONDOCK BALLROOM    6\n",
      "CHITTY LOCK          5\n",
      "OKLAHOMA JUMANJI     5\n",
      "FLASH WARS           5\n",
      "CONEHEADS SMOOCHY    5\n",
      "                    ..\n",
      "BLINDNESS GUN        1\n",
      "IGBY MAKER           1\n",
      "IDOLS SNATCHERS      1\n",
      "IDAHO LOVE           1\n",
      "ZHIVAGO CORE         1\n",
      "Length: 614, dtype: int64\n",
      "\n",
      "\n",
      "RELEASE_YEAR  ---> Non object-Column or explicit date reference\n",
      "CATEGORY_ID  ---> Non object-Column or explicit date reference\n"
     ]
    }
   ],
   "source": [
    "for i in DF_raw.columns: \n",
    "    if (DF_raw[i].dtype == 'object') and (\"date\" not in i):\n",
    "        print(i.upper(), \":\")\n",
    "        DF_raw[i]=DF_raw[i].apply(lambda a: a.strip()) ## Remove leading and trailing spaces \n",
    "        print(DF_raw[[i]].value_counts())\n",
    "        print(\"\\n\")\n",
    "    else:\n",
    "        print(i.upper(), \" ---> Non object-Column or explicit date reference\")\n",
    "        pass"
   ]
  },
  {
   "cell_type": "markdown",
   "id": "c7ea4c47",
   "metadata": {},
   "source": [
    "### 3. eval/drop duplicates without index_id"
   ]
  },
  {
   "cell_type": "code",
   "execution_count": 13,
   "id": "2c326794",
   "metadata": {},
   "outputs": [
    {
     "name": "stdout",
     "output_type": "stream",
     "text": [
      "\n",
      "\n",
      "NO HIDDEN DUPLICATES\n"
     ]
    },
    {
     "data": {
      "text/plain": [
       "(1000, 5)"
      ]
     },
     "metadata": {},
     "output_type": "display_data"
    },
    {
     "data": {
      "text/plain": [
       "(1000, 5)"
      ]
     },
     "metadata": {},
     "output_type": "display_data"
    }
   ],
   "source": [
    "listtest=[\"category_id\"]\n",
    "DF_raw_wo1=mlg.DF_wo_colX(DF_raw, listtest)\n",
    "\n",
    "print(\"\\n\")\n",
    "\n",
    "DF1=DF_raw.copy()\n",
    "if any(DF_raw_wo1.duplicated()): # there are duplicates!\n",
    "    print(\"DUPLICATED?\", any(DF_raw_wo1.duplicated()))\n",
    "    # Find the index positions of duplicate rows in the subset of columns\n",
    "    dup_ind = DF_raw_wo1.duplicated()\n",
    "\n",
    "    # Show the duplicate rows\n",
    "    display(DF1[dup_ind])\n",
    "\n",
    "    # Display the index positions where rows are duplicated\n",
    "    nondup_ind = dup_ind[~dup_ind].index\n",
    "    DF1 = DF1.iloc[nondup_ind]\n",
    "\n",
    "    # Reset the index to have continuous index values\n",
    "    DF1.reset_index(drop=True, inplace=True) \n",
    "else:\n",
    "    print(\"NO HIDDEN DUPLICATES\")\n",
    "    pass\n",
    "\n",
    "\n",
    "display(DF_raw.shape)\n",
    "display(DF1.shape)\n"
   ]
  },
  {
   "cell_type": "markdown",
   "id": "6e1c898b",
   "metadata": {},
   "source": [
    "### 4. check NAs again\n",
    "\n",
    "- By column\n",
    "- By row"
   ]
  },
  {
   "cell_type": "code",
   "execution_count": 14,
   "id": "781c3ea4",
   "metadata": {},
   "outputs": [
    {
     "data": {
      "text/html": [
       "<div>\n",
       "<style scoped>\n",
       "    .dataframe tbody tr th:only-of-type {\n",
       "        vertical-align: middle;\n",
       "    }\n",
       "\n",
       "    .dataframe tbody tr th {\n",
       "        vertical-align: top;\n",
       "    }\n",
       "\n",
       "    .dataframe thead th {\n",
       "        text-align: right;\n",
       "    }\n",
       "</style>\n",
       "<table border=\"1\" class=\"dataframe\">\n",
       "  <thead>\n",
       "    <tr style=\"text-align: right;\">\n",
       "      <th></th>\n",
       "      <th>abs_NA</th>\n",
       "      <th>perc_NA</th>\n",
       "    </tr>\n",
       "  </thead>\n",
       "  <tbody>\n",
       "  </tbody>\n",
       "</table>\n",
       "</div>"
      ],
      "text/plain": [
       "Empty DataFrame\n",
       "Columns: [abs_NA, perc_NA]\n",
       "Index: []"
      ]
     },
     "metadata": {},
     "output_type": "display_data"
    },
    {
     "data": {
      "text/html": [
       "<div>\n",
       "<style scoped>\n",
       "    .dataframe tbody tr th:only-of-type {\n",
       "        vertical-align: middle;\n",
       "    }\n",
       "\n",
       "    .dataframe tbody tr th {\n",
       "        vertical-align: top;\n",
       "    }\n",
       "\n",
       "    .dataframe thead th {\n",
       "        text-align: right;\n",
       "    }\n",
       "</style>\n",
       "<table border=\"1\" class=\"dataframe\">\n",
       "  <thead>\n",
       "    <tr style=\"text-align: right;\">\n",
       "      <th></th>\n",
       "      <th>abs_NA</th>\n",
       "      <th>perc_NA</th>\n",
       "    </tr>\n",
       "  </thead>\n",
       "  <tbody>\n",
       "  </tbody>\n",
       "</table>\n",
       "</div>"
      ],
      "text/plain": [
       "Empty DataFrame\n",
       "Columns: [abs_NA, perc_NA]\n",
       "Index: []"
      ]
     },
     "metadata": {},
     "output_type": "display_data"
    }
   ],
   "source": [
    "display(mlg.na_absperc(DF1)) # by cols\n",
    "display(mlg.na_absperc(DF1.T)) # by rows\n"
   ]
  },
  {
   "cell_type": "markdown",
   "id": "ab19a9d7",
   "metadata": {},
   "source": [
    "### 5. unique/freq ratio"
   ]
  },
  {
   "cell_type": "code",
   "execution_count": 15,
   "id": "e1298f59",
   "metadata": {
    "scrolled": false
   },
   "outputs": [
    {
     "data": {
      "text/html": [
       "<div>\n",
       "<style scoped>\n",
       "    .dataframe tbody tr th:only-of-type {\n",
       "        vertical-align: middle;\n",
       "    }\n",
       "\n",
       "    .dataframe tbody tr th {\n",
       "        vertical-align: top;\n",
       "    }\n",
       "\n",
       "    .dataframe thead th {\n",
       "        text-align: right;\n",
       "    }\n",
       "</style>\n",
       "<table border=\"1\" class=\"dataframe\">\n",
       "  <thead>\n",
       "    <tr style=\"text-align: right;\">\n",
       "      <th></th>\n",
       "      <th>count</th>\n",
       "      <th>unique</th>\n",
       "      <th>top</th>\n",
       "      <th>freq</th>\n",
       "      <th>unicount_ratio</th>\n",
       "      <th>resto_abs</th>\n",
       "      <th>resto_per</th>\n",
       "    </tr>\n",
       "  </thead>\n",
       "  <tbody>\n",
       "    <tr>\n",
       "      <th>first_name</th>\n",
       "      <td>1000</td>\n",
       "      <td>38</td>\n",
       "      <td>SANDRA</td>\n",
       "      <td>56</td>\n",
       "      <td>0.038</td>\n",
       "      <td>944</td>\n",
       "      <td>94.4</td>\n",
       "    </tr>\n",
       "    <tr>\n",
       "      <th>last_name</th>\n",
       "      <td>1000</td>\n",
       "      <td>37</td>\n",
       "      <td>OLIVIER</td>\n",
       "      <td>53</td>\n",
       "      <td>0.037</td>\n",
       "      <td>947</td>\n",
       "      <td>94.7</td>\n",
       "    </tr>\n",
       "    <tr>\n",
       "      <th>title</th>\n",
       "      <td>1000</td>\n",
       "      <td>614</td>\n",
       "      <td>BOONDOCK BALLROOM</td>\n",
       "      <td>6</td>\n",
       "      <td>0.614</td>\n",
       "      <td>994</td>\n",
       "      <td>99.4</td>\n",
       "    </tr>\n",
       "  </tbody>\n",
       "</table>\n",
       "</div>"
      ],
      "text/plain": [
       "           count unique                top freq unicount_ratio resto_abs  \\\n",
       "first_name  1000     38             SANDRA   56          0.038       944   \n",
       "last_name   1000     37            OLIVIER   53          0.037       947   \n",
       "title       1000    614  BOONDOCK BALLROOM    6          0.614       994   \n",
       "\n",
       "           resto_per  \n",
       "first_name      94.4  \n",
       "last_name       94.7  \n",
       "title           99.4  "
      ]
     },
     "metadata": {},
     "output_type": "display_data"
    }
   ],
   "source": [
    "display(mlg.categ_summ(DF1).sort_values(\"resto_per\", ascending =True))"
   ]
  },
  {
   "cell_type": "markdown",
   "id": "422e57f0",
   "metadata": {},
   "source": [
    "### 6. data types"
   ]
  },
  {
   "cell_type": "code",
   "execution_count": 16,
   "id": "71ce1943",
   "metadata": {},
   "outputs": [
    {
     "name": "stdout",
     "output_type": "stream",
     "text": [
      "<class 'pandas.core.frame.DataFrame'>\n",
      "RangeIndex: 1000 entries, 0 to 999\n",
      "Data columns (total 5 columns):\n",
      " #   Column        Non-Null Count  Dtype \n",
      "---  ------        --------------  ----- \n",
      " 0   first_name    1000 non-null   object\n",
      " 1   last_name     1000 non-null   object\n",
      " 2   title         1000 non-null   object\n",
      " 3   release_year  1000 non-null   int64 \n",
      " 4   category_id   1000 non-null   int64 \n",
      "dtypes: int64(2), object(3)\n",
      "memory usage: 39.2+ KB\n"
     ]
    }
   ],
   "source": [
    "DF1.info()"
   ]
  },
  {
   "cell_type": "markdown",
   "id": "aab9adf9",
   "metadata": {},
   "source": [
    "### 7. Save the cleaned dataframe(s)"
   ]
  },
  {
   "cell_type": "code",
   "execution_count": 17,
   "id": "6ced6493",
   "metadata": {},
   "outputs": [],
   "source": [
    "old_HDD1=DF1.copy()\n",
    "#old_HDD1.to_csv('../../data/clean/old_HDD1.csv', index=False)"
   ]
  }
 ],
 "metadata": {
  "kernelspec": {
   "display_name": "env37",
   "language": "python",
   "name": "env37"
  },
  "language_info": {
   "codemirror_mode": {
    "name": "ipython",
    "version": 3
   },
   "file_extension": ".py",
   "mimetype": "text/x-python",
   "name": "python",
   "nbconvert_exporter": "python",
   "pygments_lexer": "ipython3",
   "version": "3.7.16"
  }
 },
 "nbformat": 4,
 "nbformat_minor": 5
}
