{
 "cells": [
  {
   "cell_type": "markdown",
   "id": "4baffdba",
   "metadata": {},
   "source": [
    "# Load and work with python - mySQL\n",
    "\n",
    "\n",
    "**NOTE:**\n",
    "**I LOST 5 HOURS OF JUPYTER AUTOSAVE WHEN CREATING THE DDBB** <br/>\n",
    "\n",
    "I CANNOT RECAPITULATE EXACTLY ALL THE CODE I USED TO GENERATE THE TABLES <br/>\n",
    "\n",
    "0. Import modules\n",
    "1. Define the cursor and connect to mySQL\n",
    "2. Create the DDBB  Blockbuster\n",
    "3. Load the csv tables to jupyter\n",
    "4. Load de tables to mySQL DDBB Blockbuster\n"
   ]
  },
  {
   "cell_type": "markdown",
   "id": "f8a59709",
   "metadata": {},
   "source": [
    "### 0. Import modules and set the connection"
   ]
  },
  {
   "cell_type": "code",
   "execution_count": 1,
   "id": "b1ca2aa7",
   "metadata": {},
   "outputs": [],
   "source": [
    "from logs.SQLpass import SQLpass ## my SQL passs!!!!"
   ]
  },
  {
   "cell_type": "code",
   "execution_count": 2,
   "id": "f4346010",
   "metadata": {},
   "outputs": [],
   "source": [
    "import pandas as pd\n",
    "import mysql.connector as conn\n",
    "from sqlalchemy import create_engine"
   ]
  },
  {
   "cell_type": "code",
   "execution_count": 4,
   "id": "e326904a",
   "metadata": {},
   "outputs": [
    {
     "data": {
      "text/plain": [
       "<mysql.connector.cursor_cext.CMySQLCursor at 0x122dcffd0>"
      ]
     },
     "execution_count": 4,
     "metadata": {},
     "output_type": "execute_result"
    }
   ],
   "source": [
    "conexion = conn.connect(host='127.0.0.1',\n",
    "                       user='root',        # usuario\n",
    "                       passwd=SQLpass#,   # pass de SQL\n",
    "                     #  database='blockbuster'\n",
    "                       )\n",
    "\n",
    "cursor = conexion.cursor()\n",
    "cursor"
   ]
  },
  {
   "cell_type": "markdown",
   "id": "54540901",
   "metadata": {},
   "source": [
    "### SqlAlchemy\n",
    "\n",
    "* Create cursor and connect to mySQL\n",
    "* Delete blockbuster DDBB if exist\n",
    "* Create blockbuster DDBB again"
   ]
  },
  {
   "cell_type": "code",
   "execution_count": 7,
   "id": "85a6dff2",
   "metadata": {},
   "outputs": [
    {
     "data": {
      "text/plain": [
       "<sqlalchemy.engine.cursor.LegacyCursorResult at 0x1231775d0>"
      ]
     },
     "execution_count": 7,
     "metadata": {},
     "output_type": "execute_result"
    }
   ],
   "source": [
    "str_conn = 'mysql+pymysql://root:' + SQLpass + '@localhost:3306'\n",
    "cursor = create_engine(str_conn)\n",
    "\n",
    "cursor.execute('drop database if exists blockbuster;')\n",
    "cursor.execute('create database blockbuster;')"
   ]
  },
  {
   "cell_type": "markdown",
   "id": "3ae19b29",
   "metadata": {},
   "source": [
    "### 3. Load the csv tables to jupyter"
   ]
  },
  {
   "cell_type": "code",
   "execution_count": 8,
   "id": "55115457",
   "metadata": {},
   "outputs": [],
   "source": [
    "rental = pd.read_csv('../../data/clean/rental2.csv')\n",
    "film = pd.read_csv('../../data/clean/film2.csv')\n",
    "policy = pd.read_csv('../../data/clean/policy2.csv')\n",
    "\n",
    "inventory = pd.read_csv('../../data/clean/inventory2.csv')\n",
    "staff = pd.read_csv('../../data/clean/staff2.csv')\n",
    "store = pd.read_csv('../../data/clean/store2.csv')\n",
    "client = pd.read_csv('../../data/clean/client2.csv')\n",
    "\n",
    "actor = pd.read_csv('../../data/clean/actor2.csv')\n",
    "special_feature = pd.read_csv('../../data/clean/special_feature2.csv')\n",
    "category = pd.read_csv('../../data/clean/category2.csv')\n",
    "film_has_category = pd.read_csv('../../data/clean/film_has_category2.csv')"
   ]
  },
  {
   "cell_type": "code",
   "execution_count": 9,
   "id": "1831feba",
   "metadata": {},
   "outputs": [
    {
     "data": {
      "text/html": [
       "<div>\n",
       "<style scoped>\n",
       "    .dataframe tbody tr th:only-of-type {\n",
       "        vertical-align: middle;\n",
       "    }\n",
       "\n",
       "    .dataframe tbody tr th {\n",
       "        vertical-align: top;\n",
       "    }\n",
       "\n",
       "    .dataframe thead th {\n",
       "        text-align: right;\n",
       "    }\n",
       "</style>\n",
       "<table border=\"1\" class=\"dataframe\">\n",
       "  <thead>\n",
       "    <tr style=\"text-align: right;\">\n",
       "      <th></th>\n",
       "      <th>copy_id</th>\n",
       "      <th>film_id</th>\n",
       "      <th>store_id</th>\n",
       "      <th>available</th>\n",
       "    </tr>\n",
       "  </thead>\n",
       "  <tbody>\n",
       "    <tr>\n",
       "      <th>0</th>\n",
       "      <td>1</td>\n",
       "      <td>1</td>\n",
       "      <td>3</td>\n",
       "      <td>True</td>\n",
       "    </tr>\n",
       "    <tr>\n",
       "      <th>1</th>\n",
       "      <td>2</td>\n",
       "      <td>2</td>\n",
       "      <td>2</td>\n",
       "      <td>True</td>\n",
       "    </tr>\n",
       "    <tr>\n",
       "      <th>2</th>\n",
       "      <td>3</td>\n",
       "      <td>3</td>\n",
       "      <td>1</td>\n",
       "      <td>False</td>\n",
       "    </tr>\n",
       "    <tr>\n",
       "      <th>3</th>\n",
       "      <td>4</td>\n",
       "      <td>4</td>\n",
       "      <td>4</td>\n",
       "      <td>True</td>\n",
       "    </tr>\n",
       "    <tr>\n",
       "      <th>4</th>\n",
       "      <td>5</td>\n",
       "      <td>4</td>\n",
       "      <td>3</td>\n",
       "      <td>False</td>\n",
       "    </tr>\n",
       "    <tr>\n",
       "      <th>...</th>\n",
       "      <td>...</td>\n",
       "      <td>...</td>\n",
       "      <td>...</td>\n",
       "      <td>...</td>\n",
       "    </tr>\n",
       "    <tr>\n",
       "      <th>1995</th>\n",
       "      <td>1996</td>\n",
       "      <td>997</td>\n",
       "      <td>5</td>\n",
       "      <td>False</td>\n",
       "    </tr>\n",
       "    <tr>\n",
       "      <th>1996</th>\n",
       "      <td>1997</td>\n",
       "      <td>998</td>\n",
       "      <td>1</td>\n",
       "      <td>False</td>\n",
       "    </tr>\n",
       "    <tr>\n",
       "      <th>1997</th>\n",
       "      <td>1998</td>\n",
       "      <td>999</td>\n",
       "      <td>2</td>\n",
       "      <td>False</td>\n",
       "    </tr>\n",
       "    <tr>\n",
       "      <th>1998</th>\n",
       "      <td>1999</td>\n",
       "      <td>1000</td>\n",
       "      <td>4</td>\n",
       "      <td>True</td>\n",
       "    </tr>\n",
       "    <tr>\n",
       "      <th>1999</th>\n",
       "      <td>2000</td>\n",
       "      <td>1000</td>\n",
       "      <td>2</td>\n",
       "      <td>False</td>\n",
       "    </tr>\n",
       "  </tbody>\n",
       "</table>\n",
       "<p>2000 rows × 4 columns</p>\n",
       "</div>"
      ],
      "text/plain": [
       "      copy_id  film_id  store_id  available\n",
       "0           1        1         3       True\n",
       "1           2        2         2       True\n",
       "2           3        3         1      False\n",
       "3           4        4         4       True\n",
       "4           5        4         3      False\n",
       "...       ...      ...       ...        ...\n",
       "1995     1996      997         5      False\n",
       "1996     1997      998         1      False\n",
       "1997     1998      999         2      False\n",
       "1998     1999     1000         4       True\n",
       "1999     2000     1000         2      False\n",
       "\n",
       "[2000 rows x 4 columns]"
      ]
     },
     "metadata": {},
     "output_type": "display_data"
    }
   ],
   "source": [
    "SET_invent=set(inventory[\"film_id\"])\n",
    "\n",
    "SET_film=set(film[\"film_id\"])\n",
    "\n",
    "\n",
    "#display(SET_invent.difference(SET_film)) # todos los elementos de SET_invent estan en SET_film\n",
    "#display(SET_film.difference(SET_invent)) # pero NO todos los elementos de SET_film estan en SET_invent\n",
    "\n",
    "missing_film=SET_film.difference(SET_invent)\n",
    "# add film_id\n",
    "\n",
    "\n",
    "\n",
    "display(inventory)\n",
    "\n",
    "#inventory_sub=pd.DataFrame[\"copy_id\"= \"film_id\"]\n",
    "#missing_film"
   ]
  },
  {
   "cell_type": "markdown",
   "id": "73a5d19a",
   "metadata": {},
   "source": [
    "### SqlAlchemy\n",
    "\n",
    "* Create cursor to directly connect to blockbuster DDBB in mySQL"
   ]
  },
  {
   "cell_type": "code",
   "execution_count": 10,
   "id": "88a764f5",
   "metadata": {},
   "outputs": [],
   "source": [
    "str_conn = 'mysql+pymysql://root:' + SQLpass + '@localhost:3306/blockbuster'\n",
    "cursor = create_engine(str_conn)"
   ]
  },
  {
   "cell_type": "code",
   "execution_count": 17,
   "id": "8b03953d",
   "metadata": {
    "scrolled": true
   },
   "outputs": [
    {
     "data": {
      "text/plain": [
       "array([1107, 1159,  124, 1291,   34,  689,  548, 1584, 1478, 1811, 1392,\n",
       "       1634, 1140, 1460,  782, 1324,  230, 1934,  486,  687,  995,  542,\n",
       "       1515, 1431, 1506, 1892, 1143, 1839, 1760,  308, 1985, 1976, 1332,\n",
       "        889,  728,  344, 1536, 1874, 1282, 1448,  493,  729,  534, 1640,\n",
       "        692,  556, 1779,  238, 1812, 1439, 1425,   44,  847, 1391,   10,\n",
       "         63, 1764, 1710, 1556,  635, 1060,  996,   97,  143, 1470,  911,\n",
       "        618, 1385,  336, 1941, 1293, 1688,  823,  131, 1660,  187, 1538,\n",
       "        356,  894, 1708, 1854, 1474, 1806, 1644, 1020, 1101,  599,  274,\n",
       "        993, 1233, 1057, 1093, 1553, 1181,  825, 1796, 1990, 1253,  406,\n",
       "       1316,  293,  482,  261,  725, 1114,  578, 1949,  273,   51,  801,\n",
       "        335, 1628, 1608, 1097,  445, 1597, 1305,  862, 1988, 1477,  528,\n",
       "        721,  740,  404,  144,  206, 1421, 1973, 1680,   30, 1678, 1019,\n",
       "       1694,  869, 1110, 1561, 1105,  487,  640,    5,  149,  841, 1205,\n",
       "       1092,  896,  675,  435, 1007, 1592,   29, 1084, 1518,  375, 1166,\n",
       "        678, 1622,  606, 1315,  246,  229,  529, 1306, 1523,  127,  220,\n",
       "       1346,  924, 1828, 1462,  872,  759, 1722,  754, 1814,  653,  294,\n",
       "        737,   38,  624,  951,  449,  538,  828,  901,  296, 1215,  929,\n",
       "        773, 1982,  863,  215, 1009,  368,  981, 1721,   55,  301, 1932,\n",
       "       1652, 1830,  609, 1071, 1155, 1422, 1311,  333, 1186, 1859,  581,\n",
       "       1174,  415, 1256,   23,  424,  704,  898, 1540,  109, 1363,  264,\n",
       "       1147, 1772,  136,  854,  500,  696, 1076,  798,  950,  873,  871,\n",
       "       1080, 1914,  442, 1623, 1962,  341,  723,  973,  195, 1473, 1670,\n",
       "       1382, 1011, 1954, 1048,  716,  501,  977,  474, 1337,  774,  343,\n",
       "         14, 1192,  362,  153, 1578, 1804, 1753,  410, 1879, 1929,  545,\n",
       "        384, 1008,  169,  120, 1880,  612,   69, 1187, 1426, 1301,   58,\n",
       "        283, 1850,  279,  260, 1799,  582,  147, 1090, 1890, 1226,  980,\n",
       "        103,  918, 1050,  448,  681,  515, 1888,  234,   59, 1867, 1128,\n",
       "       1177, 1865,  966, 1132,  146, 1018,  663, 1169,  925, 1194,  409,\n",
       "       1959,  292, 1173, 1860, 1406, 1362,  391, 1118,   88,  255,  182,\n",
       "         13,   84, 1557, 1574, 1522, 1534,  231,  839, 1483, 1855,  914,\n",
       "          6, 1138,  427, 1501, 1998, 1815, 1953, 1970,  726,  221, 1742,\n",
       "       1685, 1903, 1064, 1111, 1836, 1893, 1637,  252,  188,  771, 1582,\n",
       "       1434, 1239, 1961,  923,  665, 1852, 1987, 1468, 1837, 1943, 1931,\n",
       "        287, 1229,  420,  425, 1070,  685,  877,  840,   68, 1684, 1012,\n",
       "       1261, 1813, 1234, 1544, 1497,  836, 1747,  943,  763,  768, 1794,\n",
       "        320,  864,  820,  803, 1762,  527, 1336, 1133, 1632,  650, 1616,\n",
       "       1319,  826, 1596,  158, 1333,  819,  629, 1546, 1349, 1161, 1675,\n",
       "       1276, 1625, 1433,  433, 1591, 1894, 1650, 1049,  557,  736,  999,\n",
       "       1713, 1763, 1487,  389,  387,  917,  539, 1081, 1367, 1480, 1676,\n",
       "        315, 1986, 1752, 1568, 1576,  882, 1693, 1191,  580, 1907,  613,\n",
       "       1103, 1014, 1279, 1845, 1709, 1989, 1617,  795, 1572,  770, 1377,\n",
       "        677, 1494, 1702,  535,  421,  107,  849, 1720, 1249, 1778, 2000,\n",
       "        879, 1979, 1230, 1300, 1109,  218,  357, 1956,  516, 1691,  358,\n",
       "       1908, 1047,  262,  666, 1787, 1551, 1758,  370, 1745, 1432,  572,\n",
       "        180, 1598,   11, 1413, 1942, 1207, 1242,  186, 1087,  700, 1638,\n",
       "        172, 1241,  450, 1803,   90, 1270,  598, 1741, 1355,  403, 1190,\n",
       "        436,  891, 1730, 1204, 1833,  382, 1285,  698, 1655,  712,  850,\n",
       "        571, 1861,  298, 1935, 1925, 1402,  253,  171, 1528, 1193, 1951,\n",
       "        254,  749, 1550,  607,  676,  931,  330,  396, 1397, 1724, 1786,\n",
       "       1026, 1729, 1339,  800, 1521, 1202,  904, 1882, 1673,  876, 1154,\n",
       "       1373, 1939, 1126,  827, 1262, 1308,  765, 1134,  967, 1740, 1033,\n",
       "       1091,  818,  214, 1201,  805, 1849,  988,  228,  626, 1257,  385,\n",
       "        366,   20,   37, 1274,  741, 1455, 1414,  976, 1698, 1974, 1531,\n",
       "       1595, 1436, 1995, 1184,   18,   73,  564,  940,   33, 1099,  907,\n",
       "        680,  664, 1526, 1955,  831, 1886, 1210,  960,  933, 1912, 1856,\n",
       "        507,  551, 1898,   96, 1965,  834,  303, 1509, 1095, 1053,  927,\n",
       "         66, 1185,  946, 1548,  971, 1643, 1560,  457,  348, 1909])"
      ]
     },
     "execution_count": 17,
     "metadata": {},
     "output_type": "execute_result"
    }
   ],
   "source": [
    "rental.copy_id.unique()"
   ]
  },
  {
   "cell_type": "code",
   "execution_count": 16,
   "id": "2d6bd3bf",
   "metadata": {},
   "outputs": [
    {
     "data": {
      "text/plain": [
       "array([   1,    2,    3,    4,    5,    7,    8,    9,   10,   11,   12,\n",
       "         13,   14,   15,   16,   17,   18,   19,   20,   21,   22,   23,\n",
       "         25,   27,   28,   29,   30,   32,   33,   34,   35,   36,   37,\n",
       "         38,   40,   42,   43,   44,   45,   46,   47,   49,   50,   52,\n",
       "         54,   55,   56,   57,   58,   59,   60,   61,   63,   64,   66,\n",
       "         67,   68,   69,   71,   72,   73,   74,   75,   76,   78,   79,\n",
       "         81,   82,   84,   85,   86,   87,   88,   89,   90,   92,   93,\n",
       "         94,   95,   97,   98,   99,  100,  101,  102,  103,  105,  106,\n",
       "        107,  108,  109,  110,  111,  112,  113,  114,  115,  116,  117,\n",
       "        118,  120,  121,  122,  123,  124,  125,  127,  128,  129,  130,\n",
       "        131,  132,  133,  136,  137,  138,  139,  140,  141,  142,  143,\n",
       "        144,  146,  148,  149,  150,  151,  153,  154,  155,  156,  157,\n",
       "        159,  160,  161,  162,  163,  164,  165,  166,  167,  168,  169,\n",
       "        170,  171,  172,  173,  174,  175,  176,  177,  178,  179,  180,\n",
       "        181,  182,  183,  184,  185,  186,  187,  188,  189,  190,  193,\n",
       "        194,  195,  197,  198,  199,  200,  201,  202,  203,  204,  205,\n",
       "        207,  208,  209,  210,  211,  212,  213,  214,  215,  216,  217,\n",
       "        218,  219,  220,  221,  222,  224,  225,  226,  227,  228,  230,\n",
       "        231,  232,  233,  234,  236,  237,  238,  239,  240,  241,  242,\n",
       "        243,  245,  246,  247,  248,  250,  251,  253,  254,  256,  257,\n",
       "        258,  260,  261,  262,  263,  264,  265,  266,  267,  268,  270,\n",
       "        271,  272,  273,  274,  276,  277,  278,  280,  283,  285,  286,\n",
       "        287,  288,  289,  290,  291,  292,  294,  295,  296,  297,  298,\n",
       "        299,  300,  301,  302,  303,  304,  305,  306,  307,  308,  309,\n",
       "        310,  311,  313,  314,  315,  316,  317,  318,  319,  320,  321,\n",
       "        322,  323,  324,  326,  327,  328,  329,  330,  332,  333,  334,\n",
       "        335,  336,  337,  338,  339,  340,  342,  343,  344,  345,  346,\n",
       "        347,  349,  350,  351,  352,  353,  354,  355,  356,  357,  358,\n",
       "        359,  360,  361,  362,  363,  365,  366,  367,  369,  371,  372,\n",
       "        373,  374,  375,  376,  377,  378,  379,  380,  381,  382,  383,\n",
       "        384,  385,  386,  387,  388,  389,  391,  392,  393,  395,  396,\n",
       "        397,  398,  399,  400,  401,  402,  403,  404,  405,  406,  407,\n",
       "        408,  409,  410,  411,  412,  415,  416,  418,  419,  420,  421,\n",
       "        422,  423,  424,  425,  426,  427,  428,  429,  430,  431,  432,\n",
       "        433,  434,  436,  437,  438,  441,  442,  444,  445,  447,  449,\n",
       "        450,  451,  452,  453,  454,  455,  456,  458,  459,  460,  461,\n",
       "        462,  463,  464,  465,  466,  467,  468,  469,  470,  471,  472,\n",
       "        473,  474,  475,  476,  477,  478,  479,  480,  483,  485,  486,\n",
       "        487,  488,  489,  490,  491,  492,  493,  494,  496,  497,  498,\n",
       "        499,  500,  501,  502,  503,  504,  505,  506,  507,  508,  509,\n",
       "        510,  512,  513,  514,  516,  519,  520,  521,  523,  524,  525,\n",
       "        526,  527,  529,  530,  531,  534,  535,  537,  538,  539,  540,\n",
       "        541,  542,  543,  544,  545,  546,  547,  548,  549,  550,  551,\n",
       "        552,  554,  555,  556,  557,  558,  559,  560,  561,  562,  563,\n",
       "        564,  565,  566,  567,  568,  569,  570,  571,  572,  573,  575,\n",
       "        576,  577,  578,  579,  580,  581,  582,  583,  584,  585,  587,\n",
       "        588,  589,  590,  592,  593,  594,  595,  596,  597,  598,  599,\n",
       "        600,  601,  602,  603,  604,  605,  606,  607,  608,  609,  610,\n",
       "        611,  612,  613,  614,  616,  617,  620,  621,  622,  623,  624,\n",
       "        625,  626,  627,  628,  629,  630,  631,  632,  633,  634,  635,\n",
       "        636,  638,  639,  640,  641,  642,  643,  644,  645,  646,  647,\n",
       "        649,  650,  651,  652,  653,  654,  655,  656,  657,  658,  659,\n",
       "        660,  662,  663,  664,  665,  666,  667,  668,  670,  672,  674,\n",
       "        675,  676,  677,  678,  680,  681,  682,  683,  684,  685,  687,\n",
       "        688,  689,  690,  691,  693,  694,  695,  696,  697,  698,  699,\n",
       "        700,  701,  702,  703,  704,  705,  706,  707,  708,  709,  710,\n",
       "        711,  713,  714,  715,  716,  718,  719,  720,  721,  723,  724,\n",
       "        725,  726,  727,  728,  730,  731,  732,  734,  735,  737,  738,\n",
       "        739,  740,  741,  742,  746,  747,  748,  749,  750,  751,  752,\n",
       "        753,  754,  755,  756,  757,  758,  759,  760,  761,  762,  763,\n",
       "        764,  765,  766,  767,  768,  769,  770,  771,  772,  773,  774,\n",
       "        775,  776,  777,  778,  781,  782,  783,  784,  785,  787,  789,\n",
       "        790,  792,  793,  794,  795,  796,  797,  798,  799,  802,  803,\n",
       "        804,  805,  806,  807,  808,  809,  810,  811,  812,  814,  815,\n",
       "        816,  817,  819,  820,  821,  822,  823,  824,  825,  826,  827,\n",
       "        828,  829,  830,  831,  832,  833,  834,  835,  836,  837,  838,\n",
       "        839,  840,  841,  842,  843,  844,  845,  846,  847,  848,  850,\n",
       "        851,  852,  853,  854,  855,  856,  858,  859,  860,  861,  862,\n",
       "        863,  864,  867,  868,  869,  870,  871,  872,  873,  874,  875,\n",
       "        876,  877,  878,  879,  880,  881,  882,  883,  884,  885,  886,\n",
       "        887,  888,  889,  890,  891,  892,  893,  895,  897,  898,  899,\n",
       "        900,  904,  905,  907,  910,  911,  912,  913,  914,  915,  916,\n",
       "        917,  918,  919,  920,  921,  922,  923,  924,  925,  926,  928,\n",
       "        929,  930,  931,  932,  933,  934,  935,  936,  937,  938,  939,\n",
       "        940,  941,  942,  943,  944,  945,  946,  947,  948,  949,  950,\n",
       "        952,  953,  954,  955,  956,  957,  958,  959,  960,  961,  962,\n",
       "        963,  964,  965,  967,  968,  969,  970,  971,  972,  974,  975,\n",
       "        976,  977,  979,  980,  981,  982,  983,  984,  985,  986,  987,\n",
       "        988,  989,  990,  991,  992,  993,  994,  995,  996,  997,  998,\n",
       "        999, 1000])"
      ]
     },
     "execution_count": 16,
     "metadata": {},
     "output_type": "execute_result"
    }
   ],
   "source": [
    "inventory.film_id.unique()"
   ]
  },
  {
   "cell_type": "markdown",
   "id": "bf6db950",
   "metadata": {},
   "source": [
    "### 4. Load de tables to mySQL DDBB Blockbuster"
   ]
  },
  {
   "cell_type": "code",
   "execution_count": 11,
   "id": "b4fd2aee",
   "metadata": {
    "scrolled": false
   },
   "outputs": [],
   "source": [
    "rental.to_sql(name='rental',      # nombre de la tabla\n",
    "            con=cursor,          # conexion al servidor\n",
    "            if_exists='append',  # reemplaza la tabla si existe\n",
    "            index=False)\n",
    "\n",
    "film.to_sql(name='film',      # nombre de la tabla\n",
    "            con=cursor,          # conexion al servidor\n",
    "            if_exists='append',  # reemplaza la tabla si existe\n",
    "            index=False)\n",
    "\n",
    "\n",
    "policy.to_sql(name='policy',      # nombre de la tabla\n",
    "            con=cursor,          # conexion al servidor\n",
    "            if_exists='replace',  # reemplaza la tabla si existe\n",
    "            index=False)\n",
    "\n",
    "###\n",
    "\n",
    "inventory.to_sql(name='inventory',      # nombre de la tabla\n",
    "            con=cursor,          # conexion al servidor\n",
    "            if_exists='replace',  # reemplaza la tabla si existe\n",
    "            index=False)\n",
    "\n",
    "staff.to_sql(name='staff',      # nombre de la tabla\n",
    "            con=cursor,          # conexion al servidor\n",
    "            if_exists='replace',  # reemplaza la tabla si existe\n",
    "            index=False)\n",
    "\n",
    "store.to_sql(name='store',      # nombre de la tabla\n",
    "            con=cursor,          # conexion al servidor\n",
    "            if_exists='replace',  # reemplaza la tabla si existe\n",
    "            index=False)\n",
    "\n",
    "client.to_sql(name='client',      # nombre de la tabla\n",
    "            con=cursor,          # conexion al servidor\n",
    "            if_exists='replace',  # reemplaza la tabla si existe\n",
    "            index=False)\n",
    "\n",
    "###\n",
    "\n",
    "category.to_sql(name='category',      # nombre de la tabla\n",
    "            con=cursor,          # conexion al servidor\n",
    "            if_exists='replace',  # reemplaza la tabla si existe\n",
    "            index=False)\n",
    "\n",
    "film_has_category.to_sql(name='film_has_category',      # nombre de la tabla\n",
    "            con=cursor,          # conexion al servidor\n",
    "            if_exists='replace',  # reemplaza la tabla si existe\n",
    "            index=False)\n",
    "\n",
    "\n",
    "actor.to_sql(name='actor',      # nombre de la tabla\n",
    "            con=cursor,          # conexion al servidor\n",
    "            if_exists='replace',  # reemplaza la tabla si existe\n",
    "            index=False)\n",
    "\n",
    "\n",
    "special_feature.to_sql(name='special_feature',      # nombre de la tabla\n",
    "            con=cursor,          # conexion al servidor\n",
    "            if_exists='replace',  # reemplaza la tabla si existe\n",
    "            index=False)\n"
   ]
  },
  {
   "cell_type": "markdown",
   "id": "044b42c9",
   "metadata": {},
   "source": [
    "At this point, I continued editing the DDBB relations through **`mySQL Workbench`**. <br/>\n",
    "The DDBB was stored as a `.sql` file and I checked the DDBB structure is fine.\n",
    "I made some queries to extract info from the DDBB too.\n",
    "\n",
    "\n",
    "Nevertheless, I still wanted to learn how to make the PK-FK using **`sqlAlchemy`**. <br/>\n",
    "The next lines are not definite cause they still return errors in some tables."
   ]
  },
  {
   "cell_type": "markdown",
   "id": "5852c318",
   "metadata": {},
   "source": [
    "### ADD PRIMARY KEY ATTRIBUTE"
   ]
  },
  {
   "cell_type": "code",
   "execution_count": 12,
   "id": "c486f83f",
   "metadata": {},
   "outputs": [
    {
     "data": {
      "text/plain": [
       "<sqlalchemy.engine.cursor.LegacyCursorResult at 0x123447650>"
      ]
     },
     "execution_count": 12,
     "metadata": {},
     "output_type": "execute_result"
    }
   ],
   "source": [
    "cursor.execute(\"\"\"ALTER TABLE film ADD PRIMARY KEY (film_id);\"\"\")\n",
    "cursor.execute(\"\"\"ALTER TABLE actor ADD PRIMARY KEY (actor_id);\"\"\")\n",
    "cursor.execute(\"\"\"ALTER TABLE category ADD PRIMARY KEY (category_id);\"\"\")\n",
    "######cursor.execute(\"\"\"ALTER TABLE film_has_category ADD PRIMARY KEY (film_id);\"\"\")\n",
    "cursor.execute(\"\"\"ALTER TABLE policy ADD PRIMARY KEY (policy_id);\"\"\")\n",
    "cursor.execute(\"\"\"ALTER TABLE inventory ADD PRIMARY KEY (copy_id);\"\"\")\n",
    "\n",
    "\n",
    "cursor.execute(\"\"\"ALTER TABLE rental ADD PRIMARY KEY (rental_id);\"\"\")\n",
    "cursor.execute(\"\"\"ALTER TABLE staff ADD PRIMARY KEY (staff_id);\"\"\")\n",
    "cursor.execute(\"\"\"ALTER TABLE store ADD PRIMARY KEY (store_id);\"\"\")\n",
    "cursor.execute(\"\"\"ALTER TABLE client ADD PRIMARY KEY (client_id);\"\"\")"
   ]
  },
  {
   "cell_type": "markdown",
   "id": "73635e0d",
   "metadata": {},
   "source": [
    "#### This lines worked correctly"
   ]
  },
  {
   "cell_type": "markdown",
   "id": "f1bb8344",
   "metadata": {},
   "source": [
    "### ADD FORIGN KEY RELATIONS"
   ]
  },
  {
   "cell_type": "code",
   "execution_count": 13,
   "id": "8eeb84cf",
   "metadata": {},
   "outputs": [
    {
     "data": {
      "text/plain": [
       "<sqlalchemy.engine.cursor.LegacyCursorResult at 0x123217bd0>"
      ]
     },
     "execution_count": 13,
     "metadata": {},
     "output_type": "execute_result"
    }
   ],
   "source": [
    "\n",
    "cursor.execute(\"\"\"ALTER TABLE actor\n",
    "ADD CONSTRAINT film_id FOREIGN KEY (film_id) REFERENCES film (film_id);\"\"\")\n",
    "\n",
    "cursor.execute(\"\"\"ALTER TABLE film_has_category \n",
    "ADD CONSTRAINT category_id FOREIGN KEY (category_id) REFERENCES category (category_id);\"\"\")\n",
    "\n",
    "cursor.execute(\"\"\"\n",
    "ALTER TABLE rental \n",
    "ADD CONSTRAINT copy_id FOREIGN KEY (copy_id) REFERENCES inventory (copy_id),\n",
    "ADD CONSTRAINT store_id FOREIGN KEY (store_id) REFERENCES store (store_id),\n",
    "ADD CONSTRAINT client_id FOREIGN KEY (client_id) REFERENCES client (client_id),\n",
    "ADD CONSTRAINT staff_id FOREIGN KEY (staff_id) REFERENCES staff (staff_id);\n",
    "\"\"\")\n"
   ]
  },
  {
   "cell_type": "markdown",
   "id": "9f0b6cd5",
   "metadata": {},
   "source": [
    "#### This lines did not work\n",
    "The error claims I have duplicate values. </br>\n",
    "However, I checked PK's have no duplicates! Only the FK's have duplicates, which is expected in a DDBB"
   ]
  },
  {
   "cell_type": "code",
   "execution_count": null,
   "id": "cda1aeec",
   "metadata": {},
   "outputs": [],
   "source": [
    "#cursor.execute(\"\"\"ALTER TABLE film_has_category \n",
    "#ADD CONSTRAINT film_id FOREIGN KEY (film_id) REFERENCES film (film_id);\"\"\")\n",
    "\n",
    "#cursor.execute(\"\"\"ALTER TABLE special_feature \n",
    "#ADD CONSTRAINT film_id FOREIGN KEY (film_id) REFERENCES film (film_id);\"\"\")\n",
    "\n",
    "#cursor.execute(\"\"\"ALTER TABLE policy \n",
    "#ADD CONSTRAINT copy_id FOREIGN KEY (copy_id) REFERENCES inventory (copy_id);\"\"\")\n",
    "\n",
    "#cursor.execute(\"\"\"ALTER TABLE inventory \n",
    "#ADD CONSTRAINT film_id FOREIGN KEY (film_id) REFERENCES film (film_id);\"\"\")\n"
   ]
  },
  {
   "cell_type": "code",
   "execution_count": null,
   "id": "11f8d720",
   "metadata": {},
   "outputs": [],
   "source": []
  }
 ],
 "metadata": {
  "kernelspec": {
   "display_name": "env37",
   "language": "python",
   "name": "env37"
  },
  "language_info": {
   "codemirror_mode": {
    "name": "ipython",
    "version": 3
   },
   "file_extension": ".py",
   "mimetype": "text/x-python",
   "name": "python",
   "nbconvert_exporter": "python",
   "pygments_lexer": "ipython3",
   "version": "3.7.16"
  }
 },
 "nbformat": 4,
 "nbformat_minor": 5
}
