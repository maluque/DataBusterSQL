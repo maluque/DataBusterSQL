{
 "cells": [
  {
   "cell_type": "markdown",
   "id": "4baffdba",
   "metadata": {},
   "source": [
    "# Load and work with python - mySQL\n",
    "\n",
    "\n",
    "**NOTE:**\n",
    "**I LOST 5 HOURS OF JUPYTER AUTOSAVE WHEN CREATING THE DDBB** <br/>\n",
    "\n",
    "I CANNOT RECAPITULATE EXACTLY ALL THE CODE I USED TO GENERATE THE TABLES <br/>\n",
    "\n",
    "0. Import modules\n",
    "1. Define the cursor and connect to mySQL\n",
    "2. Create the DDBB  Blockbuster\n",
    "3. Load the csv tables to jupyter\n",
    "4. Load de tables to mySQL DDBB Blockbuster\n"
   ]
  },
  {
   "cell_type": "markdown",
   "id": "f8a59709",
   "metadata": {},
   "source": [
    "### 0. Import modules and set the connection"
   ]
  },
  {
   "cell_type": "code",
   "execution_count": 1,
   "id": "b1ca2aa7",
   "metadata": {},
   "outputs": [],
   "source": [
    "from logs.SQLpass import SQLpass ## my SQL passs!!!!"
   ]
  },
  {
   "cell_type": "code",
   "execution_count": 2,
   "id": "f4346010",
   "metadata": {},
   "outputs": [],
   "source": [
    "import pandas as pd\n",
    "import mysql.connector as conn\n",
    "from sqlalchemy import create_engine"
   ]
  },
  {
   "cell_type": "code",
   "execution_count": 4,
   "id": "e326904a",
   "metadata": {},
   "outputs": [
    {
     "data": {
      "text/plain": [
       "<mysql.connector.cursor_cext.CMySQLCursor at 0x120d1de90>"
      ]
     },
     "execution_count": 4,
     "metadata": {},
     "output_type": "execute_result"
    }
   ],
   "source": [
    "conexion = conn.connect(host='127.0.0.1',\n",
    "                       user='root',        # usuario\n",
    "                       passwd=SQLpass#,   # pass de SQL\n",
    "                     #  database='blockbuster'\n",
    "                       )\n",
    "\n",
    "cursor = conexion.cursor()\n",
    "cursor"
   ]
  },
  {
   "cell_type": "markdown",
   "id": "54540901",
   "metadata": {},
   "source": [
    "### SqlAlchemy\n",
    "\n",
    "* Create cursor and connect to mySQL\n",
    "* Delete blockbuster DDBB if exist\n",
    "* Create blockbuster DDBB again"
   ]
  },
  {
   "cell_type": "code",
   "execution_count": 79,
   "id": "85a6dff2",
   "metadata": {},
   "outputs": [
    {
     "data": {
      "text/plain": [
       "<sqlalchemy.engine.cursor.LegacyCursorResult at 0x1218953d0>"
      ]
     },
     "execution_count": 79,
     "metadata": {},
     "output_type": "execute_result"
    }
   ],
   "source": [
    "str_conn = 'mysql+pymysql://root:' + SQLpass + '@localhost:3306'\n",
    "cursor = create_engine(str_conn)\n",
    "\n",
    "cursor.execute('drop database if exists blockbuster;')\n",
    "cursor.execute('create database blockbuster;')"
   ]
  },
  {
   "cell_type": "markdown",
   "id": "3ae19b29",
   "metadata": {},
   "source": [
    "### 3. Load the csv tables to jupyter"
   ]
  },
  {
   "cell_type": "code",
   "execution_count": 54,
   "id": "55115457",
   "metadata": {},
   "outputs": [],
   "source": [
    "rental = pd.read_csv('../../data/clean/rental2.csv')\n",
    "film = pd.read_csv('../../data/clean/film2.csv')\n",
    "policy = pd.read_csv('../../data/clean/policy2.csv')\n",
    "\n",
    "inventory = pd.read_csv('../../data/clean/inventory2.csv')\n",
    "staff = pd.read_csv('../../data/clean/staff2.csv')\n",
    "store = pd.read_csv('../../data/clean/store2.csv')\n",
    "client = pd.read_csv('../../data/clean/client2.csv')\n",
    "\n",
    "actor = pd.read_csv('../../data/clean/actor2.csv')\n",
    "special_feature = pd.read_csv('../../data/clean/special_feature2.csv')\n",
    "category = pd.read_csv('../../data/clean/category2.csv')\n",
    "film_has_category = pd.read_csv('../../data/clean/film_has_category2.csv')"
   ]
  },
  {
   "cell_type": "markdown",
   "id": "73a5d19a",
   "metadata": {},
   "source": [
    "### SqlAlchemy\n",
    "\n",
    "* Create cursor to directly connect to blockbuster DDBB in mySQL"
   ]
  },
  {
   "cell_type": "code",
   "execution_count": 85,
   "id": "88a764f5",
   "metadata": {},
   "outputs": [],
   "source": [
    "str_conn = 'mysql+pymysql://root:' + SQLpass + '@localhost:3306/blockbuster'\n",
    "cursor = create_engine(str_conn)"
   ]
  },
  {
   "cell_type": "markdown",
   "id": "bf6db950",
   "metadata": {},
   "source": [
    "### 4. Load de tables to mySQL DDBB Blockbuster"
   ]
  },
  {
   "cell_type": "code",
   "execution_count": 81,
   "id": "b4fd2aee",
   "metadata": {
    "scrolled": false
   },
   "outputs": [],
   "source": [
    "rental.to_sql(name='rental',      # nombre de la tabla\n",
    "            con=cursor,          # conexion al servidor\n",
    "            if_exists='replace',  # reemplaza la tabla si existe\n",
    "            index=False)\n",
    "\n",
    "film.to_sql(name='film',      # nombre de la tabla\n",
    "            con=cursor,          # conexion al servidor\n",
    "            if_exists='replace',  # reemplaza la tabla si existe\n",
    "            index=False)\n",
    "\n",
    "\n",
    "policy.to_sql(name='policy',      # nombre de la tabla\n",
    "            con=cursor,          # conexion al servidor\n",
    "            if_exists='replace',  # reemplaza la tabla si existe\n",
    "            index=False)\n",
    "\n",
    "###\n",
    "\n",
    "inventory.to_sql(name='inventory',      # nombre de la tabla\n",
    "            con=cursor,          # conexion al servidor\n",
    "            if_exists='replace',  # reemplaza la tabla si existe\n",
    "            index=False)\n",
    "\n",
    "staff.to_sql(name='staff',      # nombre de la tabla\n",
    "            con=cursor,          # conexion al servidor\n",
    "            if_exists='replace',  # reemplaza la tabla si existe\n",
    "            index=False)\n",
    "\n",
    "store.to_sql(name='store',      # nombre de la tabla\n",
    "            con=cursor,          # conexion al servidor\n",
    "            if_exists='replace',  # reemplaza la tabla si existe\n",
    "            index=False)\n",
    "\n",
    "client.to_sql(name='client',      # nombre de la tabla\n",
    "            con=cursor,          # conexion al servidor\n",
    "            if_exists='replace',  # reemplaza la tabla si existe\n",
    "            index=False)\n",
    "\n",
    "###\n",
    "\n",
    "category.to_sql(name='category',      # nombre de la tabla\n",
    "            con=cursor,          # conexion al servidor\n",
    "            if_exists='replace',  # reemplaza la tabla si existe\n",
    "            index=False)\n",
    "\n",
    "film_has_category.to_sql(name='film_has_category',      # nombre de la tabla\n",
    "            con=cursor,          # conexion al servidor\n",
    "            if_exists='replace',  # reemplaza la tabla si existe\n",
    "            index=False)\n",
    "\n",
    "\n",
    "actor.to_sql(name='actor',      # nombre de la tabla\n",
    "            con=cursor,          # conexion al servidor\n",
    "            if_exists='replace',  # reemplaza la tabla si existe\n",
    "            index=False)\n",
    "\n",
    "\n",
    "special_feature.to_sql(name='special_feature',      # nombre de la tabla\n",
    "            con=cursor,          # conexion al servidor\n",
    "            if_exists='replace',  # reemplaza la tabla si existe\n",
    "            index=False)\n"
   ]
  },
  {
   "cell_type": "markdown",
   "id": "044b42c9",
   "metadata": {},
   "source": [
    "At this point, I continued editing the DDBB relations through **`mySQL Workbench`**. <br/>\n",
    "The DDBB was stored as a `.sql` file and I checked the DDBB structure is fine.\n",
    "I made some queries to extract info from the DDBB too.\n",
    "\n",
    "\n",
    "Nevertheless, I still wanted to learn how to make the PK-FK using **`sqlAlchemy`**. <br/>\n",
    "The next lines are not definite cause they still return errors in some tables."
   ]
  },
  {
   "cell_type": "markdown",
   "id": "5852c318",
   "metadata": {},
   "source": [
    "### ADD PRIMARY KEY ATTRIBUTE"
   ]
  },
  {
   "cell_type": "code",
   "execution_count": 82,
   "id": "c486f83f",
   "metadata": {},
   "outputs": [
    {
     "data": {
      "text/plain": [
       "<sqlalchemy.engine.cursor.LegacyCursorResult at 0x121852250>"
      ]
     },
     "execution_count": 82,
     "metadata": {},
     "output_type": "execute_result"
    }
   ],
   "source": [
    "cursor.execute(\"\"\"ALTER TABLE film ADD PRIMARY KEY (film_id);\"\"\")\n",
    "cursor.execute(\"\"\"ALTER TABLE actor ADD PRIMARY KEY (actor_id);\"\"\")\n",
    "cursor.execute(\"\"\"ALTER TABLE category ADD PRIMARY KEY (category_id);\"\"\")\n",
    "######cursor.execute(\"\"\"ALTER TABLE film_has_category ADD PRIMARY KEY (film_id);\"\"\")\n",
    "cursor.execute(\"\"\"ALTER TABLE policy ADD PRIMARY KEY (policy_id);\"\"\")\n",
    "cursor.execute(\"\"\"ALTER TABLE inventory ADD PRIMARY KEY (copy_id);\"\"\")\n",
    "\n",
    "\n",
    "cursor.execute(\"\"\"ALTER TABLE rental ADD PRIMARY KEY (rental_id);\"\"\")\n",
    "cursor.execute(\"\"\"ALTER TABLE staff ADD PRIMARY KEY (staff_id);\"\"\")\n",
    "cursor.execute(\"\"\"ALTER TABLE store ADD PRIMARY KEY (store_id);\"\"\")\n",
    "cursor.execute(\"\"\"ALTER TABLE client ADD PRIMARY KEY (client_id);\"\"\")"
   ]
  },
  {
   "cell_type": "markdown",
   "id": "73635e0d",
   "metadata": {},
   "source": [
    "#### This lines worked correctly"
   ]
  },
  {
   "cell_type": "markdown",
   "id": "f1bb8344",
   "metadata": {},
   "source": [
    "### ADD FORIGN KEY RELATIONS"
   ]
  },
  {
   "cell_type": "code",
   "execution_count": 78,
   "id": "8eeb84cf",
   "metadata": {},
   "outputs": [
    {
     "data": {
      "text/plain": [
       "'\\ncursor.execute(\"\"\"ALTER TABLE actor\\nADD CONSTRAINT film_id FOREIGN KEY (film_id) REFERENCES film (film_id);\"\"\")\\n\\ncursor.execute(\"\"\"ALTER TABLE film_has_category \\nADD CONSTRAINT category_id FOREIGN KEY (category_id) REFERENCES category (category_id);\"\"\")\\n\\ncursor.execute(\"\"\"\\nALTER TABLE rental \\nADD CONSTRAINT copy_id FOREIGN KEY (copy_id) REFERENCES inventory (copy_id),\\nADD CONSTRAINT store_id FOREIGN KEY (store_id) REFERENCES store (store_id),\\nADD CONSTRAINT client_id FOREIGN KEY (client_id) REFERENCES client (client_id),\\nADD CONSTRAINT staff_id FOREIGN KEY (staff_id) REFERENCES staff (staff_id);\\n\"\"\")\\n\\n'"
      ]
     },
     "execution_count": 78,
     "metadata": {},
     "output_type": "execute_result"
    }
   ],
   "source": [
    "'''\n",
    "cursor.execute(\"\"\"ALTER TABLE actor\n",
    "ADD CONSTRAINT film_id FOREIGN KEY (film_id) REFERENCES film (film_id);\"\"\")\n",
    "\n",
    "cursor.execute(\"\"\"ALTER TABLE film_has_category \n",
    "ADD CONSTRAINT category_id FOREIGN KEY (category_id) REFERENCES category (category_id);\"\"\")\n",
    "\n",
    "cursor.execute(\"\"\"\n",
    "ALTER TABLE rental \n",
    "ADD CONSTRAINT copy_id FOREIGN KEY (copy_id) REFERENCES inventory (copy_id),\n",
    "ADD CONSTRAINT store_id FOREIGN KEY (store_id) REFERENCES store (store_id),\n",
    "ADD CONSTRAINT client_id FOREIGN KEY (client_id) REFERENCES client (client_id),\n",
    "ADD CONSTRAINT staff_id FOREIGN KEY (staff_id) REFERENCES staff (staff_id);\n",
    "\"\"\")\n",
    "'''"
   ]
  },
  {
   "cell_type": "markdown",
   "id": "9f0b6cd5",
   "metadata": {},
   "source": [
    "#### This lines did not work\n",
    "The error claims I have duplicate values. </br>\n",
    "However, I checked PK's have no duplicates! Only the FK's have duplicates, which is expected in a DDBB"
   ]
  },
  {
   "cell_type": "code",
   "execution_count": null,
   "id": "cda1aeec",
   "metadata": {},
   "outputs": [],
   "source": [
    "#cursor.execute(\"\"\"ALTER TABLE film_has_category \n",
    "#ADD CONSTRAINT film_id FOREIGN KEY (film_id) REFERENCES film (film_id);\"\"\")\n",
    "\n",
    "#cursor.execute(\"\"\"ALTER TABLE special_feature \n",
    "#ADD CONSTRAINT film_id FOREIGN KEY (film_id) REFERENCES film (film_id);\"\"\")\n",
    "\n",
    "#cursor.execute(\"\"\"ALTER TABLE policy \n",
    "#ADD CONSTRAINT copy_id FOREIGN KEY (copy_id) REFERENCES inventory (copy_id);\"\"\")\n",
    "\n",
    "#cursor.execute(\"\"\"ALTER TABLE inventory \n",
    "#ADD CONSTRAINT film_id FOREIGN KEY (film_id) REFERENCES film (film_id);\"\"\")\n"
   ]
  },
  {
   "cell_type": "code",
   "execution_count": null,
   "id": "11f8d720",
   "metadata": {},
   "outputs": [],
   "source": []
  }
 ],
 "metadata": {
  "kernelspec": {
   "display_name": "env37",
   "language": "python",
   "name": "env37"
  },
  "language_info": {
   "codemirror_mode": {
    "name": "ipython",
    "version": 3
   },
   "file_extension": ".py",
   "mimetype": "text/x-python",
   "name": "python",
   "nbconvert_exporter": "python",
   "pygments_lexer": "ipython3",
   "version": "3.7.16"
  }
 },
 "nbformat": 4,
 "nbformat_minor": 5
}
