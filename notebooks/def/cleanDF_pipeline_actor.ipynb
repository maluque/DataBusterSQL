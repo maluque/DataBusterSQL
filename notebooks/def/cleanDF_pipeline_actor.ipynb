{
 "cells": [
  {
   "cell_type": "markdown",
   "id": "a932c67a",
   "metadata": {},
   "source": [
    "## A common pipeline to clean dataframes\n",
    "\n",
    "\n",
    "0. Import modules\n",
    "1. Normalize column names\n",
    "2. Eval misspelling in object non-date columns\n",
    "3. Eval & Drop duplicates without index_id `mlg.DF_wo_colX(df, colnames)`\n",
    "4. Check NAs `mlg.na_absperc(df)`\n",
    "    - By Columns\n",
    "    - By Rows\n",
    "5. Eval 'unique/freq ratio'`mlg.categ_summ(df)`\n",
    "6. Eval Data types\n",
    "7. Save the cleaned dataframe"
   ]
  },
  {
   "cell_type": "markdown",
   "id": "dbe905b3",
   "metadata": {},
   "source": [
    "## Summary of cleaning `actor.csv`\n",
    "\n",
    "\n",
    "**Original DF** had 200 rows and 4 columns `['actor_id', 'first_name', 'last_name', 'last_update']`\n",
    "\n",
    "* 1. No column name to normalize\n",
    "* 2. No misspelling values\n",
    "* 3. There is one hidden duplicated row - **NOTE !! I did not update the actor_id's!**\n",
    "* 4. Had no NA's\n",
    "* 5. Nothing striking from unique/freq ratio analysis\n",
    "* 6. No data type to transform (Date could be transformed but I prefer to do it in mySQL)\n",
    "* 7. Cleaned DF saved as `clean/actor1.csv`\n",
    "\n",
    "**Cleaned DF** has 199 rows and 4 columns `['actor_id', 'first_name', 'last_name', 'last_update']`\n"
   ]
  },
  {
   "cell_type": "markdown",
   "id": "7adeefb6",
   "metadata": {},
   "source": [
    "### 0. Import modules"
   ]
  },
  {
   "cell_type": "code",
   "execution_count": 46,
   "id": "6f346ff0",
   "metadata": {},
   "outputs": [],
   "source": [
    "# Import modules etc\n",
    "\n",
    "import pandas as pd\n",
    "import numpy as np\n",
    "import re\n",
    "\n",
    "np.random.seed(42)\n",
    "pd.set_option('display.max_columns', None) # show all the columns\n",
    "\n",
    "# print the plot in the jupyter output\n",
    "%matplotlib inline \n",
    "\n",
    "import warnings\n",
    "warnings.filterwarnings('ignore') # ignorar warnings\n",
    "\n",
    "import pylab as plt   # import matplotlib.pyplot as plt\n",
    "import seaborn as sns\n",
    "import fuzzywuzzy as fzw\n",
    "\n",
    "# Import my module\n",
    "from src import dataanalysis_fun1 as mlg "
   ]
  },
  {
   "cell_type": "code",
   "execution_count": 47,
   "id": "200d9b2a",
   "metadata": {},
   "outputs": [],
   "source": [
    "# Reload my module if neccessary\n",
    "\n",
    "import importlib\n",
    "from src import dataanalysis_fun1 as mlg # Import the module\n",
    "#importlib.reload(mlg)  # Reload the module\n",
    "\n",
    "# Suppress warning when reloading the module\n",
    "with warnings.catch_warnings():\n",
    "    warnings.simplefilter(\"ignore\") \n",
    "    importlib.reload(mlg)  # Reload the module"
   ]
  },
  {
   "cell_type": "code",
   "execution_count": 51,
   "id": "e7ff6400",
   "metadata": {},
   "outputs": [],
   "source": [
    "DF_raw = pd.read_csv('../../data/raw/actor.csv')"
   ]
  },
  {
   "cell_type": "markdown",
   "id": "9c0845ce",
   "metadata": {},
   "source": [
    "### 1. Normalize column names"
   ]
  },
  {
   "cell_type": "code",
   "execution_count": 52,
   "id": "e459af42",
   "metadata": {},
   "outputs": [
    {
     "data": {
      "text/plain": [
       "Index(['actor_id', 'first_name', 'last_name', 'last_update'], dtype='object')"
      ]
     },
     "metadata": {},
     "output_type": "display_data"
    },
    {
     "name": "stdout",
     "output_type": "stream",
     "text": [
      "Normalized column names: 0\n"
     ]
    }
   ],
   "source": [
    "display(DF_raw.columns)\n",
    "setA = set(DF_raw.columns)\n",
    "DF_raw=mlg.colnnam_clean(DF_raw)\n",
    "setB = set(DF_raw.columns)\n",
    "\n",
    "print(f'Normalized column names: {len(setB.difference(setA))}')"
   ]
  },
  {
   "cell_type": "markdown",
   "id": "8f64ba78",
   "metadata": {},
   "source": [
    "### 2. Eval misspelling in object non-date columns"
   ]
  },
  {
   "cell_type": "code",
   "execution_count": 53,
   "id": "bc64cb83",
   "metadata": {},
   "outputs": [
    {
     "name": "stdout",
     "output_type": "stream",
     "text": [
      "ACTOR_ID  ---> Non object-Column or explicit date reference\n",
      "FIRST_NAME :\n",
      "first_name\n",
      "PENELOPE      4\n",
      "KENNETH       4\n",
      "JULIA         4\n",
      "NICK          3\n",
      "DAN           3\n",
      "             ..\n",
      "JAMES         1\n",
      "JADA          1\n",
      "IAN           1\n",
      "HENRY         1\n",
      "ZERO          1\n",
      "Length: 128, dtype: int64\n",
      "\n",
      "\n",
      "LAST_NAME :\n",
      "last_name\n",
      "KILMER       5\n",
      "TEMPLE       4\n",
      "NOLTE        4\n",
      "AKROYD       3\n",
      "ALLEN        3\n",
      "            ..\n",
      "HUNT         1\n",
      "HUDSON       1\n",
      "HOPE         1\n",
      "BIRCH        1\n",
      "HURT         1\n",
      "Length: 121, dtype: int64\n",
      "\n",
      "\n",
      "LAST_UPDATE  ---> Non object-Column or explicit date reference\n"
     ]
    }
   ],
   "source": [
    "for i in DF_raw.columns: \n",
    "    if (DF_raw[i].dtype == 'object') and (\"date\" not in i):\n",
    "        print(i.upper(), \":\")\n",
    "        DF_raw[i]=DF_raw[i].apply(lambda a: a.strip()) ## Remove leading and trailing spaces \n",
    "        print(DF_raw[[i]].value_counts())\n",
    "        print(\"\\n\")\n",
    "    else:\n",
    "        print(i.upper(), \" ---> Non object-Column or explicit date reference\")\n",
    "        pass"
   ]
  },
  {
   "cell_type": "markdown",
   "id": "d8f6e026",
   "metadata": {},
   "source": [
    "### 3. eval/drop duplicates without index_id"
   ]
  },
  {
   "cell_type": "code",
   "execution_count": 54,
   "id": "9a9e8ec9",
   "metadata": {},
   "outputs": [
    {
     "name": "stdout",
     "output_type": "stream",
     "text": [
      "\n",
      "\n",
      "DUPLICATED? True\n"
     ]
    },
    {
     "data": {
      "text/html": [
       "<div>\n",
       "<style scoped>\n",
       "    .dataframe tbody tr th:only-of-type {\n",
       "        vertical-align: middle;\n",
       "    }\n",
       "\n",
       "    .dataframe tbody tr th {\n",
       "        vertical-align: top;\n",
       "    }\n",
       "\n",
       "    .dataframe thead th {\n",
       "        text-align: right;\n",
       "    }\n",
       "</style>\n",
       "<table border=\"1\" class=\"dataframe\">\n",
       "  <thead>\n",
       "    <tr style=\"text-align: right;\">\n",
       "      <th></th>\n",
       "      <th>actor_id</th>\n",
       "      <th>first_name</th>\n",
       "      <th>last_name</th>\n",
       "      <th>last_update</th>\n",
       "    </tr>\n",
       "  </thead>\n",
       "  <tbody>\n",
       "    <tr>\n",
       "      <th>109</th>\n",
       "      <td>110</td>\n",
       "      <td>SUSAN</td>\n",
       "      <td>DAVIS</td>\n",
       "      <td>2006-02-15 04:34:33</td>\n",
       "    </tr>\n",
       "  </tbody>\n",
       "</table>\n",
       "</div>"
      ],
      "text/plain": [
       "     actor_id first_name last_name          last_update\n",
       "109       110      SUSAN     DAVIS  2006-02-15 04:34:33"
      ]
     },
     "metadata": {},
     "output_type": "display_data"
    },
    {
     "data": {
      "text/plain": [
       "(200, 4)"
      ]
     },
     "metadata": {},
     "output_type": "display_data"
    },
    {
     "data": {
      "text/plain": [
       "(199, 4)"
      ]
     },
     "metadata": {},
     "output_type": "display_data"
    }
   ],
   "source": [
    "listtest=[\"actor_id\"]\n",
    "DF_raw_wo1=mlg.DF_wo_colX(DF_raw, listtest)\n",
    "\n",
    "print(\"\\n\")\n",
    "\n",
    "DF1=DF_raw.copy()\n",
    "if any(DF_raw_wo1.duplicated()): # there are duplicates!\n",
    "    print(\"DUPLICATED?\", any(DF_raw_wo1.duplicated()))\n",
    "    # Find the index positions of duplicate rows in the subset of columns\n",
    "    dup_ind = DF_raw_wo1.duplicated()\n",
    "\n",
    "    # Show the duplicate rows\n",
    "    display(DF1[dup_ind])\n",
    "\n",
    "    # Display the index positions where rows are duplicated\n",
    "    nondup_ind = dup_ind[~dup_ind].index\n",
    "    DF1 = DF1.iloc[nondup_ind]\n",
    "\n",
    "    # Reset the index to have continuous index values\n",
    "    DF1.reset_index(drop=True, inplace=True) \n",
    "else:\n",
    "    print(\"NO HIDDEN DUPLICATES\")\n",
    "    pass\n",
    "\n",
    "\n",
    "display(DF_raw.shape)\n",
    "display(DF1.shape)\n"
   ]
  },
  {
   "cell_type": "markdown",
   "id": "60ee60d3",
   "metadata": {},
   "source": [
    "### 4. check NAs again\n",
    "\n",
    "- By column\n",
    "- By row"
   ]
  },
  {
   "cell_type": "code",
   "execution_count": 55,
   "id": "500a0be2",
   "metadata": {},
   "outputs": [
    {
     "data": {
      "text/html": [
       "<div>\n",
       "<style scoped>\n",
       "    .dataframe tbody tr th:only-of-type {\n",
       "        vertical-align: middle;\n",
       "    }\n",
       "\n",
       "    .dataframe tbody tr th {\n",
       "        vertical-align: top;\n",
       "    }\n",
       "\n",
       "    .dataframe thead th {\n",
       "        text-align: right;\n",
       "    }\n",
       "</style>\n",
       "<table border=\"1\" class=\"dataframe\">\n",
       "  <thead>\n",
       "    <tr style=\"text-align: right;\">\n",
       "      <th></th>\n",
       "      <th>abs_NA</th>\n",
       "      <th>perc_NA</th>\n",
       "    </tr>\n",
       "  </thead>\n",
       "  <tbody>\n",
       "  </tbody>\n",
       "</table>\n",
       "</div>"
      ],
      "text/plain": [
       "Empty DataFrame\n",
       "Columns: [abs_NA, perc_NA]\n",
       "Index: []"
      ]
     },
     "metadata": {},
     "output_type": "display_data"
    },
    {
     "data": {
      "text/html": [
       "<div>\n",
       "<style scoped>\n",
       "    .dataframe tbody tr th:only-of-type {\n",
       "        vertical-align: middle;\n",
       "    }\n",
       "\n",
       "    .dataframe tbody tr th {\n",
       "        vertical-align: top;\n",
       "    }\n",
       "\n",
       "    .dataframe thead th {\n",
       "        text-align: right;\n",
       "    }\n",
       "</style>\n",
       "<table border=\"1\" class=\"dataframe\">\n",
       "  <thead>\n",
       "    <tr style=\"text-align: right;\">\n",
       "      <th></th>\n",
       "      <th>abs_NA</th>\n",
       "      <th>perc_NA</th>\n",
       "    </tr>\n",
       "  </thead>\n",
       "  <tbody>\n",
       "  </tbody>\n",
       "</table>\n",
       "</div>"
      ],
      "text/plain": [
       "Empty DataFrame\n",
       "Columns: [abs_NA, perc_NA]\n",
       "Index: []"
      ]
     },
     "metadata": {},
     "output_type": "display_data"
    }
   ],
   "source": [
    "display(mlg.na_absperc(DF1)) # by cols\n",
    "display(mlg.na_absperc(DF1.T)) # by rows"
   ]
  },
  {
   "cell_type": "markdown",
   "id": "36f9603e",
   "metadata": {},
   "source": [
    "### 5. unique/freq ratio"
   ]
  },
  {
   "cell_type": "code",
   "execution_count": 56,
   "id": "54757887",
   "metadata": {
    "scrolled": false
   },
   "outputs": [
    {
     "data": {
      "text/html": [
       "<div>\n",
       "<style scoped>\n",
       "    .dataframe tbody tr th:only-of-type {\n",
       "        vertical-align: middle;\n",
       "    }\n",
       "\n",
       "    .dataframe tbody tr th {\n",
       "        vertical-align: top;\n",
       "    }\n",
       "\n",
       "    .dataframe thead th {\n",
       "        text-align: right;\n",
       "    }\n",
       "</style>\n",
       "<table border=\"1\" class=\"dataframe\">\n",
       "  <thead>\n",
       "    <tr style=\"text-align: right;\">\n",
       "      <th></th>\n",
       "      <th>count</th>\n",
       "      <th>unique</th>\n",
       "      <th>top</th>\n",
       "      <th>freq</th>\n",
       "      <th>unicount_ratio</th>\n",
       "      <th>resto_abs</th>\n",
       "      <th>resto_per</th>\n",
       "    </tr>\n",
       "  </thead>\n",
       "  <tbody>\n",
       "    <tr>\n",
       "      <th>last_update</th>\n",
       "      <td>199</td>\n",
       "      <td>1</td>\n",
       "      <td>2006-02-15 04:34:33</td>\n",
       "      <td>199</td>\n",
       "      <td>0.005025</td>\n",
       "      <td>0</td>\n",
       "      <td>0.0</td>\n",
       "    </tr>\n",
       "    <tr>\n",
       "      <th>last_name</th>\n",
       "      <td>199</td>\n",
       "      <td>121</td>\n",
       "      <td>KILMER</td>\n",
       "      <td>5</td>\n",
       "      <td>0.60804</td>\n",
       "      <td>194</td>\n",
       "      <td>97.487437</td>\n",
       "    </tr>\n",
       "    <tr>\n",
       "      <th>first_name</th>\n",
       "      <td>199</td>\n",
       "      <td>128</td>\n",
       "      <td>PENELOPE</td>\n",
       "      <td>4</td>\n",
       "      <td>0.643216</td>\n",
       "      <td>195</td>\n",
       "      <td>97.98995</td>\n",
       "    </tr>\n",
       "  </tbody>\n",
       "</table>\n",
       "</div>"
      ],
      "text/plain": [
       "            count unique                  top freq unicount_ratio resto_abs  \\\n",
       "last_update   199      1  2006-02-15 04:34:33  199       0.005025         0   \n",
       "last_name     199    121               KILMER    5        0.60804       194   \n",
       "first_name    199    128             PENELOPE    4       0.643216       195   \n",
       "\n",
       "             resto_per  \n",
       "last_update        0.0  \n",
       "last_name    97.487437  \n",
       "first_name    97.98995  "
      ]
     },
     "metadata": {},
     "output_type": "display_data"
    }
   ],
   "source": [
    "display(mlg.categ_summ(DF1).sort_values(\"resto_per\", ascending =True))"
   ]
  },
  {
   "cell_type": "markdown",
   "id": "be20b629",
   "metadata": {},
   "source": [
    "### 6. data types"
   ]
  },
  {
   "cell_type": "code",
   "execution_count": 57,
   "id": "650f933a",
   "metadata": {},
   "outputs": [
    {
     "name": "stdout",
     "output_type": "stream",
     "text": [
      "<class 'pandas.core.frame.DataFrame'>\n",
      "RangeIndex: 199 entries, 0 to 198\n",
      "Data columns (total 4 columns):\n",
      " #   Column       Non-Null Count  Dtype \n",
      "---  ------       --------------  ----- \n",
      " 0   actor_id     199 non-null    int64 \n",
      " 1   first_name   199 non-null    object\n",
      " 2   last_name    199 non-null    object\n",
      " 3   last_update  199 non-null    object\n",
      "dtypes: int64(1), object(3)\n",
      "memory usage: 6.3+ KB\n"
     ]
    }
   ],
   "source": [
    "DF1.info()"
   ]
  },
  {
   "cell_type": "markdown",
   "id": "e7ff9b23",
   "metadata": {},
   "source": [
    "### 7. Save the cleaned dataframe"
   ]
  },
  {
   "cell_type": "code",
   "execution_count": 58,
   "id": "a052bc15",
   "metadata": {},
   "outputs": [],
   "source": [
    "actor1=DF1.copy()\n",
    "#actor1.to_csv('../../data/clean/actor1.csv', index=False)"
   ]
  }
 ],
 "metadata": {
  "kernelspec": {
   "display_name": "env37",
   "language": "python",
   "name": "env37"
  },
  "language_info": {
   "codemirror_mode": {
    "name": "ipython",
    "version": 3
   },
   "file_extension": ".py",
   "mimetype": "text/x-python",
   "name": "python",
   "nbconvert_exporter": "python",
   "pygments_lexer": "ipython3",
   "version": "3.7.16"
  }
 },
 "nbformat": 4,
 "nbformat_minor": 5
}
